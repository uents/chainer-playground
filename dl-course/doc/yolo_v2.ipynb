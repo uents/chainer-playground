{
 "cells": [
  {
   "cell_type": "markdown",
   "metadata": {},
   "source": [
    "# YOLOv2検討ノート"
   ]
  },
  {
   "cell_type": "code",
   "execution_count": 18,
   "metadata": {
    "collapsed": false
   },
   "outputs": [],
   "source": [
    "from __future__ import unicode_literals\n",
    "from __future__ import print_function\n",
    "import sys\n",
    "import os\n",
    "import math\n",
    "import random\n",
    "import numpy as np\n",
    "import pandas as pd\n",
    "import seaborn as sns\n",
    "import matplotlib.pyplot as plt\n",
    "import cv2\n",
    "import json\n",
    "\n",
    "import chainer\n",
    "import chainer.functions as F\n",
    "import chainer.links as L\n",
    "\n",
    "%reload_ext autoreload\n",
    "%autoreload 2\n",
    "\n",
    "%matplotlib inline\n",
    "sns.set_style('whitegrid')"
   ]
  },
  {
   "cell_type": "code",
   "execution_count": 2,
   "metadata": {
    "collapsed": false
   },
   "outputs": [
    {
     "data": {
      "text/plain": [
       "'2.7.13 |Anaconda 4.3.0 (x86_64)| (default, Dec 20 2016, 23:05:08) \\n[GCC 4.2.1 Compatible Apple LLVM 6.0 (clang-600.0.57)]'"
      ]
     },
     "execution_count": 2,
     "metadata": {},
     "output_type": "execute_result"
    }
   ],
   "source": [
    "sys.version"
   ]
  },
  {
   "cell_type": "code",
   "execution_count": 3,
   "metadata": {
    "collapsed": false
   },
   "outputs": [
    {
     "data": {
      "text/plain": [
       "'1.22.0'"
      ]
     },
     "execution_count": 3,
     "metadata": {},
     "output_type": "execute_result"
    }
   ],
   "source": [
    "chainer.__version__"
   ]
  },
  {
   "cell_type": "code",
   "execution_count": 4,
   "metadata": {
    "collapsed": false
   },
   "outputs": [
    {
     "data": {
      "text/plain": [
       "'3.1.0'"
      ]
     },
     "execution_count": 4,
     "metadata": {},
     "output_type": "execute_result"
    }
   ],
   "source": [
    "cv2.__version__"
   ]
  },
  {
   "cell_type": "code",
   "execution_count": 5,
   "metadata": {
    "collapsed": true
   },
   "outputs": [],
   "source": [
    "sys.path.append(os.path.join(os.path.dirname(os.path.abspath('__file__')), '..', 'cmd', 'yolo', 'lib'))\n",
    "from config import *\n",
    "from yolo_v2 import *\n",
    "from bounding_box import *\n",
    "from image_process import *\n",
    "\n",
    "sys.path.append(os.path.join(os.path.dirname(os.path.abspath('__file__')), '..', 'cmd', 'yolo', 'detector'))\n",
    "from yolo_trainer import *"
   ]
  },
  {
   "cell_type": "markdown",
   "metadata": {},
   "source": [
    "## データセットの読み出し"
   ]
  },
  {
   "cell_type": "code",
   "execution_count": 6,
   "metadata": {
    "collapsed": false
   },
   "outputs": [
    {
     "data": {
      "text/plain": [
       "20000"
      ]
     },
     "execution_count": 6,
     "metadata": {},
     "output_type": "execute_result"
    }
   ],
   "source": [
    "with open(os.path.join('..', 'cache', 'SingleAug', 'single_aug_catalog.json'), 'r') as fp:\n",
    "    catalog = json.load(fp)\n",
    "    \n",
    "train_dataset = filter(lambda item: item['bounding_boxes'] != [], catalog['dataset'])\n",
    "len(train_dataset)"
   ]
  },
  {
   "cell_type": "code",
   "execution_count": 137,
   "metadata": {
    "collapsed": false
   },
   "outputs": [
    {
     "data": {
      "text/plain": [
       "(0.35, 0.4666666666666667)"
      ]
     },
     "execution_count": 137,
     "metadata": {},
     "output_type": "execute_result"
    }
   ],
   "source": [
    "INPUT_SIZE / 640., INPUT_SIZE / 480."
   ]
  },
  {
   "cell_type": "code",
   "execution_count": 130,
   "metadata": {
    "collapsed": false
   },
   "outputs": [
    {
     "data": {
      "text/plain": [
       "array([[<Box x:280.0 y:135.0 w:283.0 h:310.0 c:17 o:1.0>],\n",
       "       [<Box x:19.0 y:0.0 w:592.0 h:416.0 c:11 o:1.0>],\n",
       "       [<Box x:269.0 y:207.0 w:207.0 h:211.0 c:5 o:1.0>],\n",
       "       [<Box x:404.0 y:87.0 w:97.0 h:353.0 c:15 o:1.0>],\n",
       "       [<Box x:53.0 y:127.0 w:250.0 h:291.0 c:17 o:1.0>],\n",
       "       [<Box x:270.0 y:115.0 w:191.0 h:314.0 c:12 o:1.0>],\n",
       "       [<Box x:36.0 y:0.0 w:429.0 h:425.0 c:4 o:1.0>],\n",
       "       [<Box x:9.0 y:0.0 w:452.0 h:429.0 c:4 o:1.0>],\n",
       "       [<Box x:178.0 y:0.0 w:160.0 h:432.0 c:13 o:1.0>],\n",
       "       [<Box x:102.0 y:171.0 w:512.0 h:259.0 c:7 o:1.0>]], dtype=object)"
      ]
     },
     "execution_count": 130,
     "metadata": {},
     "output_type": "execute_result"
    }
   ],
   "source": [
    "real_truth_boxes = np.asarray([[dict_to_box(box) for box in item['bounding_boxes']]\n",
    "                                for item in train_dataset])\n",
    "real_truth_boxes[0:10]"
   ]
  },
  {
   "cell_type": "code",
   "execution_count": 131,
   "metadata": {
    "collapsed": false
   },
   "outputs": [
    {
     "data": {
      "text/plain": [
       "[[<Box x:98.0 y:63.0 w:99.05 h:144.666666667 c:17 o:1.0>],\n",
       " [<Box x:6.65 y:0.0 w:207.2 h:194.133333333 c:11 o:1.0>],\n",
       " [<Box x:94.15 y:96.6 w:72.45 h:98.4666666667 c:5 o:1.0>],\n",
       " [<Box x:141.4 y:40.6 w:33.95 h:164.733333333 c:15 o:1.0>],\n",
       " [<Box x:18.55 y:59.2666666667 w:87.5 h:135.8 c:17 o:1.0>],\n",
       " [<Box x:94.5 y:53.6666666667 w:66.85 h:146.533333333 c:12 o:1.0>],\n",
       " [<Box x:12.6 y:0.0 w:150.15 h:198.333333333 c:4 o:1.0>],\n",
       " [<Box x:3.15 y:0.0 w:158.2 h:200.2 c:4 o:1.0>],\n",
       " [<Box x:62.3 y:0.0 w:56.0 h:201.6 c:13 o:1.0>],\n",
       " [<Box x:35.7 y:79.8 w:179.2 h:120.866666667 c:7 o:1.0>]]"
      ]
     },
     "execution_count": 131,
     "metadata": {},
     "output_type": "execute_result"
    }
   ],
   "source": [
    "yolo_truth_boxes = [[real_to_yolo_coord(box, 640, 480) for box in boxes]\n",
    "                    for boxes in real_truth_boxes]\n",
    "yolo_truth_boxes[0:10]"
   ]
  },
  {
   "cell_type": "code",
   "execution_count": 142,
   "metadata": {
    "collapsed": false
   },
   "outputs": [
    {
     "data": {
      "text/plain": [
       "3.0625"
      ]
     },
     "execution_count": 142,
     "metadata": {},
     "output_type": "execute_result"
    }
   ],
   "source": [
    "98.0 / 32"
   ]
  },
  {
   "cell_type": "code",
   "execution_count": 129,
   "metadata": {
    "collapsed": false
   },
   "outputs": [
    {
     "data": {
      "text/plain": [
       "[[<Box x:3.0625 y:1.96875 w:3.0953125 h:4.52083333333 c:17 o:1.0>],\n",
       " [<Box x:0.2078125 y:0.0 w:6.475 h:6.06666666667 c:11 o:1.0>],\n",
       " [<Box x:2.9421875 y:3.01875 w:2.2640625 h:3.07708333333 c:5 o:1.0>],\n",
       " [<Box x:4.41875 y:1.26875 w:1.0609375 h:5.14791666667 c:15 o:1.0>],\n",
       " [<Box x:0.5796875 y:1.85208333333 w:2.734375 h:4.24375 c:17 o:1.0>],\n",
       " [<Box x:2.953125 y:1.67708333333 w:2.0890625 h:4.57916666667 c:12 o:1.0>],\n",
       " [<Box x:0.39375 y:0.0 w:4.6921875 h:6.19791666667 c:4 o:1.0>],\n",
       " [<Box x:0.0984375 y:0.0 w:4.94375 h:6.25625 c:4 o:1.0>],\n",
       " [<Box x:1.946875 y:0.0 w:1.75 h:6.3 c:13 o:1.0>],\n",
       " [<Box x:1.115625 y:2.49375 w:5.6 h:3.77708333333 c:7 o:1.0>]]"
      ]
     },
     "execution_count": 129,
     "metadata": {},
     "output_type": "execute_result"
    }
   ],
   "source": [
    "ts = [[yolo_to_grid_coord(box) for box in boxes] for boxes in yolo_truth_boxes]\n",
    "ts[0:10]"
   ]
  },
  {
   "cell_type": "code",
   "execution_count": 144,
   "metadata": {
    "collapsed": false
   },
   "outputs": [
    {
     "data": {
      "text/plain": [
       "<Point x:4.61015625 y:4.22916666667>"
      ]
     },
     "execution_count": 144,
     "metadata": {},
     "output_type": "execute_result"
    }
   ],
   "source": [
    "ts[0][0].center"
   ]
  },
  {
   "cell_type": "code",
   "execution_count": 11,
   "metadata": {
    "collapsed": false
   },
   "outputs": [
    {
     "data": {
      "text/plain": [
       "(0.6101562500000002, 4.0)"
      ]
     },
     "execution_count": 11,
     "metadata": {},
     "output_type": "execute_result"
    }
   ],
   "source": [
    "math.modf(b.center.x)"
   ]
  },
  {
   "cell_type": "markdown",
   "metadata": {},
   "source": [
    "## 推論を実行"
   ]
  },
  {
   "cell_type": "code",
   "execution_count": 36,
   "metadata": {
    "collapsed": false
   },
   "outputs": [
    {
     "name": "stdout",
     "output_type": "stream",
     "text": [
      "load model: ../cmd/yolo/detector/detector_iter00100.model\n"
     ]
    }
   ],
   "source": [
    "model = YoloDetector()\n",
    "\n",
    "model_file = os.path.join('..', 'cmd', 'yolo', 'detector', 'detector_iter00100.model')\n",
    "if os.path.exists(model_file):\n",
    "    print('load model: %s' % model_file)\n",
    "    chainer.serializers.load_npz(model_file, model)"
   ]
  },
  {
   "cell_type": "code",
   "execution_count": 13,
   "metadata": {
    "collapsed": false
   },
   "outputs": [
    {
     "name": "stdout",
     "output_type": "stream",
     "text": [
      "14078\n"
     ]
    }
   ],
   "source": [
    "ix = np.random.randint(0,19999)\n",
    "print(ix)\n",
    "dataset = train_dataset[ix:ix+10]"
   ]
  },
  {
   "cell_type": "code",
   "execution_count": 14,
   "metadata": {
    "collapsed": false
   },
   "outputs": [
    {
     "data": {
      "text/plain": [
       "(10, (224, 224, 3))"
      ]
     },
     "execution_count": 14,
     "metadata": {},
     "output_type": "execute_result"
    }
   ],
   "source": [
    "images = [Image(item['color_image_path'], INPUT_SIZE, INPUT_SIZE).image for item in dataset]\n",
    "\n",
    "batch_size = len(images)\n",
    "batch_size, images[0].shape"
   ]
  },
  {
   "cell_type": "code",
   "execution_count": 15,
   "metadata": {
    "collapsed": false
   },
   "outputs": [],
   "source": [
    "xs = chainer.Variable(np.asarray(images).transpose(0,3,1,2).astype(np.float32) / 255.)"
   ]
  },
  {
   "cell_type": "code",
   "execution_count": 37,
   "metadata": {
    "collapsed": false
   },
   "outputs": [],
   "source": [
    "h = model.forward(xs)"
   ]
  },
  {
   "cell_type": "code",
   "execution_count": 38,
   "metadata": {
    "collapsed": false
   },
   "outputs": [
    {
     "data": {
      "text/plain": [
       "((10, 155, 1, 7),\n",
       " (10, 155, 1, 7),\n",
       " (10, 155, 1, 7),\n",
       " (10, 155, 1, 7),\n",
       " (10, 155, 1, 7),\n",
       " (10, 155, 2, 7))"
      ]
     },
     "execution_count": 38,
     "metadata": {},
     "output_type": "execute_result"
    }
   ],
   "source": [
    "px, py, pw, ph, pconf, pprob = F.split_axis(h, indices_or_sections=(1,2,3,4,5), axis=2)\n",
    "px = F.sigmoid(px)\n",
    "py = F.sigmoid(py)\n",
    "pconf = F.sigmoid(pconf)\n",
    "pprob = F.sigmoid(pprob)\n",
    "\n",
    "px.shape, py.shape, pw.shape, ph.shape, pconf.shape, pprob.shape"
   ]
  },
  {
   "cell_type": "code",
   "execution_count": 146,
   "metadata": {
    "collapsed": false
   },
   "outputs": [
    {
     "data": {
      "text/plain": [
       "6.0"
      ]
     },
     "execution_count": 146,
     "metadata": {},
     "output_type": "execute_result"
    }
   ],
   "source": [
    "7 - float(1.0)"
   ]
  },
  {
   "cell_type": "code",
   "execution_count": 74,
   "metadata": {
    "collapsed": false
   },
   "outputs": [
    {
     "data": {
      "text/plain": [
       "array([[<matplotlib.axes._subplots.AxesSubplot object at 0x116039290>]], dtype=object)"
      ]
     },
     "execution_count": 74,
     "metadata": {},
     "output_type": "execute_result"
    },
    {
     "data": {
      "image/png": "[encoded data removed]",
      "text/plain": [
       "<matplotlib.figure.Figure at 0x118440bd0>"
      ]
     },
     "metadata": {},
     "output_type": "display_data"
    }
   ],
   "source": [
    "df = pd.DataFrame(px.data.ravel())\n",
    "df.describe()\n",
    "\n",
    "df.hist(bins=100)"
   ]
  },
  {
   "cell_type": "code",
   "execution_count": 39,
   "metadata": {
    "collapsed": false
   },
   "outputs": [
    {
     "data": {
      "text/plain": [
       "array([[[[-0.15054862, -0.12858479, -0.25137579, ...,  0.16338889,\n",
       "           0.21674825,  0.22479589]],\n",
       "\n",
       "        [[ 0.83623922,  0.6110841 ,  0.39066556, ..., -0.07955901,\n",
       "          -0.25488299, -0.22489552]],\n",
       "\n",
       "        [[-0.04618618,  0.21556096,  0.05491767, ..., -0.31936574,\n",
       "          -0.54518181, -0.19545671]],\n",
       "\n",
       "        ..., \n",
       "        [[-0.06010967, -0.01834818,  0.33373502, ...,  0.22413914,\n",
       "          -0.1017428 , -0.17785785]],\n",
       "\n",
       "        [[-0.19888549,  0.59345829, -0.2411927 , ..., -0.28254509,\n",
       "          -0.24750769, -0.55700296]],\n",
       "\n",
       "        [[ 0.25616905, -0.89412361, -0.67064011, ..., -0.3042776 ,\n",
       "          -0.20303342,  0.30568326]]],\n",
       "\n",
       "\n",
       "       [[[ 0.05288893, -0.25165364, -1.00066292, ..., -1.01229823,\n",
       "          -0.95979249, -0.09122971]],\n",
       "\n",
       "        [[-0.08887807,  0.27748424, -0.07621629, ..., -0.14503922,\n",
       "           0.09541597, -0.41366845]],\n",
       "\n",
       "        [[-0.30437237,  0.19810823,  0.07709934, ..., -0.09970596,\n",
       "          -0.17351037, -0.14917469]],\n",
       "\n",
       "        ..., \n",
       "        [[-0.42104885, -0.05177626,  0.64054585, ...,  1.23496068,\n",
       "           0.62958854,  0.7546252 ]],\n",
       "\n",
       "        [[-0.27785805,  0.58997959, -0.041402  , ..., -0.68876535,\n",
       "          -0.41173014, -0.84131825]],\n",
       "\n",
       "        [[-0.53214729, -0.95343775, -0.81286877, ...,  0.12835315,\n",
       "           0.51138312, -0.33158353]]],\n",
       "\n",
       "\n",
       "       [[[ 0.10385682, -0.92424595, -0.80768961, ...,  0.08627729,\n",
       "           0.15514366,  0.0381293 ]],\n",
       "\n",
       "        [[ 0.33280367,  0.16661848,  0.44337893, ...,  0.0197215 ,\n",
       "          -0.22356237, -0.16619518]],\n",
       "\n",
       "        [[ 0.17482667, -0.16093886, -0.27267447, ..., -0.13533053,\n",
       "           0.06867909,  0.12727343]],\n",
       "\n",
       "        ..., \n",
       "        [[ 0.5748083 ,  0.89641011,  1.19148898, ...,  0.70167887,\n",
       "           0.62890208,  0.5215413 ]],\n",
       "\n",
       "        [[-0.23380245,  0.53281546, -0.22831255, ..., -0.44062421,\n",
       "          -0.36313778, -0.29463726]],\n",
       "\n",
       "        [[ 0.69939917, -0.39920977, -0.37256554, ..., -0.48526844,\n",
       "          -0.19606395,  0.11757902]]],\n",
       "\n",
       "\n",
       "       ..., \n",
       "       [[[-0.10913669, -0.87467742, -0.89334536, ..., -0.99823475,\n",
       "          -0.25001085, -0.48632336]],\n",
       "\n",
       "        [[ 0.58006728,  0.65745479,  0.18096703, ...,  1.98490059,\n",
       "           0.18961133,  0.61253917]],\n",
       "\n",
       "        [[-0.19395439, -0.59030539,  0.30142725, ...,  0.10139686,\n",
       "           0.02352582,  0.12807395]],\n",
       "\n",
       "        ..., \n",
       "        [[-0.31297278,  0.52452695, -0.05771682, ...,  0.56386298,\n",
       "          -0.77389324, -0.26951244]],\n",
       "\n",
       "        [[-0.16464272,  0.33971354,  0.19419217, ..., -1.04901624,\n",
       "          -0.91957361, -0.64507395]],\n",
       "\n",
       "        [[ 0.97945887,  0.38572437,  0.11020525, ..., -2.25123405,\n",
       "           0.33253396, -0.01570841]]],\n",
       "\n",
       "\n",
       "       [[[ 0.44106403, -1.0691222 , -0.55560696, ..., -0.60601664,\n",
       "          -0.01698462, -0.06265399]],\n",
       "\n",
       "        [[ 0.65970093,  1.45008886,  0.938586  , ...,  0.38898709,\n",
       "           0.28392211,  0.15395218]],\n",
       "\n",
       "        [[-0.63294715,  0.37128547,  0.05818444, ...,  0.0258678 ,\n",
       "           0.04109092,  0.06567508]],\n",
       "\n",
       "        ..., \n",
       "        [[ 0.52115083,  0.22861524, -0.36876118, ...,  0.69718903,\n",
       "           0.42801183,  0.41371989]],\n",
       "\n",
       "        [[-0.77677488,  0.19790453,  0.19495863, ..., -0.12900911,\n",
       "          -0.17574869, -0.13952535]],\n",
       "\n",
       "        [[-0.01271287,  0.48566458,  0.42608002, ..., -0.08332832,\n",
       "           0.0030157 ,  0.23713869]]],\n",
       "\n",
       "\n",
       "       [[[-0.30964425, -0.65729195, -0.86266935, ..., -0.77123821,\n",
       "          -0.25046292,  0.25353414]],\n",
       "\n",
       "        [[ 0.27445352,  0.82196844,  0.44628617, ...,  0.19585715,\n",
       "          -0.08573584, -0.26856935]],\n",
       "\n",
       "        [[ 0.18487641, -0.30101195,  0.01530978, ..., -0.08848903,\n",
       "          -0.19318806, -0.02885125]],\n",
       "\n",
       "        ..., \n",
       "        [[-0.06451373,  0.46122661,  0.73207444, ...,  1.05182612,\n",
       "           0.43597397,  0.51526773]],\n",
       "\n",
       "        [[-0.51504093,  0.18629107, -0.19345775, ..., -0.77795947,\n",
       "          -0.59927362, -0.49039066]],\n",
       "\n",
       "        [[ 0.75889856,  0.09879669,  0.03226264, ...,  0.18934627,\n",
       "           0.25491548,  0.3383815 ]]]], dtype=float32)"
      ]
     },
     "execution_count": 39,
     "metadata": {},
     "output_type": "execute_result"
    }
   ],
   "source": [
    "pw.data"
   ]
  },
  {
   "cell_type": "code",
   "execution_count": 84,
   "metadata": {
    "collapsed": false
   },
   "outputs": [
    {
     "data": {
      "text/plain": [
       "0    1094\n",
       "dtype: int64"
      ]
     },
     "execution_count": 84,
     "metadata": {},
     "output_type": "execute_result"
    }
   ],
   "source": [
    "df = pd.DataFrame(np.exp(ph.data.ravel()))\n",
    "df.describe()\n",
    "df[df > 3].count()"
   ]
  },
  {
   "cell_type": "code",
   "execution_count": 102,
   "metadata": {
    "collapsed": false
   },
   "outputs": [
    {
     "data": {
      "text/plain": [
       "<matplotlib.axes._subplots.AxesSubplot at 0x118bbd790>"
      ]
     },
     "execution_count": 102,
     "metadata": {},
     "output_type": "execute_result"
    },
    {
     "data": {
      "image/png": "[encoded data removed]",
      "text/plain": [
       "<matplotlib.figure.Figure at 0x119298c90>"
      ]
     },
     "metadata": {},
     "output_type": "display_data"
    }
   ],
   "source": [
    "df = pd.DataFrame(F.sigmoid(np.arange(-10,10).astype(np.float32)).data * 2.0 - 1.0,\n",
    "                  index=np.arange(-10,10))\n",
    "df.plot()"
   ]
  },
  {
   "cell_type": "code",
   "execution_count": 103,
   "metadata": {
    "collapsed": false
   },
   "outputs": [
    {
     "data": {
      "text/plain": [
       "[<matplotlib.lines.Line2D at 0x11938b310>]"
      ]
     },
     "execution_count": 103,
     "metadata": {},
     "output_type": "execute_result"
    },
    {
     "data": {
      "image/png": "[encoded data removed]",
      "text/plain": [
       "<matplotlib.figure.Figure at 0x119098510>"
      ]
     },
     "metadata": {},
     "output_type": "display_data"
    }
   ],
   "source": [
    "plt.plot(np.exp(F.sigmoid(np.arange(-10,10).astype(np.float32)).data * 2.0 - 1.0))"
   ]
  },
  {
   "cell_type": "code",
   "execution_count": 104,
   "metadata": {
    "collapsed": false
   },
   "outputs": [
    {
     "name": "stdout",
     "output_type": "stream",
     "text": [
      "load model: ../cmd/yolo/detector/detector_iter01000.model\n"
     ]
    }
   ],
   "source": [
    "model2 = YoloDetector()\n",
    "\n",
    "model_file = os.path.join('..', 'cmd', 'yolo', 'detector', 'detector_iter01000.model')\n",
    "if os.path.exists(model_file):\n",
    "    print('load model: %s' % model_file)\n",
    "    chainer.serializers.load_npz(model_file, model2)"
   ]
  },
  {
   "cell_type": "code",
   "execution_count": 105,
   "metadata": {
    "collapsed": true
   },
   "outputs": [],
   "source": [
    "h2 = model.forward(xs)"
   ]
  },
  {
   "cell_type": "code",
   "execution_count": 124,
   "metadata": {
    "collapsed": false
   },
   "outputs": [
    {
     "data": {
      "text/plain": [
       "((10, 155, 1, 7),\n",
       " (10, 155, 1, 7),\n",
       " (10, 155, 1, 7),\n",
       " (10, 155, 1, 7),\n",
       " (10, 155, 1, 7),\n",
       " (10, 155, 2, 7))"
      ]
     },
     "execution_count": 124,
     "metadata": {},
     "output_type": "execute_result"
    }
   ],
   "source": [
    "px, py, pw, ph, pconf, pprob = F.split_axis(h2, indices_or_sections=(1,2,3,4,5), axis=2)\n",
    "#px = F.sigmoid(px)\n",
    "#py = F.sigmoid(py)\n",
    "#pconf = F.sigmoid(pconf)\n",
    "#pprob = F.sigmoid(pprob)\n",
    "\n",
    "px.shape, py.shape, pw.shape, ph.shape, pconf.shape, pprob.shape"
   ]
  },
  {
   "cell_type": "code",
   "execution_count": 125,
   "metadata": {
    "collapsed": false
   },
   "outputs": [
    {
     "data": {
      "text/plain": [
       "array([[<matplotlib.axes._subplots.AxesSubplot object at 0x1a8a88550>]], dtype=object)"
      ]
     },
     "execution_count": 125,
     "metadata": {},
     "output_type": "execute_result"
    },
    {
     "data": {
      "image/png": "[encoded data removed]",
      "text/plain": [
       "<matplotlib.figure.Figure at 0x1998e9e50>"
      ]
     },
     "metadata": {},
     "output_type": "display_data"
    }
   ],
   "source": [
    "pd.DataFrame(px.data.ravel()).hist(bins=100)"
   ]
  },
  {
   "cell_type": "code",
   "execution_count": 126,
   "metadata": {
    "collapsed": false
   },
   "outputs": [
    {
     "data": {
      "text/plain": [
       "array([[<matplotlib.axes._subplots.AxesSubplot object at 0x19956f510>]], dtype=object)"
      ]
     },
     "execution_count": 126,
     "metadata": {},
     "output_type": "execute_result"
    },
    {
     "data": {
      "image/png": "[encoded data removed]",
      "text/plain": [
       "<matplotlib.figure.Figure at 0x1a8fb3cd0>"
      ]
     },
     "metadata": {},
     "output_type": "display_data"
    }
   ],
   "source": [
    "pd.DataFrame(pw.data.ravel()).hist(bins=100)"
   ]
  },
  {
   "cell_type": "code",
   "execution_count": 127,
   "metadata": {
    "collapsed": false
   },
   "outputs": [
    {
     "data": {
      "text/plain": [
       "array([[<matplotlib.axes._subplots.AxesSubplot object at 0x1a8b27990>]], dtype=object)"
      ]
     },
     "execution_count": 127,
     "metadata": {},
     "output_type": "execute_result"
    },
    {
     "data": {
      "image/png": "[encoded data removed]",
      "text/plain": [
       "<matplotlib.figure.Figure at 0x1a9705ed0>"
      ]
     },
     "metadata": {},
     "output_type": "display_data"
    }
   ],
   "source": [
    "pd.DataFrame(pconf.data.ravel()).hist(bins=100)"
   ]
  },
  {
   "cell_type": "code",
   "execution_count": 119,
   "metadata": {
    "collapsed": false
   },
   "outputs": [
    {
     "data": {
      "text/plain": [
       "array([[<matplotlib.axes._subplots.AxesSubplot object at 0x129024190>]], dtype=object)"
      ]
     },
     "execution_count": 119,
     "metadata": {},
     "output_type": "execute_result"
    },
    {
     "data": {
      "image/png": "[encoded data removed]",
      "text/plain": [
       "<matplotlib.figure.Figure at 0x1a8bc8a10>"
      ]
     },
     "metadata": {},
     "output_type": "display_data"
    }
   ],
   "source": [
    "pd.DataFrame(pprob.data.ravel()).hist(bins=100)"
   ]
  },
  {
   "cell_type": "code",
   "execution_count": null,
   "metadata": {
    "collapsed": true
   },
   "outputs": [],
   "source": []
  },
  {
   "cell_type": "code",
   "execution_count": null,
   "metadata": {
    "collapsed": true
   },
   "outputs": [],
   "source": []
  },
  {
   "cell_type": "code",
   "execution_count": null,
   "metadata": {
    "collapsed": true
   },
   "outputs": [],
   "source": []
  },
  {
   "cell_type": "markdown",
   "metadata": {},
   "source": [
    "## 教師データを作成"
   ]
  },
  {
   "cell_type": "code",
   "execution_count": null,
   "metadata": {
    "collapsed": false
   },
   "outputs": [],
   "source": [
    "tx = np.tile(0.5, px.shape) # 基本はグリッド中心\n",
    "ty = np.tile(0.5, py.shape)\n",
    "tw = np.zeros(ph.shape) # e^t,e^h = 1となるよう基本は0\n",
    "th = np.zeros(ph.shape)\n",
    "tconf = np.zeros(pconf.shape) # 基本は0\n",
    "tprob = pprob.data.copy() # 真のグリッド以外は誤差が発生ないよう推定値をコピー"
   ]
  },
  {
   "cell_type": "code",
   "execution_count": null,
   "metadata": {
    "collapsed": false
   },
   "outputs": [],
   "source": [
    "x_offsets = np.broadcast_to(np.arange(N_GRID).astype(np.float32), px.shape[1:])\n",
    "y_offsets = np.broadcast_to(np.arange(N_GRID).astype(np.float32), py.shape[1:])\n",
    "w_anchors = np.broadcast_to(np.reshape(np.array(ANCHOR_BOXES).astype(np.float32)[:, 0], (N_BOXES, 1, 1, 1)), pw.shape[1:])\n",
    "h_anchors = np.broadcast_to(np.reshape(np.array(ANCHOR_BOXES).astype(np.float32)[:, 0], (N_BOXES, 1, 1, 1)), ph.shape[1:])"
   ]
  },
  {
   "cell_type": "code",
   "execution_count": null,
   "metadata": {
    "collapsed": true
   },
   "outputs": [],
   "source": [
    "def all_pred_boxes(px, py, pw, ph):\n",
    "    x_offsets = np.broadcast_to(np.arange(N_GRID).astype(np.float32), px.shape)\n",
    "    y_offsets = np.broadcast_to(np.arange(N_GRID).astype(np.float32), py.shape)\n",
    "    w_anchors = np.broadcast_to(np.reshape(np.array(ANCHOR_BOXES).astype(np.float32)[:,0], (N_BOXES,1,1,1)), pw.shape)\n",
    "    h_anchors = np.broadcast_to(np.reshape(np.array(ANCHOR_BOXES).astype(np.float32)[:,0], (N_BOXES,1,1,1)), ph.shape)\n",
    "    return Box(x=x_offsets + F.sigmoid(px).data, y=y_offsets + F.sigmoid(py).data,\n",
    "               width=np.exp(pw) * w_anchors, height=np.exp(ph) * h_anchors)"
   ]
  },
  {
   "cell_type": "code",
   "execution_count": null,
   "metadata": {
    "collapsed": false
   },
   "outputs": [],
   "source": [
    "best_ious = []\n",
    "for batch in range(0, batch_size):\n",
    "    ious = []\n",
    "    pboxes = all_pred_boxes(px.data[batch], py.data[batch], pw.data[batch], ph.data[batch])\n",
    "    for truth_box in ground_truths[batch]:\n",
    "        tboxes = Box(\n",
    "            x=np.broadcast_to(np.array(truth_box.left).astype(np.float32), pboxes.left.shape),\n",
    "            y=np.broadcast_to(np.array(truth_box.top).astype(np.float32), pboxes.top.shape),\n",
    "            width=np.broadcast_to(np.array(truth_box.width).astype(np.float32), pboxes.width.shape),\n",
    "            height=np.broadcast_to(np.array(truth_box.height).astype(np.float32), pboxes.height.shape)\n",
    "        )\n",
    "        ious.append(Box.iou(pboxes, tboxes))\n",
    "\n",
    "    ious = np.asarray(ious)\n",
    "    best_ious.append(np.max(ious, axis=0))\n",
    "\n",
    "best_ious = np.asarray(best_ious).reshape(batch_size, N_BOXES, 1, N_GRID, N_GRID)"
   ]
  },
  {
   "cell_type": "code",
   "execution_count": null,
   "metadata": {
    "collapsed": false
   },
   "outputs": [],
   "source": [
    "best_ious.shape"
   ]
  },
  {
   "cell_type": "code",
   "execution_count": null,
   "metadata": {
    "collapsed": false
   },
   "outputs": [],
   "source": [
    "pconf[best_ious > 0.1]"
   ]
  },
  {
   "cell_type": "code",
   "execution_count": null,
   "metadata": {
    "collapsed": false
   },
   "outputs": [],
   "source": [
    "pconf.data.copy()[best_ious > 0.1]"
   ]
  },
  {
   "cell_type": "markdown",
   "metadata": {},
   "source": [
    "## 推論の結果を評価"
   ]
  },
  {
   "cell_type": "code",
   "execution_count": null,
   "metadata": {
    "collapsed": false
   },
   "outputs": [],
   "source": [
    "h.shape"
   ]
  },
  {
   "cell_type": "code",
   "execution_count": null,
   "metadata": {
    "collapsed": false
   },
   "outputs": [],
   "source": [
    "tensor = h[0]\n",
    "tensor.shape"
   ]
  },
  {
   "cell_type": "code",
   "execution_count": null,
   "metadata": {
    "collapsed": false
   },
   "outputs": [],
   "source": [
    "tensor[0].shape"
   ]
  },
  {
   "cell_type": "code",
   "execution_count": null,
   "metadata": {
    "collapsed": false
   },
   "outputs": [],
   "source": [
    "px, py, pw, ph, pconf, pprob = np.array_split(tensor[0], indices_or_sections=(1,2,3,4,5), axis=0)\n",
    "pconf = F.sigmoid(pconf).data\n",
    "\n",
    "px.shape, py.shape, pw.shape, ph.shape, pconf.shape, pprob.shape"
   ]
  },
  {
   "cell_type": "code",
   "execution_count": null,
   "metadata": {
    "collapsed": true
   },
   "outputs": [],
   "source": [
    "# グリッド毎のクラス確率を算出 (N_BOXES, N_CLASSES, N_GRID, N_GRID)\n",
    "class_prob_map = pprob * pconf\n",
    "\n",
    "# 最大クラス確率となるクラスラベルを抽出 (N_BOXES, N_GRID, N_GRID)\n",
    "class_label_map = class_prob_map.argmax(axis=0)\n",
    "\n",
    "# 最大クラス確率が閾値以上のグリッドを検出候補として抽出 (N_BOXES, N_GRID, N_GRID)\n",
    "candidate_map = class_prob_map.max(axis=0) > CLASS_PROBABILITY_THRESH\n",
    "\n",
    "# 検出候補のグリッド位置を抽出 (N_BOXES, )\n",
    "grid_cells = [Point(x=float(point[1]), y=float(point[0])) for point in np.argwhere(candidate_map)]"
   ]
  },
  {
   "cell_type": "code",
   "execution_count": null,
   "metadata": {
    "collapsed": false
   },
   "outputs": [],
   "source": [
    "px[0][candidate_map][0]"
   ]
  },
  {
   "cell_type": "code",
   "execution_count": null,
   "metadata": {
    "collapsed": false
   },
   "outputs": [],
   "source": [
    "candidates = []\n",
    "for i in six.moves.range(0, candidate_map.sum()):\n",
    "    w = np.exp(pw[candidate_map][i]) * anchor_box[0]\n",
    "    h = np.epx(ph[candidate_map][i]) * anchor_box[1]\n",
    "    x = max(px[candidate_map][i] + grid_cell.x - w/2, 0.)\n",
    "    y = max(py[candidate_map][i] + grid_cell.y - h/2, 0.)\n",
    "    w = min(w, N_GRID - x)\n",
    "    h = min(h, N_GRID - y)\n",
    "    grid_box = Box(x=x, y=y, width=w, height=h,\n",
    "                           confidence=pconf[candidate_map][i],\n",
    "                           clazz=class_label_map[candidate_map][i],\n",
    "                           objectness=class_prob_map.max(axis=0)[candidate_map][i])\n",
    "    candidates.append(grid_to_yolo_coord(grid_box, grid_cells[i]))"
   ]
  },
  {
   "cell_type": "code",
   "execution_count": null,
   "metadata": {
    "collapsed": false
   },
   "outputs": [],
   "source": [
    "pconf[0][candidate_map]"
   ]
  },
  {
   "cell_type": "code",
   "execution_count": null,
   "metadata": {
    "collapsed": false,
    "scrolled": true
   },
   "outputs": [],
   "source": [
    "plt.plot(F.tanh(np.arange(-100,100,2).astype(np.float32) / 100.).data)"
   ]
  },
  {
   "cell_type": "code",
   "execution_count": null,
   "metadata": {
    "collapsed": false
   },
   "outputs": [],
   "source": [
    "np.exp(0)"
   ]
  },
  {
   "cell_type": "code",
   "execution_count": null,
   "metadata": {
    "collapsed": false
   },
   "outputs": [],
   "source": [
    "F.tanh(np.arange(-100,100,2)).data"
   ]
  },
  {
   "cell_type": "code",
   "execution_count": 154,
   "metadata": {
    "collapsed": false
   },
   "outputs": [
    {
     "data": {
      "text/plain": [
       "<matplotlib.axes._subplots.AxesSubplot at 0x1998570d0>"
      ]
     },
     "execution_count": 154,
     "metadata": {},
     "output_type": "execute_result"
    },
    {
     "data": {
      "image/png": "[encoded data removed]",
      "text/plain": [
       "<matplotlib.figure.Figure at 0x19938f8d0>"
      ]
     },
     "metadata": {},
     "output_type": "display_data"
    }
   ],
   "source": [
    "pd.DataFrame(np.exp(np.arange(-1,1,0.1)), index=np.arange(-1,1,0.1)).plot()"
   ]
  },
  {
   "cell_type": "code",
   "execution_count": null,
   "metadata": {
    "collapsed": false
   },
   "outputs": [],
   "source": [
    "np.random.randint(0, 255, size=(1,3,224,224)) / 255."
   ]
  },
  {
   "cell_type": "code",
   "execution_count": 188,
   "metadata": {
    "collapsed": false
   },
   "outputs": [
    {
     "data": {
      "text/plain": [
       "5"
      ]
     },
     "execution_count": 188,
     "metadata": {},
     "output_type": "execute_result"
    }
   ],
   "source": [
    "ANCHOR_BOXES = np.array([[5.375, 5.03125], [5.40625, 2.6875], [2.96875, 2.53125], [1.59375, 1.78125], [1.2375, 5.25]])\n",
    "int(len(ANCHOR_BOXES))"
   ]
  },
  {
   "cell_type": "code",
   "execution_count": 189,
   "metadata": {
    "collapsed": false
   },
   "outputs": [
    {
     "data": {
      "text/plain": [
       "array([ 0.78319937,  0.70641377,  0.69590072,  0.68174421,  0.64341082,\n",
       "        0.63833827,  0.61937724,  0.61221406,  0.59390963,  0.57469907,\n",
       "        0.36671587,  0.301886  ,  0.19986209,  0.19246834,  0.17525685,\n",
       "        0.17396223,  0.15258172,  0.09165094,  0.07429834,  0.        ])"
      ]
     },
     "execution_count": 189,
     "metadata": {},
     "output_type": "execute_result"
    }
   ],
   "source": [
    "np.sort(np.asarray([0.09165094, 0.15258172, 0.69590072, 0.17525685, 0.78319937, 0.64341082,\n",
    "      0.59390963, 0.61937724, 0.61221406, 0.19246834, 0.63833827, 0.,\n",
    "      0.07429834, 0.68174421, 0.301886, 0.36671587, 0.70641377, 0.17396223,\n",
    "      0.19986209, 0.57469907]))[::-1]"
   ]
  },
  {
   "cell_type": "code",
   "execution_count": 190,
   "metadata": {
    "collapsed": false
   },
   "outputs": [
    {
     "data": {
      "text/plain": [
       "<Box x:3.0625 y:1.96875 w:3.0953125 h:4.52083333333 c:17 o:1.0>"
      ]
     },
     "execution_count": 190,
     "metadata": {},
     "output_type": "execute_result"
    }
   ],
   "source": [
    "truth_box = ts[0][0]\n",
    "truth_box"
   ]
  },
  {
   "cell_type": "code",
   "execution_count": 193,
   "metadata": {
    "collapsed": false
   },
   "outputs": [],
   "source": [
    "anchor_ious = np.asarray([Box.iou(Box(0., 0., anchor_box[0], anchor_box[1]),\n",
    "                            Box(0., 0., truth_box.width, truth_box.height))\n",
    "                    for anchor_box in ANCHOR_BOXES])"
   ]
  },
  {
   "cell_type": "code",
   "execution_count": 196,
   "metadata": {
    "collapsed": false
   },
   "outputs": [
    {
     "data": {
      "text/plain": [
       "array([ 0.51745029,  0.4117322 ,  0.53701408,  0.20287198,  0.37557939])"
      ]
     },
     "execution_count": 196,
     "metadata": {},
     "output_type": "execute_result"
    }
   ],
   "source": [
    "anchor_ious"
   ]
  },
  {
   "cell_type": "code",
   "execution_count": 195,
   "metadata": {
    "collapsed": false
   },
   "outputs": [
    {
     "data": {
      "text/plain": [
       "2"
      ]
     },
     "execution_count": 195,
     "metadata": {},
     "output_type": "execute_result"
    }
   ],
   "source": [
    "np.argmax(anchor_ious)"
   ]
  },
  {
   "cell_type": "code",
   "execution_count": null,
   "metadata": {
    "collapsed": true
   },
   "outputs": [],
   "source": []
  }
 ],
 "metadata": {
  "kernelspec": {
   "display_name": "Python 2",
   "language": "python",
   "name": "python2"
  },
  "language_info": {
   "codemirror_mode": {
    "name": "ipython",
    "version": 2
   },
   "file_extension": ".py",
   "mimetype": "text/x-python",
   "name": "python",
   "nbconvert_exporter": "python",
   "pygments_lexer": "ipython2",
   "version": "2.7.13"
  }
 },
 "nbformat": 4,
 "nbformat_minor": 2
}
