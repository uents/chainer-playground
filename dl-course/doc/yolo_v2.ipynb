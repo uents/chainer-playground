{
 "cells": [
  {
   "cell_type": "markdown",
   "metadata": {},
   "source": [
    "# YOLOv2検討ノート"
   ]
  },
  {
   "cell_type": "code",
   "execution_count": 84,
   "metadata": {
    "collapsed": false
   },
   "outputs": [],
   "source": [
    "from __future__ import unicode_literals\n",
    "from __future__ import print_function\n",
    "import sys\n",
    "import os\n",
    "import math\n",
    "import random\n",
    "import numpy as np\n",
    "import pandas as pd\n",
    "import seaborn as sns\n",
    "import matplotlib.pyplot as plt\n",
    "import cv2\n",
    "import json\n",
    "\n",
    "import chainer\n",
    "import chainer.functions as F\n",
    "import chainer.links as L\n",
    "\n",
    "%reload_ext autoreload\n",
    "%autoreload 2\n",
    "\n",
    "%matplotlib inline\n",
    "sns.set_style('whitegrid')"
   ]
  },
  {
   "cell_type": "code",
   "execution_count": 3,
   "metadata": {
    "collapsed": false
   },
   "outputs": [
    {
     "data": {
      "text/plain": [
       "'2.7.13 |Anaconda 4.3.0 (x86_64)| (default, Dec 20 2016, 23:05:08) \\n[GCC 4.2.1 Compatible Apple LLVM 6.0 (clang-600.0.57)]'"
      ]
     },
     "execution_count": 3,
     "metadata": {},
     "output_type": "execute_result"
    }
   ],
   "source": [
    "sys.version"
   ]
  },
  {
   "cell_type": "code",
   "execution_count": 4,
   "metadata": {
    "collapsed": false
   },
   "outputs": [
    {
     "data": {
      "text/plain": [
       "'1.22.0'"
      ]
     },
     "execution_count": 4,
     "metadata": {},
     "output_type": "execute_result"
    }
   ],
   "source": [
    "chainer.__version__"
   ]
  },
  {
   "cell_type": "code",
   "execution_count": 5,
   "metadata": {
    "collapsed": false
   },
   "outputs": [
    {
     "data": {
      "text/plain": [
       "'3.1.0'"
      ]
     },
     "execution_count": 5,
     "metadata": {},
     "output_type": "execute_result"
    }
   ],
   "source": [
    "cv2.__version__"
   ]
  },
  {
   "cell_type": "code",
   "execution_count": 62,
   "metadata": {
    "collapsed": false
   },
   "outputs": [],
   "source": [
    "sys.path.append(os.path.join(os.path.dirname(os.path.abspath('__file__')), '..', 'cmd', 'yolo', 'lib'))\n",
    "from config import *\n",
    "from yolo_v2 import *\n",
    "from yolo_predictor import *\n",
    "from bounding_box import *\n",
    "from image_process import *\n",
    "\n",
    "sys.path.append(os.path.join(os.path.dirname(os.path.abspath('__file__')), '..', 'cmd', 'yolo', 'detector'))\n",
    "from yolo_trainer import *"
   ]
  },
  {
   "cell_type": "markdown",
   "metadata": {},
   "source": [
    "## データセットの読み出し"
   ]
  },
  {
   "cell_type": "code",
   "execution_count": 8,
   "metadata": {
    "collapsed": false
   },
   "outputs": [
    {
     "data": {
      "text/plain": [
       "20000"
      ]
     },
     "execution_count": 8,
     "metadata": {},
     "output_type": "execute_result"
    }
   ],
   "source": [
    "with open(os.path.join('..', 'cache', 'SingleAug', 'single_aug_catalog.json'), 'r') as fp:\n",
    "    catalog = json.load(fp)\n",
    "    \n",
    "train_dataset = filter(lambda item: item['bounding_boxes'] != [], catalog['dataset'])\n",
    "len(train_dataset)"
   ]
  },
  {
   "cell_type": "code",
   "execution_count": 9,
   "metadata": {
    "collapsed": false
   },
   "outputs": [
    {
     "data": {
      "text/plain": [
       "(0.35, 0.4666666666666667)"
      ]
     },
     "execution_count": 9,
     "metadata": {},
     "output_type": "execute_result"
    }
   ],
   "source": [
    "INPUT_SIZE / 640., INPUT_SIZE / 480."
   ]
  },
  {
   "cell_type": "code",
   "execution_count": 10,
   "metadata": {
    "collapsed": false
   },
   "outputs": [
    {
     "data": {
      "text/plain": [
       "array([[<Box x:280.0 y:135.0 w:283.0 h:310.0 c:17 o:1.0>],\n",
       "       [<Box x:19.0 y:0.0 w:592.0 h:416.0 c:11 o:1.0>],\n",
       "       [<Box x:269.0 y:207.0 w:207.0 h:211.0 c:5 o:1.0>],\n",
       "       [<Box x:404.0 y:87.0 w:97.0 h:353.0 c:15 o:1.0>],\n",
       "       [<Box x:53.0 y:127.0 w:250.0 h:291.0 c:17 o:1.0>],\n",
       "       [<Box x:270.0 y:115.0 w:191.0 h:314.0 c:12 o:1.0>],\n",
       "       [<Box x:36.0 y:0.0 w:429.0 h:425.0 c:4 o:1.0>],\n",
       "       [<Box x:9.0 y:0.0 w:452.0 h:429.0 c:4 o:1.0>],\n",
       "       [<Box x:178.0 y:0.0 w:160.0 h:432.0 c:13 o:1.0>],\n",
       "       [<Box x:102.0 y:171.0 w:512.0 h:259.0 c:7 o:1.0>]], dtype=object)"
      ]
     },
     "execution_count": 10,
     "metadata": {},
     "output_type": "execute_result"
    }
   ],
   "source": [
    "real_truth_boxes = np.asarray([[dict_to_box(box) for box in item['bounding_boxes']]\n",
    "                                for item in train_dataset])\n",
    "real_truth_boxes[0:10]"
   ]
  },
  {
   "cell_type": "code",
   "execution_count": 11,
   "metadata": {
    "collapsed": false
   },
   "outputs": [
    {
     "data": {
      "text/plain": [
       "[[<Box x:98.0 y:63.0 w:99.05 h:144.666666667 c:17 o:1.0>],\n",
       " [<Box x:6.65 y:0.0 w:207.2 h:194.133333333 c:11 o:1.0>],\n",
       " [<Box x:94.15 y:96.6 w:72.45 h:98.4666666667 c:5 o:1.0>],\n",
       " [<Box x:141.4 y:40.6 w:33.95 h:164.733333333 c:15 o:1.0>],\n",
       " [<Box x:18.55 y:59.2666666667 w:87.5 h:135.8 c:17 o:1.0>],\n",
       " [<Box x:94.5 y:53.6666666667 w:66.85 h:146.533333333 c:12 o:1.0>],\n",
       " [<Box x:12.6 y:0.0 w:150.15 h:198.333333333 c:4 o:1.0>],\n",
       " [<Box x:3.15 y:0.0 w:158.2 h:200.2 c:4 o:1.0>],\n",
       " [<Box x:62.3 y:0.0 w:56.0 h:201.6 c:13 o:1.0>],\n",
       " [<Box x:35.7 y:79.8 w:179.2 h:120.866666667 c:7 o:1.0>]]"
      ]
     },
     "execution_count": 11,
     "metadata": {},
     "output_type": "execute_result"
    }
   ],
   "source": [
    "yolo_truth_boxes = [[real_to_yolo_coord(box, 640, 480) for box in boxes]\n",
    "                    for boxes in real_truth_boxes]\n",
    "yolo_truth_boxes[0:10]"
   ]
  },
  {
   "cell_type": "code",
   "execution_count": 12,
   "metadata": {
    "collapsed": false
   },
   "outputs": [
    {
     "data": {
      "text/plain": [
       "[[<Box x:3.0625 y:1.96875 w:3.0953125 h:4.52083333333 c:17 o:1.0>],\n",
       " [<Box x:0.2078125 y:0.0 w:6.475 h:6.06666666667 c:11 o:1.0>],\n",
       " [<Box x:2.9421875 y:3.01875 w:2.2640625 h:3.07708333333 c:5 o:1.0>],\n",
       " [<Box x:4.41875 y:1.26875 w:1.0609375 h:5.14791666667 c:15 o:1.0>],\n",
       " [<Box x:0.5796875 y:1.85208333333 w:2.734375 h:4.24375 c:17 o:1.0>],\n",
       " [<Box x:2.953125 y:1.67708333333 w:2.0890625 h:4.57916666667 c:12 o:1.0>],\n",
       " [<Box x:0.39375 y:0.0 w:4.6921875 h:6.19791666667 c:4 o:1.0>],\n",
       " [<Box x:0.0984375 y:0.0 w:4.94375 h:6.25625 c:4 o:1.0>],\n",
       " [<Box x:1.946875 y:0.0 w:1.75 h:6.3 c:13 o:1.0>],\n",
       " [<Box x:1.115625 y:2.49375 w:5.6 h:3.77708333333 c:7 o:1.0>]]"
      ]
     },
     "execution_count": 12,
     "metadata": {},
     "output_type": "execute_result"
    }
   ],
   "source": [
    "ts = [[yolo_to_grid_coord(box) for box in boxes] for boxes in yolo_truth_boxes]\n",
    "ts[0:10]"
   ]
  },
  {
   "cell_type": "code",
   "execution_count": 13,
   "metadata": {
    "collapsed": false
   },
   "outputs": [
    {
     "data": {
      "text/plain": [
       "<Point x:4.61015625 y:4.22916666667>"
      ]
     },
     "execution_count": 13,
     "metadata": {},
     "output_type": "execute_result"
    }
   ],
   "source": [
    "ts[0][0].center"
   ]
  },
  {
   "cell_type": "markdown",
   "metadata": {},
   "source": [
    "## 順伝播を実行"
   ]
  },
  {
   "cell_type": "code",
   "execution_count": 14,
   "metadata": {
    "collapsed": false
   },
   "outputs": [
    {
     "name": "stdout",
     "output_type": "stream",
     "text": [
      "load model: ../cmd/yolo/detector/snapshot_2017-04-16_193757/detector_final.model\n"
     ]
    }
   ],
   "source": [
    "model = YoloDetector()\n",
    "\n",
    "model_file = os.path.join('..', 'cmd', 'yolo', 'detector', 'snapshot_2017-04-16_193757', 'detector_final.model')\n",
    "if os.path.exists(model_file):\n",
    "    print('load model: %s' % model_file)\n",
    "    chainer.serializers.load_npz(model_file, model)"
   ]
  },
  {
   "cell_type": "code",
   "execution_count": 15,
   "metadata": {
    "collapsed": false
   },
   "outputs": [
    {
     "name": "stdout",
     "output_type": "stream",
     "text": [
      "9441\n"
     ]
    }
   ],
   "source": [
    "ix = np.random.randint(0,19999)\n",
    "print(ix)\n",
    "dataset = train_dataset[ix:ix+10]"
   ]
  },
  {
   "cell_type": "code",
   "execution_count": 16,
   "metadata": {
    "collapsed": false
   },
   "outputs": [
    {
     "data": {
      "text/plain": [
       "(10, (224, 224, 3))"
      ]
     },
     "execution_count": 16,
     "metadata": {},
     "output_type": "execute_result"
    }
   ],
   "source": [
    "images = [Image(item['color_image_path'], INPUT_SIZE, INPUT_SIZE).image for item in dataset]\n",
    "\n",
    "batch_size = len(images)\n",
    "batch_size, images[0].shape"
   ]
  },
  {
   "cell_type": "code",
   "execution_count": 17,
   "metadata": {
    "collapsed": false
   },
   "outputs": [],
   "source": [
    "xs = chainer.Variable(np.asarray(images).transpose(0,3,1,2).astype(np.float32) / 255.)"
   ]
  },
  {
   "cell_type": "code",
   "execution_count": 18,
   "metadata": {
    "collapsed": false
   },
   "outputs": [],
   "source": [
    "h = model.forward(xs)"
   ]
  },
  {
   "cell_type": "code",
   "execution_count": 19,
   "metadata": {
    "collapsed": false
   },
   "outputs": [
    {
     "data": {
      "text/plain": [
       "(10, 5, 31, 7, 7)"
      ]
     },
     "execution_count": 19,
     "metadata": {},
     "output_type": "execute_result"
    }
   ],
   "source": [
    "h.shape"
   ]
  },
  {
   "cell_type": "code",
   "execution_count": 39,
   "metadata": {
    "collapsed": false
   },
   "outputs": [
    {
     "data": {
      "text/plain": [
       "((10, 155, 1, 7),\n",
       " (10, 155, 1, 7),\n",
       " (10, 155, 1, 7),\n",
       " (10, 155, 1, 7),\n",
       " (10, 155, 1, 7),\n",
       " (10, 155, 2, 7))"
      ]
     },
     "execution_count": 39,
     "metadata": {},
     "output_type": "execute_result"
    }
   ],
   "source": [
    "px, py, pw, ph, pconf, pprob = F.split_axis(h, indices_or_sections=(1,2,3,4,5), axis=2)\n",
    "px = F.sigmoid(px)\n",
    "py = F.sigmoid(py)\n",
    "pconf = F.sigmoid(pconf)\n",
    "pprob = F.sigmoid(pprob)\n",
    "\n",
    "px.shape, py.shape, pw.shape, ph.shape, pconf.shape, pprob.shape"
   ]
  },
  {
   "cell_type": "code",
   "execution_count": 40,
   "metadata": {
    "collapsed": false
   },
   "outputs": [
    {
     "data": {
      "text/plain": [
       "<matplotlib.axes._subplots.AxesSubplot at 0x2086805d0>"
      ]
     },
     "execution_count": 40,
     "metadata": {},
     "output_type": "execute_result"
    },
    {
     "data": {
      "image/png": "[encoded data removed]",
      "text/plain": [
       "<matplotlib.figure.Figure at 0x133ab9190>"
      ]
     },
     "metadata": {},
     "output_type": "display_data"
    }
   ],
   "source": [
    "df = pd.DataFrame(F.sigmoid(np.arange(-10,10).astype(np.float32)).data * 2.0 - 1.0,\n",
    "                  index=np.arange(-10,10))\n",
    "df.plot()"
   ]
  },
  {
   "cell_type": "code",
   "execution_count": 41,
   "metadata": {
    "collapsed": false
   },
   "outputs": [
    {
     "data": {
      "text/plain": [
       "[<matplotlib.lines.Line2D at 0x1063c0a50>]"
      ]
     },
     "execution_count": 41,
     "metadata": {},
     "output_type": "execute_result"
    },
    {
     "data": {
      "image/png": "[encoded data removed]",
      "text/plain": [
       "<matplotlib.figure.Figure at 0x2089131d0>"
      ]
     },
     "metadata": {},
     "output_type": "display_data"
    }
   ],
   "source": [
    "plt.plot(np.exp(F.sigmoid(np.arange(-10,10).astype(np.float32)).data * 2.0 - 1.0))"
   ]
  },
  {
   "cell_type": "code",
   "execution_count": 42,
   "metadata": {
    "collapsed": false
   },
   "outputs": [
    {
     "data": {
      "text/plain": [
       "array([[<matplotlib.axes._subplots.AxesSubplot object at 0x208672f10>]], dtype=object)"
      ]
     },
     "execution_count": 42,
     "metadata": {},
     "output_type": "execute_result"
    },
    {
     "data": {
      "image/png": "[encoded data removed]",
      "text/plain": [
       "<matplotlib.figure.Figure at 0x114d7c9d0>"
      ]
     },
     "metadata": {},
     "output_type": "display_data"
    }
   ],
   "source": [
    "pd.DataFrame(px.data.ravel()).hist(bins=100)"
   ]
  },
  {
   "cell_type": "code",
   "execution_count": 43,
   "metadata": {
    "collapsed": false
   },
   "outputs": [
    {
     "data": {
      "text/plain": [
       "array([[<matplotlib.axes._subplots.AxesSubplot object at 0x20adf9450>]], dtype=object)"
      ]
     },
     "execution_count": 43,
     "metadata": {},
     "output_type": "execute_result"
    },
    {
     "data": {
      "image/png": "[encoded data removed]",
      "text/plain": [
       "<matplotlib.figure.Figure at 0x106392590>"
      ]
     },
     "metadata": {},
     "output_type": "display_data"
    }
   ],
   "source": [
    "pd.DataFrame(pw.data.ravel()).hist(bins=100)"
   ]
  },
  {
   "cell_type": "code",
   "execution_count": 44,
   "metadata": {
    "collapsed": false
   },
   "outputs": [
    {
     "data": {
      "text/plain": [
       "array([[<matplotlib.axes._subplots.AxesSubplot object at 0x218204f50>]], dtype=object)"
      ]
     },
     "execution_count": 44,
     "metadata": {},
     "output_type": "execute_result"
    },
    {
     "data": {
      "image/png": "[encoded data removed]",
      "text/plain": [
       "<matplotlib.figure.Figure at 0x12e018950>"
      ]
     },
     "metadata": {},
     "output_type": "display_data"
    }
   ],
   "source": [
    "pd.DataFrame(pconf.data.ravel()).hist(bins=100)"
   ]
  },
  {
   "cell_type": "code",
   "execution_count": 45,
   "metadata": {
    "collapsed": false
   },
   "outputs": [
    {
     "data": {
      "text/plain": [
       "array([[<matplotlib.axes._subplots.AxesSubplot object at 0x2087ebf10>]], dtype=object)"
      ]
     },
     "execution_count": 45,
     "metadata": {},
     "output_type": "execute_result"
    },
    {
     "data": {
      "image/png": "[encoded data removed]",
      "text/plain": [
       "<matplotlib.figure.Figure at 0x12e38a4d0>"
      ]
     },
     "metadata": {},
     "output_type": "display_data"
    }
   ],
   "source": [
    "pd.DataFrame(pprob.data.ravel()).hist(bins=100)"
   ]
  },
  {
   "cell_type": "markdown",
   "metadata": {
    "collapsed": true
   },
   "source": [
    "## 推論を実行"
   ]
  },
  {
   "cell_type": "code",
   "execution_count": 21,
   "metadata": {
    "collapsed": false
   },
   "outputs": [
    {
     "data": {
      "text/plain": [
       "(10, 5, 31, 7, 7)"
      ]
     },
     "execution_count": 21,
     "metadata": {},
     "output_type": "execute_result"
    }
   ],
   "source": [
    "h = model.predict(xs)\n",
    "\n",
    "h.shape"
   ]
  },
  {
   "cell_type": "code",
   "execution_count": 27,
   "metadata": {
    "collapsed": true
   },
   "outputs": [],
   "source": [
    "for batch in six.moves.range(0, batch_size):\n",
    "    tensors = h[batch]\n",
    "    break"
   ]
  },
  {
   "cell_type": "code",
   "execution_count": 29,
   "metadata": {
    "collapsed": false
   },
   "outputs": [
    {
     "data": {
      "text/plain": [
       "(31, 7, 7)"
      ]
     },
     "execution_count": 29,
     "metadata": {},
     "output_type": "execute_result"
    }
   ],
   "source": [
    "tensor = tensors[0]\n",
    "tensor.shape"
   ]
  },
  {
   "cell_type": "code",
   "execution_count": 37,
   "metadata": {
    "collapsed": false
   },
   "outputs": [
    {
     "data": {
      "text/plain": [
       "((1, 7, 7), (1, 7, 7), (1, 7, 7), (1, 7, 7), (1, 7, 7), (26, 7, 7))"
      ]
     },
     "execution_count": 37,
     "metadata": {},
     "output_type": "execute_result"
    }
   ],
   "source": [
    "px, py, pw, ph, pconf, pprob = np.array_split(tensor, indices_or_sections=(1,2,3,4,5), axis=0)\n",
    "px.shape, py.shape, pw.shape, ph.shape, pconf.shape, pprob.shape"
   ]
  },
  {
   "cell_type": "code",
   "execution_count": 91,
   "metadata": {
    "collapsed": false
   },
   "outputs": [
    {
     "name": "stdout",
     "output_type": "stream",
     "text": [
      "(31, 7, 7)\n",
      "(31, 7, 7)\n",
      "(31, 7, 7)\n",
      "(31, 7, 7)\n",
      "(31, 7, 7)\n"
     ]
    },
    {
     "data": {
      "text/plain": [
       "[{u'bounding_box': <Box x:0.0 y:0.0 w:5.36378335208 h:5.34484065324 c:24 o:0.0116229793057>,\n",
       "  u'grid_cell': <Point x:0.0 y:0.0>},\n",
       " {u'bounding_box': <Box x:0.0 y:0.0 w:5.81349337101 h:5.11981229484 c:1 o:0.0137211233377>,\n",
       "  u'grid_cell': <Point x:1.0 y:0.0>},\n",
       " {u'bounding_box': <Box x:0.0 y:0.0 w:5.55217248201 h:5.13758713007 c:9 o:0.0125717334449>,\n",
       "  u'grid_cell': <Point x:2.0 y:0.0>},\n",
       " {u'bounding_box': <Box x:0.695677131414 y:0.0 w:5.5168697238 h:5.09562050179 c:9 o:0.0115273986012>,\n",
       "  u'grid_cell': <Point x:3.0 y:0.0>},\n",
       " {u'bounding_box': <Box x:1.75675602257 y:0.0 w:5.24324397743 h:5.04924795032 c:9 o:0.0126066785306>,\n",
       "  u'grid_cell': <Point x:4.0 y:0.0>},\n",
       " {u'bounding_box': <Box x:2.80961772799 y:0.0 w:4.19038227201 h:5.12996822968 c:24 o:0.0052419132553>,\n",
       "  u'grid_cell': <Point x:5.0 y:0.0>},\n",
       " {u'bounding_box': <Box x:3.86895987764 y:0.0 w:3.13104012236 h:5.14749535918 c:24 o:0.00539302686229>,\n",
       "  u'grid_cell': <Point x:6.0 y:0.0>},\n",
       " {u'bounding_box': <Box x:0.0 y:0.0 w:5.34464254975 h:5.27600305155 c:24 o:0.0126486960799>,\n",
       "  u'grid_cell': <Point x:0.0 y:1.0>},\n",
       " {u'bounding_box': <Box x:0.0 y:0.0 w:6.33677333593 h:5.07606254518 c:9 o:0.0168885141611>,\n",
       "  u'grid_cell': <Point x:1.0 y:1.0>},\n",
       " {u'bounding_box': <Box x:0.0 y:0.0 w:5.80776634812 h:4.50555187091 c:9 o:0.00441106315702>,\n",
       "  u'grid_cell': <Point x:2.0 y:1.0>},\n",
       " {u'bounding_box': <Box x:0.654425010085 y:0.0 w:5.62406334281 h:4.70972316712 c:9 o:0.00866611022502>,\n",
       "  u'grid_cell': <Point x:3.0 y:1.0>},\n",
       " {u'bounding_box': <Box x:1.63791007549 y:0.0 w:5.36208992451 h:5.33505957574 c:9 o:0.00961904413998>,\n",
       "  u'grid_cell': <Point x:4.0 y:1.0>},\n",
       " {u'bounding_box': <Box x:2.83044652641 y:0.0 w:4.16955347359 h:5.14826006815 c:24 o:0.00330950878561>,\n",
       "  u'grid_cell': <Point x:5.0 y:1.0>},\n",
       " {u'bounding_box': <Box x:3.84822397679 y:0.0 w:3.15177602321 h:4.99194575846 c:24 o:0.0032032513991>,\n",
       "  u'grid_cell': <Point x:6.0 y:1.0>},\n",
       " {u'bounding_box': <Box x:0.0 y:0.0 w:5.43349854648 h:5.3978580758 c:14 o:0.0182009153068>,\n",
       "  u'grid_cell': <Point x:0.0 y:2.0>},\n",
       " {u'bounding_box': <Box x:0.0 y:0.0455606076866 w:6.72304366529 h:4.86512462422 c:9 o:0.0304982047528>,\n",
       "  u'grid_cell': <Point x:1.0 y:2.0>},\n",
       " {u'bounding_box': <Box x:0.0 y:0.0 w:5.53896726668 h:5.3216354847 c:9 o:0.0256299506873>,\n",
       "  u'grid_cell': <Point x:2.0 y:2.0>},\n",
       " {u'bounding_box': <Box x:0.470337994397 y:0.0774394441396 w:5.8849401921 h:4.9776010178 c:9 o:0.0179761890322>,\n",
       "  u'grid_cell': <Point x:3.0 y:2.0>},\n",
       " {u'bounding_box': <Box x:1.66340906173 y:0.0 w:5.33659093827 h:5.6351907514 c:9 o:0.014416529797>,\n",
       "  u'grid_cell': <Point x:4.0 y:2.0>},\n",
       " {u'bounding_box': <Box x:2.80072626472 y:0.0 w:4.19927373528 h:5.12976490706 c:24 o:0.00409326748922>,\n",
       "  u'grid_cell': <Point x:5.0 y:2.0>},\n",
       " {u'bounding_box': <Box x:3.82448813692 y:0.00374946463853 w:3.17551186308 h:4.99656729959 c:24 o:0.00280056660995>,\n",
       "  u'grid_cell': <Point x:6.0 y:2.0>},\n",
       " {u'bounding_box': <Box x:0.0 y:0.904301784933 w:5.21155942976 h:5.17014034092 c:13 o:0.0270061381161>,\n",
       "  u'grid_cell': <Point x:0.0 y:3.0>},\n",
       " {u'bounding_box': <Box x:0.0 y:0.643488019705 w:6.12146662176 h:5.67741048336 c:9 o:0.0274024847895>,\n",
       "  u'grid_cell': <Point x:1.0 y:3.0>},\n",
       " {u'bounding_box': <Box x:0.0 y:0.539095904678 w:5.50007374585 h:5.79550433904 c:9 o:0.0346476323903>,\n",
       "  u'grid_cell': <Point x:2.0 y:3.0>},\n",
       " {u'bounding_box': <Box x:0.487542212009 y:0.692386951298 w:5.9778149724 h:5.61873001605 c:9 o:0.0272651910782>,\n",
       "  u'grid_cell': <Point x:3.0 y:3.0>},\n",
       " {u'bounding_box': <Box x:1.59798277915 y:1.0685660895 w:5.40201722085 h:4.93230985478 c:9 o:0.0187679678202>,\n",
       "  u'grid_cell': <Point x:4.0 y:3.0>},\n",
       " {u'bounding_box': <Box x:2.87389173731 y:0.943421954289 w:4.12610826269 h:5.06050146744 c:24 o:0.00378282135352>,\n",
       "  u'grid_cell': <Point x:5.0 y:3.0>},\n",
       " {u'bounding_box': <Box x:3.78150516003 y:0.965181063861 w:3.21849483997 h:5.0668200627 c:24 o:0.00288212159649>,\n",
       "  u'grid_cell': <Point x:6.0 y:3.0>},\n",
       " {u'bounding_box': <Box x:0.0 y:1.92129259557 w:5.16118527204 h:5.07870740443 c:13 o:0.0246283859015>,\n",
       "  u'grid_cell': <Point x:0.0 y:4.0>},\n",
       " {u'bounding_box': <Box x:0.0 y:1.90587810986 w:6.00690053403 h:5.09412189014 c:9 o:0.00745277386159>,\n",
       "  u'grid_cell': <Point x:1.0 y:4.0>},\n",
       " {u'bounding_box': <Box x:0.0 y:2.1065826891 w:5.80365337431 h:4.8909648899 c:9 o:0.00574842654169>,\n",
       "  u'grid_cell': <Point x:2.0 y:4.0>},\n",
       " {u'bounding_box': <Box x:0.751761868596 y:2.09140418004 w:5.51527938247 h:4.90859581996 c:9 o:0.00749129010364>,\n",
       "  u'grid_cell': <Point x:3.0 y:4.0>},\n",
       " {u'bounding_box': <Box x:1.70783832669 y:2.178520374 w:5.29216167331 h:4.79917432368 c:16 o:0.00927489902824>,\n",
       "  u'grid_cell': <Point x:4.0 y:4.0>},\n",
       " {u'bounding_box': <Box x:2.93289874122 y:1.9393491447 w:4.06710125878 h:5.0606508553 c:24 o:0.00259407213889>,\n",
       "  u'grid_cell': <Point x:5.0 y:4.0>},\n",
       " {u'bounding_box': <Box x:3.82166356221 y:1.98325994052 w:3.17833643779 h:5.00765438005 c:24 o:0.00301967025734>,\n",
       "  u'grid_cell': <Point x:6.0 y:4.0>},\n",
       " {u'bounding_box': <Box x:0.0 y:3.01198967267 w:5.79515318573 h:3.98801032733 c:11 o:0.0145083041862>,\n",
       "  u'grid_cell': <Point x:0.0 y:5.0>},\n",
       " {u'bounding_box': <Box x:0.0 y:2.92179546133 w:5.81009931862 h:4.07820453867 c:9 o:0.00234614941292>,\n",
       "  u'grid_cell': <Point x:1.0 y:5.0>},\n",
       " {u'bounding_box': <Box x:0.0 y:2.97715257108 w:5.53503370285 h:4.02284742892 c:10 o:0.0025020702742>,\n",
       "  u'grid_cell': <Point x:2.0 y:5.0>},\n",
       " {u'bounding_box': <Box x:0.725355163217 y:2.85471170023 w:5.56457611918 h:4.14528829977 c:10 o:0.00418519880623>,\n",
       "  u'grid_cell': <Point x:3.0 y:5.0>},\n",
       " {u'bounding_box': <Box x:1.8560782969 y:3.07454058621 w:5.1439217031 h:3.92545941379 c:4 o:0.00404677260667>,\n",
       "  u'grid_cell': <Point x:4.0 y:5.0>},\n",
       " {u'bounding_box': <Box x:2.9332643114 y:2.90398476087 w:4.0667356886 h:4.09601523913 c:24 o:0.00224446458742>,\n",
       "  u'grid_cell': <Point x:5.0 y:5.0>},\n",
       " {u'bounding_box': <Box x:3.81227042153 y:3.02835877333 w:3.18772957847 h:3.97164122667 c:24 o:0.00324027310126>,\n",
       "  u'grid_cell': <Point x:6.0 y:5.0>},\n",
       " {u'bounding_box': <Box x:0.0 y:4.00676313601 w:5.58669993281 h:2.99323686399 c:24 o:0.0117384875193>,\n",
       "  u'grid_cell': <Point x:0.0 y:6.0>},\n",
       " {u'bounding_box': <Box x:0.0 y:3.87450839207 w:5.32955993712 h:3.12549160793 c:24 o:0.0110215786844>,\n",
       "  u'grid_cell': <Point x:1.0 y:6.0>},\n",
       " {u'bounding_box': <Box x:0.0 y:3.84250189923 w:5.51300536096 h:3.15749810077 c:24 o:0.00707527715713>,\n",
       "  u'grid_cell': <Point x:2.0 y:6.0>},\n",
       " {u'bounding_box': <Box x:0.680826127529 y:3.8863444645 w:5.62401849031 h:3.1136555355 c:24 o:0.00847335252911>,\n",
       "  u'grid_cell': <Point x:3.0 y:6.0>},\n",
       " {u'bounding_box': <Box x:1.82756635174 y:3.95406469982 w:5.17243364826 h:3.04593530018 c:24 o:0.00546043133363>,\n",
       "  u'grid_cell': <Point x:4.0 y:6.0>},\n",
       " {u'bounding_box': <Box x:2.94225596637 y:4.0090063531 w:4.05774403363 h:2.9909936469 c:24 o:0.00453086197376>,\n",
       "  u'grid_cell': <Point x:5.0 y:6.0>},\n",
       " {u'bounding_box': <Box x:3.85169612989 y:4.04733298626 w:3.14830387011 h:2.95266701374 c:24 o:0.00612027291209>,\n",
       "  u'grid_cell': <Point x:6.0 y:6.0>}]"
      ]
     },
     "execution_count": 91,
     "metadata": {},
     "output_type": "execute_result"
    }
   ],
   "source": [
    "bboxes = inference_to_bounding_boxes(tensors)\n",
    "bboxes[0]"
   ]
  },
  {
   "cell_type": "code",
   "execution_count": 54,
   "metadata": {
    "collapsed": false
   },
   "outputs": [
    {
     "data": {
      "text/plain": [
       "[<Box x:1.97942268923 y:1.92749410942 w:1.23471081108 h:5.07250589058 c:9 o:0.718052506447>,\n",
       " <Box x:1.98739157133 y:2.56703711562 w:1.16019217148 h:4.43296288438 c:9 o:0.890877962112>,\n",
       " <Box x:1.97733604386 y:3.64657869413 w:1.1650912866 h:3.35342130587 c:9 o:0.237546771765>]"
      ]
     },
     "execution_count": 54,
     "metadata": {},
     "output_type": "execute_result"
    }
   ],
   "source": [
    "candidates = select_candidates(bboxes, 0.1)\n",
    "candidates"
   ]
  },
  {
   "cell_type": "code",
   "execution_count": 57,
   "metadata": {
    "collapsed": false
   },
   "outputs": [
    {
     "data": {
      "text/plain": [
       "1"
      ]
     },
     "execution_count": 57,
     "metadata": {},
     "output_type": "execute_result"
    }
   ],
   "source": [
    "winners = nms(candidates, 0.5)\n",
    "len(winners)"
   ]
  },
  {
   "cell_type": "code",
   "execution_count": 140,
   "metadata": {
    "collapsed": false
   },
   "outputs": [
    {
     "name": "stdout",
     "output_type": "stream",
     "text": [
      "load model: ../cmd/yolo/detector/snapshot_2017-04-16_193757/detector_final.model\n"
     ]
    }
   ],
   "source": [
    "model_file = os.path.join('..', 'cmd', 'yolo', 'detector', 'snapshot_2017-04-16_193757', 'detector_final.model')\n",
    "predictor = YoloPredictor(model_file=model_file)"
   ]
  },
  {
   "cell_type": "code",
   "execution_count": 74,
   "metadata": {
    "collapsed": false
   },
   "outputs": [],
   "source": [
    "image_paths = np.asarray([item['color_image_path'] for item in dataset])"
   ]
  },
  {
   "cell_type": "code",
   "execution_count": 141,
   "metadata": {
    "collapsed": false
   },
   "outputs": [],
   "source": [
    "bounding_boxes = predictor.predict(image_paths[0:3])"
   ]
  },
  {
   "cell_type": "code",
   "execution_count": 142,
   "metadata": {
    "collapsed": false
   },
   "outputs": [
    {
     "data": {
      "text/plain": [
       "[[<Box x:180.97579469 y:0.0 w:112.887811865 h:409.356594086 c:9 o:0.718052566051>,\n",
       "  <Box x:181.704354593 y:0.0 w:106.074726309 h:465.273270607 c:9 o:0.890877962112>],\n",
       " [<Box x:108.891244871 y:194.22479919 w:245.105192491 h:215.178624221 c:24 o:0.638067901134>,\n",
       "  <Box x:179.705577918 y:210.60268202 w:265.145979609 h:207.473856977 c:24 o:0.643514633179>,\n",
       "  <Box x:246.268816335 y:136.86764104 w:121.122667449 h:343.13235896 c:24 o:0.499296188354>],\n",
       " [<Box x:90.8729410172 y:296.432838397 w:507.758207321 h:152.22268658 c:12 o:0.6451638937>,\n",
       "  <Box x:168.063427636 y:299.880572728 w:452.508311442 h:142.973205021 c:12 o:0.760770201683>,\n",
       "  <Box x:187.45475173 y:295.536933392 w:273.991133486 h:163.740327486 c:12 o:0.320963650942>,\n",
       "  <Box x:259.160286188 y:300.006557746 w:297.86987475 h:146.310212527 c:12 o:0.345788061619>]]"
      ]
     },
     "execution_count": 142,
     "metadata": {},
     "output_type": "execute_result"
    }
   ],
   "source": [
    "[select_candidates(bboxes_of_image, 0.3) for bboxes_of_image in bounding_boxes]"
   ]
  },
  {
   "cell_type": "code",
   "execution_count": null,
   "metadata": {
    "collapsed": true
   },
   "outputs": [],
   "source": []
  },
  {
   "cell_type": "code",
   "execution_count": null,
   "metadata": {
    "collapsed": true
   },
   "outputs": [],
   "source": []
  },
  {
   "cell_type": "code",
   "execution_count": null,
   "metadata": {
    "collapsed": true
   },
   "outputs": [],
   "source": []
  },
  {
   "cell_type": "markdown",
   "metadata": {},
   "source": [
    "## 教師データを作成"
   ]
  },
  {
   "cell_type": "code",
   "execution_count": 46,
   "metadata": {
    "collapsed": false
   },
   "outputs": [],
   "source": [
    "tx = np.tile(0.5, px.shape) # 基本はグリッド中心\n",
    "ty = np.tile(0.5, py.shape)\n",
    "tw = np.zeros(ph.shape) # e^t,e^h = 1となるよう基本は0\n",
    "th = np.zeros(ph.shape)\n",
    "tconf = np.zeros(pconf.shape) # 基本は0\n",
    "tprob = pprob.data.copy() # 真のグリッド以外は誤差が発生ないよう推定値をコピー"
   ]
  },
  {
   "cell_type": "code",
   "execution_count": 47,
   "metadata": {
    "collapsed": true
   },
   "outputs": [],
   "source": [
    "def all_pred_boxes(px, py, pw, ph):\n",
    "    x_offsets = np.broadcast_to(np.arange(N_GRID).astype(np.float32), px.shape)\n",
    "    y_offsets = np.broadcast_to(np.arange(N_GRID).astype(np.float32), py.shape)\n",
    "    w_anchors = np.broadcast_to(np.reshape(np.array(ANCHOR_BOXES).astype(np.float32)[:,0], (N_BOXES,1,1,1)), pw.shape)\n",
    "    h_anchors = np.broadcast_to(np.reshape(np.array(ANCHOR_BOXES).astype(np.float32)[:,0], (N_BOXES,1,1,1)), ph.shape)\n",
    "    return Box(x=x_offsets + F.sigmoid(px).data, y=y_offsets + F.sigmoid(py).data,\n",
    "               width=np.exp(pw) * w_anchors, height=np.exp(ph) * h_anchors)"
   ]
  },
  {
   "cell_type": "code",
   "execution_count": 48,
   "metadata": {
    "collapsed": false
   },
   "outputs": [
    {
     "ename": "ValueError",
     "evalue": "input operand has more dimensions than allowed by the axis remapping",
     "output_type": "error",
     "traceback": [
      "\u001b[0;31m---------------------------------------------------------------------------\u001b[0m",
      "\u001b[0;31mValueError\u001b[0m                                Traceback (most recent call last)",
      "\u001b[0;32m<ipython-input-48-920e135ceb8c>\u001b[0m in \u001b[0;36m<module>\u001b[0;34m()\u001b[0m\n\u001b[1;32m      2\u001b[0m \u001b[0;32mfor\u001b[0m \u001b[0mbatch\u001b[0m \u001b[0;32min\u001b[0m \u001b[0mrange\u001b[0m\u001b[0;34m(\u001b[0m\u001b[0;36m0\u001b[0m\u001b[0;34m,\u001b[0m \u001b[0mbatch_size\u001b[0m\u001b[0;34m)\u001b[0m\u001b[0;34m:\u001b[0m\u001b[0;34m\u001b[0m\u001b[0m\n\u001b[1;32m      3\u001b[0m     \u001b[0mious\u001b[0m \u001b[0;34m=\u001b[0m \u001b[0;34m[\u001b[0m\u001b[0;34m]\u001b[0m\u001b[0;34m\u001b[0m\u001b[0m\n\u001b[0;32m----> 4\u001b[0;31m     \u001b[0mpboxes\u001b[0m \u001b[0;34m=\u001b[0m \u001b[0mall_pred_boxes\u001b[0m\u001b[0;34m(\u001b[0m\u001b[0mpx\u001b[0m\u001b[0;34m.\u001b[0m\u001b[0mdata\u001b[0m\u001b[0;34m[\u001b[0m\u001b[0mbatch\u001b[0m\u001b[0;34m]\u001b[0m\u001b[0;34m,\u001b[0m \u001b[0mpy\u001b[0m\u001b[0;34m.\u001b[0m\u001b[0mdata\u001b[0m\u001b[0;34m[\u001b[0m\u001b[0mbatch\u001b[0m\u001b[0;34m]\u001b[0m\u001b[0;34m,\u001b[0m \u001b[0mpw\u001b[0m\u001b[0;34m.\u001b[0m\u001b[0mdata\u001b[0m\u001b[0;34m[\u001b[0m\u001b[0mbatch\u001b[0m\u001b[0;34m]\u001b[0m\u001b[0;34m,\u001b[0m \u001b[0mph\u001b[0m\u001b[0;34m.\u001b[0m\u001b[0mdata\u001b[0m\u001b[0;34m[\u001b[0m\u001b[0mbatch\u001b[0m\u001b[0;34m]\u001b[0m\u001b[0;34m)\u001b[0m\u001b[0;34m\u001b[0m\u001b[0m\n\u001b[0m\u001b[1;32m      5\u001b[0m     \u001b[0;32mfor\u001b[0m \u001b[0mtruth_box\u001b[0m \u001b[0;32min\u001b[0m \u001b[0mground_truths\u001b[0m\u001b[0;34m[\u001b[0m\u001b[0mbatch\u001b[0m\u001b[0;34m]\u001b[0m\u001b[0;34m:\u001b[0m\u001b[0;34m\u001b[0m\u001b[0m\n\u001b[1;32m      6\u001b[0m         tboxes = Box(\n",
      "\u001b[0;32m<ipython-input-47-21c7dcf21065>\u001b[0m in \u001b[0;36mall_pred_boxes\u001b[0;34m(px, py, pw, ph)\u001b[0m\n\u001b[1;32m      2\u001b[0m     \u001b[0mx_offsets\u001b[0m \u001b[0;34m=\u001b[0m \u001b[0mnp\u001b[0m\u001b[0;34m.\u001b[0m\u001b[0mbroadcast_to\u001b[0m\u001b[0;34m(\u001b[0m\u001b[0mnp\u001b[0m\u001b[0;34m.\u001b[0m\u001b[0marange\u001b[0m\u001b[0;34m(\u001b[0m\u001b[0mN_GRID\u001b[0m\u001b[0;34m)\u001b[0m\u001b[0;34m.\u001b[0m\u001b[0mastype\u001b[0m\u001b[0;34m(\u001b[0m\u001b[0mnp\u001b[0m\u001b[0;34m.\u001b[0m\u001b[0mfloat32\u001b[0m\u001b[0;34m)\u001b[0m\u001b[0;34m,\u001b[0m \u001b[0mpx\u001b[0m\u001b[0;34m.\u001b[0m\u001b[0mshape\u001b[0m\u001b[0;34m)\u001b[0m\u001b[0;34m\u001b[0m\u001b[0m\n\u001b[1;32m      3\u001b[0m     \u001b[0my_offsets\u001b[0m \u001b[0;34m=\u001b[0m \u001b[0mnp\u001b[0m\u001b[0;34m.\u001b[0m\u001b[0mbroadcast_to\u001b[0m\u001b[0;34m(\u001b[0m\u001b[0mnp\u001b[0m\u001b[0;34m.\u001b[0m\u001b[0marange\u001b[0m\u001b[0;34m(\u001b[0m\u001b[0mN_GRID\u001b[0m\u001b[0;34m)\u001b[0m\u001b[0;34m.\u001b[0m\u001b[0mastype\u001b[0m\u001b[0;34m(\u001b[0m\u001b[0mnp\u001b[0m\u001b[0;34m.\u001b[0m\u001b[0mfloat32\u001b[0m\u001b[0;34m)\u001b[0m\u001b[0;34m,\u001b[0m \u001b[0mpy\u001b[0m\u001b[0;34m.\u001b[0m\u001b[0mshape\u001b[0m\u001b[0;34m)\u001b[0m\u001b[0;34m\u001b[0m\u001b[0m\n\u001b[0;32m----> 4\u001b[0;31m     \u001b[0mw_anchors\u001b[0m \u001b[0;34m=\u001b[0m \u001b[0mnp\u001b[0m\u001b[0;34m.\u001b[0m\u001b[0mbroadcast_to\u001b[0m\u001b[0;34m(\u001b[0m\u001b[0mnp\u001b[0m\u001b[0;34m.\u001b[0m\u001b[0mreshape\u001b[0m\u001b[0;34m(\u001b[0m\u001b[0mnp\u001b[0m\u001b[0;34m.\u001b[0m\u001b[0marray\u001b[0m\u001b[0;34m(\u001b[0m\u001b[0mANCHOR_BOXES\u001b[0m\u001b[0;34m)\u001b[0m\u001b[0;34m.\u001b[0m\u001b[0mastype\u001b[0m\u001b[0;34m(\u001b[0m\u001b[0mnp\u001b[0m\u001b[0;34m.\u001b[0m\u001b[0mfloat32\u001b[0m\u001b[0;34m)\u001b[0m\u001b[0;34m[\u001b[0m\u001b[0;34m:\u001b[0m\u001b[0;34m,\u001b[0m\u001b[0;36m0\u001b[0m\u001b[0;34m]\u001b[0m\u001b[0;34m,\u001b[0m \u001b[0;34m(\u001b[0m\u001b[0mN_BOXES\u001b[0m\u001b[0;34m,\u001b[0m\u001b[0;36m1\u001b[0m\u001b[0;34m,\u001b[0m\u001b[0;36m1\u001b[0m\u001b[0;34m,\u001b[0m\u001b[0;36m1\u001b[0m\u001b[0;34m)\u001b[0m\u001b[0;34m)\u001b[0m\u001b[0;34m,\u001b[0m \u001b[0mpw\u001b[0m\u001b[0;34m.\u001b[0m\u001b[0mshape\u001b[0m\u001b[0;34m)\u001b[0m\u001b[0;34m\u001b[0m\u001b[0m\n\u001b[0m\u001b[1;32m      5\u001b[0m     \u001b[0mh_anchors\u001b[0m \u001b[0;34m=\u001b[0m \u001b[0mnp\u001b[0m\u001b[0;34m.\u001b[0m\u001b[0mbroadcast_to\u001b[0m\u001b[0;34m(\u001b[0m\u001b[0mnp\u001b[0m\u001b[0;34m.\u001b[0m\u001b[0mreshape\u001b[0m\u001b[0;34m(\u001b[0m\u001b[0mnp\u001b[0m\u001b[0;34m.\u001b[0m\u001b[0marray\u001b[0m\u001b[0;34m(\u001b[0m\u001b[0mANCHOR_BOXES\u001b[0m\u001b[0;34m)\u001b[0m\u001b[0;34m.\u001b[0m\u001b[0mastype\u001b[0m\u001b[0;34m(\u001b[0m\u001b[0mnp\u001b[0m\u001b[0;34m.\u001b[0m\u001b[0mfloat32\u001b[0m\u001b[0;34m)\u001b[0m\u001b[0;34m[\u001b[0m\u001b[0;34m:\u001b[0m\u001b[0;34m,\u001b[0m\u001b[0;36m0\u001b[0m\u001b[0;34m]\u001b[0m\u001b[0;34m,\u001b[0m \u001b[0;34m(\u001b[0m\u001b[0mN_BOXES\u001b[0m\u001b[0;34m,\u001b[0m\u001b[0;36m1\u001b[0m\u001b[0;34m,\u001b[0m\u001b[0;36m1\u001b[0m\u001b[0;34m,\u001b[0m\u001b[0;36m1\u001b[0m\u001b[0;34m)\u001b[0m\u001b[0;34m)\u001b[0m\u001b[0;34m,\u001b[0m \u001b[0mph\u001b[0m\u001b[0;34m.\u001b[0m\u001b[0mshape\u001b[0m\u001b[0;34m)\u001b[0m\u001b[0;34m\u001b[0m\u001b[0m\n\u001b[1;32m      6\u001b[0m     return Box(x=x_offsets + F.sigmoid(px).data, y=y_offsets + F.sigmoid(py).data,\n",
      "\u001b[0;32m/Users/uents/.anyenv/envs/pyenv/versions/anaconda2-4.3.0/lib/python2.7/site-packages/numpy/lib/stride_tricks.pyc\u001b[0m in \u001b[0;36mbroadcast_to\u001b[0;34m(array, shape, subok)\u001b[0m\n\u001b[1;32m    113\u001b[0m            [1, 2, 3]])\n\u001b[1;32m    114\u001b[0m     \"\"\"\n\u001b[0;32m--> 115\u001b[0;31m     \u001b[0;32mreturn\u001b[0m \u001b[0m_broadcast_to\u001b[0m\u001b[0;34m(\u001b[0m\u001b[0marray\u001b[0m\u001b[0;34m,\u001b[0m \u001b[0mshape\u001b[0m\u001b[0;34m,\u001b[0m \u001b[0msubok\u001b[0m\u001b[0;34m=\u001b[0m\u001b[0msubok\u001b[0m\u001b[0;34m,\u001b[0m \u001b[0mreadonly\u001b[0m\u001b[0;34m=\u001b[0m\u001b[0mTrue\u001b[0m\u001b[0;34m)\u001b[0m\u001b[0;34m\u001b[0m\u001b[0m\n\u001b[0m\u001b[1;32m    116\u001b[0m \u001b[0;34m\u001b[0m\u001b[0m\n\u001b[1;32m    117\u001b[0m \u001b[0;34m\u001b[0m\u001b[0m\n",
      "\u001b[0;32m/Users/uents/.anyenv/envs/pyenv/versions/anaconda2-4.3.0/lib/python2.7/site-packages/numpy/lib/stride_tricks.pyc\u001b[0m in \u001b[0;36m_broadcast_to\u001b[0;34m(array, shape, subok, readonly)\u001b[0m\n\u001b[1;32m     68\u001b[0m     broadcast = np.nditer(\n\u001b[1;32m     69\u001b[0m         \u001b[0;34m(\u001b[0m\u001b[0marray\u001b[0m\u001b[0;34m,\u001b[0m\u001b[0;34m)\u001b[0m\u001b[0;34m,\u001b[0m \u001b[0mflags\u001b[0m\u001b[0;34m=\u001b[0m\u001b[0;34m[\u001b[0m\u001b[0;34m'multi_index'\u001b[0m\u001b[0;34m,\u001b[0m \u001b[0;34m'refs_ok'\u001b[0m\u001b[0;34m,\u001b[0m \u001b[0;34m'zerosize_ok'\u001b[0m\u001b[0;34m]\u001b[0m \u001b[0;34m+\u001b[0m \u001b[0mextras\u001b[0m\u001b[0;34m,\u001b[0m\u001b[0;34m\u001b[0m\u001b[0m\n\u001b[0;32m---> 70\u001b[0;31m         op_flags=[op_flag], itershape=shape, order='C').itviews[0]\n\u001b[0m\u001b[1;32m     71\u001b[0m     \u001b[0mresult\u001b[0m \u001b[0;34m=\u001b[0m \u001b[0m_maybe_view_as_subclass\u001b[0m\u001b[0;34m(\u001b[0m\u001b[0marray\u001b[0m\u001b[0;34m,\u001b[0m \u001b[0mbroadcast\u001b[0m\u001b[0;34m)\u001b[0m\u001b[0;34m\u001b[0m\u001b[0m\n\u001b[1;32m     72\u001b[0m     \u001b[0;32mif\u001b[0m \u001b[0mneeds_writeable\u001b[0m \u001b[0;32mand\u001b[0m \u001b[0;32mnot\u001b[0m \u001b[0mresult\u001b[0m\u001b[0;34m.\u001b[0m\u001b[0mflags\u001b[0m\u001b[0;34m.\u001b[0m\u001b[0mwriteable\u001b[0m\u001b[0;34m:\u001b[0m\u001b[0;34m\u001b[0m\u001b[0m\n",
      "\u001b[0;31mValueError\u001b[0m: input operand has more dimensions than allowed by the axis remapping"
     ]
    }
   ],
   "source": [
    "best_ious = []\n",
    "for batch in range(0, batch_size):\n",
    "    ious = []\n",
    "    pboxes = all_pred_boxes(px.data[batch], py.data[batch], pw.data[batch], ph.data[batch])\n",
    "    for truth_box in ground_truths[batch]:\n",
    "        tboxes = Box(\n",
    "            x=np.broadcast_to(np.array(truth_box.left).astype(np.float32), pboxes.left.shape),\n",
    "            y=np.broadcast_to(np.array(truth_box.top).astype(np.float32), pboxes.top.shape),\n",
    "            width=np.broadcast_to(np.array(truth_box.width).astype(np.float32), pboxes.width.shape),\n",
    "            height=np.broadcast_to(np.array(truth_box.height).astype(np.float32), pboxes.height.shape)\n",
    "        )\n",
    "        ious.append(Box.iou(pboxes, tboxes))\n",
    "\n",
    "    ious = np.asarray(ious)\n",
    "    best_ious.append(np.max(ious, axis=0))\n",
    "\n",
    "best_ious = np.asarray(best_ious).reshape(batch_size, N_BOXES, 1, N_GRID, N_GRID)"
   ]
  },
  {
   "cell_type": "code",
   "execution_count": 49,
   "metadata": {
    "collapsed": false
   },
   "outputs": [
    {
     "ename": "AttributeError",
     "evalue": "'list' object has no attribute 'shape'",
     "output_type": "error",
     "traceback": [
      "\u001b[0;31m---------------------------------------------------------------------------\u001b[0m",
      "\u001b[0;31mAttributeError\u001b[0m                            Traceback (most recent call last)",
      "\u001b[0;32m<ipython-input-49-d64f4fb7918d>\u001b[0m in \u001b[0;36m<module>\u001b[0;34m()\u001b[0m\n\u001b[0;32m----> 1\u001b[0;31m \u001b[0mbest_ious\u001b[0m\u001b[0;34m.\u001b[0m\u001b[0mshape\u001b[0m\u001b[0;34m\u001b[0m\u001b[0m\n\u001b[0m",
      "\u001b[0;31mAttributeError\u001b[0m: 'list' object has no attribute 'shape'"
     ]
    }
   ],
   "source": [
    "best_ious.shape"
   ]
  },
  {
   "cell_type": "code",
   "execution_count": 50,
   "metadata": {
    "collapsed": false
   },
   "outputs": [
    {
     "name": "stderr",
     "output_type": "stream",
     "text": [
      "/Users/uents/.anyenv/envs/pyenv/versions/anaconda2-4.3.0/lib/python2.7/site-packages/chainer/functions/array/get_item.py:42: VisibleDeprecationWarning: using a boolean instead of an integer will result in an error in the future\n",
      "  return utils.force_array(ary[tuple(self.slices)]),\n"
     ]
    },
    {
     "data": {
      "text/plain": [
       "<variable at 0x1147625d0>"
      ]
     },
     "execution_count": 50,
     "metadata": {},
     "output_type": "execute_result"
    }
   ],
   "source": [
    "pconf[best_ious > 0.1]"
   ]
  },
  {
   "cell_type": "code",
   "execution_count": 51,
   "metadata": {
    "collapsed": false
   },
   "outputs": [
    {
     "name": "stderr",
     "output_type": "stream",
     "text": [
      "/Users/uents/.anyenv/envs/pyenv/versions/anaconda2-4.3.0/lib/python2.7/site-packages/ipykernel/__main__.py:1: VisibleDeprecationWarning: using a boolean instead of an integer will result in an error in the future\n",
      "  if __name__ == '__main__':\n"
     ]
    },
    {
     "data": {
      "text/plain": [
       "array([[[ 0.49989817,  0.47988531,  0.49052176, ...,  0.53186619,\n",
       "          0.45669949,  0.50410372]],\n",
       "\n",
       "       [[ 0.52191216,  0.48412836,  0.48864543, ...,  0.54230201,\n",
       "          0.53637093,  0.49477589]],\n",
       "\n",
       "       [[ 0.51013553,  0.50069791,  0.50773203, ...,  0.5119676 ,\n",
       "          0.48797908,  0.48580599]],\n",
       "\n",
       "       ..., \n",
       "       [[ 0.4857654 ,  0.27156287,  0.03514016, ...,  0.03644538,\n",
       "          0.29046455,  0.50739259]],\n",
       "\n",
       "       [[ 0.53162986,  0.38114056,  0.08133149, ...,  0.22252616,\n",
       "          0.79771686,  0.75063086]],\n",
       "\n",
       "       [[ 0.64361501,  0.34199813,  0.04730505, ...,  0.15084293,\n",
       "          0.53113973,  0.60997415]]], dtype=float32)"
      ]
     },
     "execution_count": 51,
     "metadata": {},
     "output_type": "execute_result"
    }
   ],
   "source": [
    "pconf.data.copy()[best_ious > 0.1]"
   ]
  },
  {
   "cell_type": "markdown",
   "metadata": {},
   "source": [
    "## 推論の結果を評価"
   ]
  },
  {
   "cell_type": "code",
   "execution_count": 52,
   "metadata": {
    "collapsed": false
   },
   "outputs": [
    {
     "data": {
      "text/plain": [
       "(10, 155, 7, 7)"
      ]
     },
     "execution_count": 52,
     "metadata": {},
     "output_type": "execute_result"
    }
   ],
   "source": [
    "h.shape"
   ]
  },
  {
   "cell_type": "code",
   "execution_count": 53,
   "metadata": {
    "collapsed": false
   },
   "outputs": [
    {
     "data": {
      "text/plain": [
       "(155, 7, 7)"
      ]
     },
     "execution_count": 53,
     "metadata": {},
     "output_type": "execute_result"
    }
   ],
   "source": [
    "tensor = h[0]\n",
    "tensor.shape"
   ]
  },
  {
   "cell_type": "code",
   "execution_count": 54,
   "metadata": {
    "collapsed": false
   },
   "outputs": [
    {
     "data": {
      "text/plain": [
       "(7, 7)"
      ]
     },
     "execution_count": 54,
     "metadata": {},
     "output_type": "execute_result"
    }
   ],
   "source": [
    "tensor[0].shape"
   ]
  },
  {
   "cell_type": "code",
   "execution_count": 55,
   "metadata": {
    "collapsed": false
   },
   "outputs": [
    {
     "ename": "InvalidType",
     "evalue": "\nInvalid operation is performed in: GetItem (Forward)\n\nExpect: in_types[0].ndim >= 1\nActual: 0 < 1",
     "output_type": "error",
     "traceback": [
      "\u001b[0;31m---------------------------------------------------------------------------\u001b[0m",
      "\u001b[0;31mInvalidType\u001b[0m                               Traceback (most recent call last)",
      "\u001b[0;32m<ipython-input-55-f40701de587d>\u001b[0m in \u001b[0;36m<module>\u001b[0;34m()\u001b[0m\n\u001b[0;32m----> 1\u001b[0;31m \u001b[0mpx\u001b[0m\u001b[0;34m,\u001b[0m \u001b[0mpy\u001b[0m\u001b[0;34m,\u001b[0m \u001b[0mpw\u001b[0m\u001b[0;34m,\u001b[0m \u001b[0mph\u001b[0m\u001b[0;34m,\u001b[0m \u001b[0mpconf\u001b[0m\u001b[0;34m,\u001b[0m \u001b[0mpprob\u001b[0m \u001b[0;34m=\u001b[0m \u001b[0mnp\u001b[0m\u001b[0;34m.\u001b[0m\u001b[0marray_split\u001b[0m\u001b[0;34m(\u001b[0m\u001b[0mtensor\u001b[0m\u001b[0;34m[\u001b[0m\u001b[0;36m0\u001b[0m\u001b[0;34m]\u001b[0m\u001b[0;34m,\u001b[0m \u001b[0mindices_or_sections\u001b[0m\u001b[0;34m=\u001b[0m\u001b[0;34m(\u001b[0m\u001b[0;36m1\u001b[0m\u001b[0;34m,\u001b[0m\u001b[0;36m2\u001b[0m\u001b[0;34m,\u001b[0m\u001b[0;36m3\u001b[0m\u001b[0;34m,\u001b[0m\u001b[0;36m4\u001b[0m\u001b[0;34m,\u001b[0m\u001b[0;36m5\u001b[0m\u001b[0;34m)\u001b[0m\u001b[0;34m,\u001b[0m \u001b[0maxis\u001b[0m\u001b[0;34m=\u001b[0m\u001b[0;36m0\u001b[0m\u001b[0;34m)\u001b[0m\u001b[0;34m\u001b[0m\u001b[0m\n\u001b[0m\u001b[1;32m      2\u001b[0m \u001b[0mpconf\u001b[0m \u001b[0;34m=\u001b[0m \u001b[0mF\u001b[0m\u001b[0;34m.\u001b[0m\u001b[0msigmoid\u001b[0m\u001b[0;34m(\u001b[0m\u001b[0mpconf\u001b[0m\u001b[0;34m)\u001b[0m\u001b[0;34m.\u001b[0m\u001b[0mdata\u001b[0m\u001b[0;34m\u001b[0m\u001b[0m\n\u001b[1;32m      3\u001b[0m \u001b[0;34m\u001b[0m\u001b[0m\n\u001b[1;32m      4\u001b[0m \u001b[0mpx\u001b[0m\u001b[0;34m.\u001b[0m\u001b[0mshape\u001b[0m\u001b[0;34m,\u001b[0m \u001b[0mpy\u001b[0m\u001b[0;34m.\u001b[0m\u001b[0mshape\u001b[0m\u001b[0;34m,\u001b[0m \u001b[0mpw\u001b[0m\u001b[0;34m.\u001b[0m\u001b[0mshape\u001b[0m\u001b[0;34m,\u001b[0m \u001b[0mph\u001b[0m\u001b[0;34m.\u001b[0m\u001b[0mshape\u001b[0m\u001b[0;34m,\u001b[0m \u001b[0mpconf\u001b[0m\u001b[0;34m.\u001b[0m\u001b[0mshape\u001b[0m\u001b[0;34m,\u001b[0m \u001b[0mpprob\u001b[0m\u001b[0;34m.\u001b[0m\u001b[0mshape\u001b[0m\u001b[0;34m\u001b[0m\u001b[0m\n",
      "\u001b[0;32m/Users/uents/.anyenv/envs/pyenv/versions/anaconda2-4.3.0/lib/python2.7/site-packages/numpy/lib/shape_base.pyc\u001b[0m in \u001b[0;36marray_split\u001b[0;34m(ary, indices_or_sections, axis)\u001b[0m\n\u001b[1;32m    416\u001b[0m \u001b[0;34m\u001b[0m\u001b[0m\n\u001b[1;32m    417\u001b[0m     \u001b[0msub_arys\u001b[0m \u001b[0;34m=\u001b[0m \u001b[0;34m[\u001b[0m\u001b[0;34m]\u001b[0m\u001b[0;34m\u001b[0m\u001b[0m\n\u001b[0;32m--> 418\u001b[0;31m     \u001b[0msary\u001b[0m \u001b[0;34m=\u001b[0m \u001b[0m_nx\u001b[0m\u001b[0;34m.\u001b[0m\u001b[0mswapaxes\u001b[0m\u001b[0;34m(\u001b[0m\u001b[0mary\u001b[0m\u001b[0;34m,\u001b[0m \u001b[0maxis\u001b[0m\u001b[0;34m,\u001b[0m \u001b[0;36m0\u001b[0m\u001b[0;34m)\u001b[0m\u001b[0;34m\u001b[0m\u001b[0m\n\u001b[0m\u001b[1;32m    419\u001b[0m     \u001b[0;32mfor\u001b[0m \u001b[0mi\u001b[0m \u001b[0;32min\u001b[0m \u001b[0mrange\u001b[0m\u001b[0;34m(\u001b[0m\u001b[0mNsections\u001b[0m\u001b[0;34m)\u001b[0m\u001b[0;34m:\u001b[0m\u001b[0;34m\u001b[0m\u001b[0m\n\u001b[1;32m    420\u001b[0m         \u001b[0mst\u001b[0m \u001b[0;34m=\u001b[0m \u001b[0mdiv_points\u001b[0m\u001b[0;34m[\u001b[0m\u001b[0mi\u001b[0m\u001b[0;34m]\u001b[0m\u001b[0;34m\u001b[0m\u001b[0m\n",
      "\u001b[0;32m/Users/uents/.anyenv/envs/pyenv/versions/anaconda2-4.3.0/lib/python2.7/site-packages/numpy/core/fromnumeric.pyc\u001b[0m in \u001b[0;36mswapaxes\u001b[0;34m(a, axis1, axis2)\u001b[0m\n\u001b[1;32m    500\u001b[0m         \u001b[0mswapaxes\u001b[0m \u001b[0;34m=\u001b[0m \u001b[0ma\u001b[0m\u001b[0;34m.\u001b[0m\u001b[0mswapaxes\u001b[0m\u001b[0;34m\u001b[0m\u001b[0m\n\u001b[1;32m    501\u001b[0m     \u001b[0;32mexcept\u001b[0m \u001b[0mAttributeError\u001b[0m\u001b[0;34m:\u001b[0m\u001b[0;34m\u001b[0m\u001b[0m\n\u001b[0;32m--> 502\u001b[0;31m         \u001b[0;32mreturn\u001b[0m \u001b[0m_wrapit\u001b[0m\u001b[0;34m(\u001b[0m\u001b[0ma\u001b[0m\u001b[0;34m,\u001b[0m \u001b[0;34m'swapaxes'\u001b[0m\u001b[0;34m,\u001b[0m \u001b[0maxis1\u001b[0m\u001b[0;34m,\u001b[0m \u001b[0maxis2\u001b[0m\u001b[0;34m)\u001b[0m\u001b[0;34m\u001b[0m\u001b[0m\n\u001b[0m\u001b[1;32m    503\u001b[0m     \u001b[0;32mreturn\u001b[0m \u001b[0mswapaxes\u001b[0m\u001b[0;34m(\u001b[0m\u001b[0maxis1\u001b[0m\u001b[0;34m,\u001b[0m \u001b[0maxis2\u001b[0m\u001b[0;34m)\u001b[0m\u001b[0;34m\u001b[0m\u001b[0m\n\u001b[1;32m    504\u001b[0m \u001b[0;34m\u001b[0m\u001b[0m\n",
      "\u001b[0;32m/Users/uents/.anyenv/envs/pyenv/versions/anaconda2-4.3.0/lib/python2.7/site-packages/numpy/core/fromnumeric.pyc\u001b[0m in \u001b[0;36m_wrapit\u001b[0;34m(obj, method, *args, **kwds)\u001b[0m\n\u001b[1;32m     45\u001b[0m     \u001b[0;32mexcept\u001b[0m \u001b[0mAttributeError\u001b[0m\u001b[0;34m:\u001b[0m\u001b[0;34m\u001b[0m\u001b[0m\n\u001b[1;32m     46\u001b[0m         \u001b[0mwrap\u001b[0m \u001b[0;34m=\u001b[0m \u001b[0mNone\u001b[0m\u001b[0;34m\u001b[0m\u001b[0m\n\u001b[0;32m---> 47\u001b[0;31m     \u001b[0mresult\u001b[0m \u001b[0;34m=\u001b[0m \u001b[0mgetattr\u001b[0m\u001b[0;34m(\u001b[0m\u001b[0masarray\u001b[0m\u001b[0;34m(\u001b[0m\u001b[0mobj\u001b[0m\u001b[0;34m)\u001b[0m\u001b[0;34m,\u001b[0m \u001b[0mmethod\u001b[0m\u001b[0;34m)\u001b[0m\u001b[0;34m(\u001b[0m\u001b[0;34m*\u001b[0m\u001b[0margs\u001b[0m\u001b[0;34m,\u001b[0m \u001b[0;34m**\u001b[0m\u001b[0mkwds\u001b[0m\u001b[0;34m)\u001b[0m\u001b[0;34m\u001b[0m\u001b[0m\n\u001b[0m\u001b[1;32m     48\u001b[0m     \u001b[0;32mif\u001b[0m \u001b[0mwrap\u001b[0m\u001b[0;34m:\u001b[0m\u001b[0;34m\u001b[0m\u001b[0m\n\u001b[1;32m     49\u001b[0m         \u001b[0;32mif\u001b[0m \u001b[0;32mnot\u001b[0m \u001b[0misinstance\u001b[0m\u001b[0;34m(\u001b[0m\u001b[0mresult\u001b[0m\u001b[0;34m,\u001b[0m \u001b[0mmu\u001b[0m\u001b[0;34m.\u001b[0m\u001b[0mndarray\u001b[0m\u001b[0;34m)\u001b[0m\u001b[0;34m:\u001b[0m\u001b[0;34m\u001b[0m\u001b[0m\n",
      "\u001b[0;32m/Users/uents/.anyenv/envs/pyenv/versions/anaconda2-4.3.0/lib/python2.7/site-packages/numpy/core/numeric.pyc\u001b[0m in \u001b[0;36masarray\u001b[0;34m(a, dtype, order)\u001b[0m\n\u001b[1;32m    480\u001b[0m \u001b[0;34m\u001b[0m\u001b[0m\n\u001b[1;32m    481\u001b[0m     \"\"\"\n\u001b[0;32m--> 482\u001b[0;31m     \u001b[0;32mreturn\u001b[0m \u001b[0marray\u001b[0m\u001b[0;34m(\u001b[0m\u001b[0ma\u001b[0m\u001b[0;34m,\u001b[0m \u001b[0mdtype\u001b[0m\u001b[0;34m,\u001b[0m \u001b[0mcopy\u001b[0m\u001b[0;34m=\u001b[0m\u001b[0mFalse\u001b[0m\u001b[0;34m,\u001b[0m \u001b[0morder\u001b[0m\u001b[0;34m=\u001b[0m\u001b[0morder\u001b[0m\u001b[0;34m)\u001b[0m\u001b[0;34m\u001b[0m\u001b[0m\n\u001b[0m\u001b[1;32m    483\u001b[0m \u001b[0;34m\u001b[0m\u001b[0m\n\u001b[1;32m    484\u001b[0m \u001b[0;32mdef\u001b[0m \u001b[0masanyarray\u001b[0m\u001b[0;34m(\u001b[0m\u001b[0ma\u001b[0m\u001b[0;34m,\u001b[0m \u001b[0mdtype\u001b[0m\u001b[0;34m=\u001b[0m\u001b[0mNone\u001b[0m\u001b[0;34m,\u001b[0m \u001b[0morder\u001b[0m\u001b[0;34m=\u001b[0m\u001b[0mNone\u001b[0m\u001b[0;34m)\u001b[0m\u001b[0;34m:\u001b[0m\u001b[0;34m\u001b[0m\u001b[0m\n",
      "\u001b[0;32m/Users/uents/.anyenv/envs/pyenv/versions/anaconda2-4.3.0/lib/python2.7/site-packages/chainer/functions/array/get_item.pyc\u001b[0m in \u001b[0;36mget_item\u001b[0;34m(x, slices)\u001b[0m\n\u001b[1;32m     69\u001b[0m \u001b[0;34m\u001b[0m\u001b[0m\n\u001b[1;32m     70\u001b[0m     \"\"\"\n\u001b[0;32m---> 71\u001b[0;31m     \u001b[0;32mreturn\u001b[0m \u001b[0mGetItem\u001b[0m\u001b[0;34m(\u001b[0m\u001b[0mslices\u001b[0m\u001b[0;34m)\u001b[0m\u001b[0;34m(\u001b[0m\u001b[0mx\u001b[0m\u001b[0;34m)\u001b[0m\u001b[0;34m\u001b[0m\u001b[0m\n\u001b[0m\u001b[1;32m     72\u001b[0m \u001b[0;34m\u001b[0m\u001b[0m\n\u001b[1;32m     73\u001b[0m \u001b[0;34m\u001b[0m\u001b[0m\n",
      "\u001b[0;32m/Users/uents/.anyenv/envs/pyenv/versions/anaconda2-4.3.0/lib/python2.7/site-packages/chainer/function.pyc\u001b[0m in \u001b[0;36m__call__\u001b[0;34m(self, *inputs)\u001b[0m\n\u001b[1;32m    187\u001b[0m \u001b[0;34m\u001b[0m\u001b[0m\n\u001b[1;32m    188\u001b[0m         \u001b[0;32mif\u001b[0m \u001b[0mself\u001b[0m\u001b[0;34m.\u001b[0m\u001b[0mtype_check_enable\u001b[0m\u001b[0;34m:\u001b[0m\u001b[0;34m\u001b[0m\u001b[0m\n\u001b[0;32m--> 189\u001b[0;31m             \u001b[0mself\u001b[0m\u001b[0;34m.\u001b[0m\u001b[0m_check_data_type_forward\u001b[0m\u001b[0;34m(\u001b[0m\u001b[0min_data\u001b[0m\u001b[0;34m)\u001b[0m\u001b[0;34m\u001b[0m\u001b[0m\n\u001b[0m\u001b[1;32m    190\u001b[0m \u001b[0;34m\u001b[0m\u001b[0m\n\u001b[1;32m    191\u001b[0m         \u001b[0mhooks\u001b[0m \u001b[0;34m=\u001b[0m \u001b[0mchainer\u001b[0m\u001b[0;34m.\u001b[0m\u001b[0mget_function_hooks\u001b[0m\u001b[0;34m(\u001b[0m\u001b[0;34m)\u001b[0m\u001b[0;34m\u001b[0m\u001b[0m\n",
      "\u001b[0;32m/Users/uents/.anyenv/envs/pyenv/versions/anaconda2-4.3.0/lib/python2.7/site-packages/chainer/function.pyc\u001b[0m in \u001b[0;36m_check_data_type_forward\u001b[0;34m(self, in_data)\u001b[0m\n\u001b[1;32m    271\u001b[0m         \u001b[0min_type\u001b[0m \u001b[0;34m=\u001b[0m \u001b[0mtype_check\u001b[0m\u001b[0;34m.\u001b[0m\u001b[0mget_types\u001b[0m\u001b[0;34m(\u001b[0m\u001b[0min_data\u001b[0m\u001b[0;34m,\u001b[0m \u001b[0;34m'in_types'\u001b[0m\u001b[0;34m,\u001b[0m \u001b[0mFalse\u001b[0m\u001b[0;34m)\u001b[0m\u001b[0;34m\u001b[0m\u001b[0m\n\u001b[1;32m    272\u001b[0m         \u001b[0;32mwith\u001b[0m \u001b[0mtype_check\u001b[0m\u001b[0;34m.\u001b[0m\u001b[0mget_function_check_context\u001b[0m\u001b[0;34m(\u001b[0m\u001b[0mself\u001b[0m\u001b[0;34m)\u001b[0m\u001b[0;34m:\u001b[0m\u001b[0;34m\u001b[0m\u001b[0m\n\u001b[0;32m--> 273\u001b[0;31m             \u001b[0mself\u001b[0m\u001b[0;34m.\u001b[0m\u001b[0mcheck_type_forward\u001b[0m\u001b[0;34m(\u001b[0m\u001b[0min_type\u001b[0m\u001b[0;34m)\u001b[0m\u001b[0;34m\u001b[0m\u001b[0m\n\u001b[0m\u001b[1;32m    274\u001b[0m \u001b[0;34m\u001b[0m\u001b[0m\n\u001b[1;32m    275\u001b[0m     \u001b[0;32mdef\u001b[0m \u001b[0mcheck_type_forward\u001b[0m\u001b[0;34m(\u001b[0m\u001b[0mself\u001b[0m\u001b[0;34m,\u001b[0m \u001b[0min_types\u001b[0m\u001b[0;34m)\u001b[0m\u001b[0;34m:\u001b[0m\u001b[0;34m\u001b[0m\u001b[0m\n",
      "\u001b[0;32m/Users/uents/.anyenv/envs/pyenv/versions/anaconda2-4.3.0/lib/python2.7/site-packages/chainer/functions/array/get_item.pyc\u001b[0m in \u001b[0;36mcheck_type_forward\u001b[0;34m(self, in_types)\u001b[0m\n\u001b[1;32m     36\u001b[0m         \u001b[0mtype_check\u001b[0m\u001b[0;34m.\u001b[0m\u001b[0mexpect\u001b[0m\u001b[0;34m(\u001b[0m\u001b[0min_types\u001b[0m\u001b[0;34m.\u001b[0m\u001b[0msize\u001b[0m\u001b[0;34m(\u001b[0m\u001b[0;34m)\u001b[0m \u001b[0;34m==\u001b[0m \u001b[0;36m1\u001b[0m\u001b[0;34m)\u001b[0m\u001b[0;34m\u001b[0m\u001b[0m\n\u001b[1;32m     37\u001b[0m         \u001b[0mvalid_slice\u001b[0m \u001b[0;34m=\u001b[0m \u001b[0mlen\u001b[0m\u001b[0;34m(\u001b[0m\u001b[0mself\u001b[0m\u001b[0;34m.\u001b[0m\u001b[0mslices\u001b[0m\u001b[0;34m)\u001b[0m \u001b[0;34m-\u001b[0m \u001b[0mself\u001b[0m\u001b[0;34m.\u001b[0m\u001b[0mslices\u001b[0m\u001b[0;34m.\u001b[0m\u001b[0mcount\u001b[0m\u001b[0;34m(\u001b[0m\u001b[0mNone\u001b[0m\u001b[0;34m)\u001b[0m\u001b[0;34m\u001b[0m\u001b[0m\n\u001b[0;32m---> 38\u001b[0;31m         \u001b[0mtype_check\u001b[0m\u001b[0;34m.\u001b[0m\u001b[0mexpect\u001b[0m\u001b[0;34m(\u001b[0m\u001b[0min_types\u001b[0m\u001b[0;34m[\u001b[0m\u001b[0;36m0\u001b[0m\u001b[0;34m]\u001b[0m\u001b[0;34m.\u001b[0m\u001b[0mndim\u001b[0m \u001b[0;34m>=\u001b[0m \u001b[0mvalid_slice\u001b[0m\u001b[0;34m)\u001b[0m\u001b[0;34m\u001b[0m\u001b[0m\n\u001b[0m\u001b[1;32m     39\u001b[0m \u001b[0;34m\u001b[0m\u001b[0m\n\u001b[1;32m     40\u001b[0m     \u001b[0;32mdef\u001b[0m \u001b[0mforward\u001b[0m\u001b[0;34m(\u001b[0m\u001b[0mself\u001b[0m\u001b[0;34m,\u001b[0m \u001b[0mxs\u001b[0m\u001b[0;34m)\u001b[0m\u001b[0;34m:\u001b[0m\u001b[0;34m\u001b[0m\u001b[0m\n",
      "\u001b[0;32m/Users/uents/.anyenv/envs/pyenv/versions/anaconda2-4.3.0/lib/python2.7/site-packages/chainer/utils/type_check.pyc\u001b[0m in \u001b[0;36mexpect\u001b[0;34m(*bool_exprs)\u001b[0m\n\u001b[1;32m    485\u001b[0m     \u001b[0;32mfor\u001b[0m \u001b[0mexpr\u001b[0m \u001b[0;32min\u001b[0m \u001b[0mbool_exprs\u001b[0m\u001b[0;34m:\u001b[0m\u001b[0;34m\u001b[0m\u001b[0m\n\u001b[1;32m    486\u001b[0m         \u001b[0;32massert\u001b[0m \u001b[0misinstance\u001b[0m\u001b[0;34m(\u001b[0m\u001b[0mexpr\u001b[0m\u001b[0;34m,\u001b[0m \u001b[0mTestable\u001b[0m\u001b[0;34m)\u001b[0m\u001b[0;34m\u001b[0m\u001b[0m\n\u001b[0;32m--> 487\u001b[0;31m         \u001b[0mexpr\u001b[0m\u001b[0;34m.\u001b[0m\u001b[0mexpect\u001b[0m\u001b[0;34m(\u001b[0m\u001b[0;34m)\u001b[0m\u001b[0;34m\u001b[0m\u001b[0m\n\u001b[0m\u001b[1;32m    488\u001b[0m \u001b[0;34m\u001b[0m\u001b[0m\n\u001b[1;32m    489\u001b[0m \u001b[0;34m\u001b[0m\u001b[0m\n",
      "\u001b[0;32m/Users/uents/.anyenv/envs/pyenv/versions/anaconda2-4.3.0/lib/python2.7/site-packages/chainer/utils/type_check.pyc\u001b[0m in \u001b[0;36mexpect\u001b[0;34m(self)\u001b[0m\n\u001b[1;32m    447\u001b[0m             raise InvalidType(\n\u001b[1;32m    448\u001b[0m                 \u001b[0;34m'{0} {1} {2}'\u001b[0m\u001b[0;34m.\u001b[0m\u001b[0mformat\u001b[0m\u001b[0;34m(\u001b[0m\u001b[0mself\u001b[0m\u001b[0;34m.\u001b[0m\u001b[0mlhs\u001b[0m\u001b[0;34m,\u001b[0m \u001b[0mself\u001b[0m\u001b[0;34m.\u001b[0m\u001b[0mexp\u001b[0m\u001b[0;34m,\u001b[0m \u001b[0mself\u001b[0m\u001b[0;34m.\u001b[0m\u001b[0mrhs\u001b[0m\u001b[0;34m)\u001b[0m\u001b[0;34m,\u001b[0m\u001b[0;34m\u001b[0m\u001b[0m\n\u001b[0;32m--> 449\u001b[0;31m                 '{0} {1} {2}'.format(left, self.inv, right))\n\u001b[0m\u001b[1;32m    450\u001b[0m \u001b[0;34m\u001b[0m\u001b[0m\n\u001b[1;32m    451\u001b[0m \u001b[0;34m\u001b[0m\u001b[0m\n",
      "\u001b[0;31mInvalidType\u001b[0m: \nInvalid operation is performed in: GetItem (Forward)\n\nExpect: in_types[0].ndim >= 1\nActual: 0 < 1"
     ]
    }
   ],
   "source": [
    "px, py, pw, ph, pconf, pprob = np.array_split(tensor[0], indices_or_sections=(1,2,3,4,5), axis=0)\n",
    "pconf = F.sigmoid(pconf).data\n",
    "\n",
    "px.shape, py.shape, pw.shape, ph.shape, pconf.shape, pprob.shape"
   ]
  },
  {
   "cell_type": "code",
   "execution_count": 56,
   "metadata": {
    "collapsed": false
   },
   "outputs": [
    {
     "ename": "InvalidType",
     "evalue": "\nInvalid operation is performed in: _ * _ (Forward)\n\nExpect: in_types[0].shape == in_types[1].shape\nActual: (10, 155, 2, 7) != (10, 155, 1, 7)",
     "output_type": "error",
     "traceback": [
      "\u001b[0;31m---------------------------------------------------------------------------\u001b[0m",
      "\u001b[0;31mInvalidType\u001b[0m                               Traceback (most recent call last)",
      "\u001b[0;32m<ipython-input-56-d75140e94a69>\u001b[0m in \u001b[0;36m<module>\u001b[0;34m()\u001b[0m\n\u001b[1;32m      1\u001b[0m \u001b[0;31m# グリッド毎のクラス確率を算出 (N_BOXES, N_CLASSES, N_GRID, N_GRID)\u001b[0m\u001b[0;34m\u001b[0m\u001b[0;34m\u001b[0m\u001b[0m\n\u001b[0;32m----> 2\u001b[0;31m \u001b[0mclass_prob_map\u001b[0m \u001b[0;34m=\u001b[0m \u001b[0mpprob\u001b[0m \u001b[0;34m*\u001b[0m \u001b[0mpconf\u001b[0m\u001b[0;34m\u001b[0m\u001b[0m\n\u001b[0m\u001b[1;32m      3\u001b[0m \u001b[0;34m\u001b[0m\u001b[0m\n\u001b[1;32m      4\u001b[0m \u001b[0;31m# 最大クラス確率となるクラスラベルを抽出 (N_BOXES, N_GRID, N_GRID)\u001b[0m\u001b[0;34m\u001b[0m\u001b[0;34m\u001b[0m\u001b[0m\n\u001b[1;32m      5\u001b[0m \u001b[0mclass_label_map\u001b[0m \u001b[0;34m=\u001b[0m \u001b[0mclass_prob_map\u001b[0m\u001b[0;34m.\u001b[0m\u001b[0margmax\u001b[0m\u001b[0;34m(\u001b[0m\u001b[0maxis\u001b[0m\u001b[0;34m=\u001b[0m\u001b[0;36m0\u001b[0m\u001b[0;34m)\u001b[0m\u001b[0;34m\u001b[0m\u001b[0m\n",
      "\u001b[0;32m/Users/uents/.anyenv/envs/pyenv/versions/anaconda2-4.3.0/lib/python2.7/site-packages/chainer/functions/math/basic_math.pyc\u001b[0m in \u001b[0;36mmul\u001b[0;34m(self, rhs)\u001b[0m\n\u001b[1;32m    273\u001b[0m \u001b[0;34m\u001b[0m\u001b[0m\n\u001b[1;32m    274\u001b[0m     \u001b[0;32mif\u001b[0m \u001b[0misinstance\u001b[0m\u001b[0;34m(\u001b[0m\u001b[0mrhs\u001b[0m\u001b[0;34m,\u001b[0m \u001b[0mvariable\u001b[0m\u001b[0;34m.\u001b[0m\u001b[0mVariable\u001b[0m\u001b[0;34m)\u001b[0m\u001b[0;34m:\u001b[0m\u001b[0;34m\u001b[0m\u001b[0m\n\u001b[0;32m--> 275\u001b[0;31m         \u001b[0;32mreturn\u001b[0m \u001b[0mMul\u001b[0m\u001b[0;34m(\u001b[0m\u001b[0;34m)\u001b[0m\u001b[0;34m(\u001b[0m\u001b[0mself\u001b[0m\u001b[0;34m,\u001b[0m \u001b[0mrhs\u001b[0m\u001b[0;34m)\u001b[0m\u001b[0;34m\u001b[0m\u001b[0m\n\u001b[0m\u001b[1;32m    276\u001b[0m     \u001b[0m_check_constant_type\u001b[0m\u001b[0;34m(\u001b[0m\u001b[0mrhs\u001b[0m\u001b[0;34m)\u001b[0m\u001b[0;34m\u001b[0m\u001b[0m\n\u001b[1;32m    277\u001b[0m     \u001b[0;32mreturn\u001b[0m \u001b[0mMulConstant\u001b[0m\u001b[0;34m(\u001b[0m\u001b[0mrhs\u001b[0m\u001b[0;34m)\u001b[0m\u001b[0;34m(\u001b[0m\u001b[0mself\u001b[0m\u001b[0;34m)\u001b[0m\u001b[0;34m\u001b[0m\u001b[0m\n",
      "\u001b[0;32m/Users/uents/.anyenv/envs/pyenv/versions/anaconda2-4.3.0/lib/python2.7/site-packages/chainer/function.pyc\u001b[0m in \u001b[0;36m__call__\u001b[0;34m(self, *inputs)\u001b[0m\n\u001b[1;32m    187\u001b[0m \u001b[0;34m\u001b[0m\u001b[0m\n\u001b[1;32m    188\u001b[0m         \u001b[0;32mif\u001b[0m \u001b[0mself\u001b[0m\u001b[0;34m.\u001b[0m\u001b[0mtype_check_enable\u001b[0m\u001b[0;34m:\u001b[0m\u001b[0;34m\u001b[0m\u001b[0m\n\u001b[0;32m--> 189\u001b[0;31m             \u001b[0mself\u001b[0m\u001b[0;34m.\u001b[0m\u001b[0m_check_data_type_forward\u001b[0m\u001b[0;34m(\u001b[0m\u001b[0min_data\u001b[0m\u001b[0;34m)\u001b[0m\u001b[0;34m\u001b[0m\u001b[0m\n\u001b[0m\u001b[1;32m    190\u001b[0m \u001b[0;34m\u001b[0m\u001b[0m\n\u001b[1;32m    191\u001b[0m         \u001b[0mhooks\u001b[0m \u001b[0;34m=\u001b[0m \u001b[0mchainer\u001b[0m\u001b[0;34m.\u001b[0m\u001b[0mget_function_hooks\u001b[0m\u001b[0;34m(\u001b[0m\u001b[0;34m)\u001b[0m\u001b[0;34m\u001b[0m\u001b[0m\n",
      "\u001b[0;32m/Users/uents/.anyenv/envs/pyenv/versions/anaconda2-4.3.0/lib/python2.7/site-packages/chainer/function.pyc\u001b[0m in \u001b[0;36m_check_data_type_forward\u001b[0;34m(self, in_data)\u001b[0m\n\u001b[1;32m    271\u001b[0m         \u001b[0min_type\u001b[0m \u001b[0;34m=\u001b[0m \u001b[0mtype_check\u001b[0m\u001b[0;34m.\u001b[0m\u001b[0mget_types\u001b[0m\u001b[0;34m(\u001b[0m\u001b[0min_data\u001b[0m\u001b[0;34m,\u001b[0m \u001b[0;34m'in_types'\u001b[0m\u001b[0;34m,\u001b[0m \u001b[0mFalse\u001b[0m\u001b[0;34m)\u001b[0m\u001b[0;34m\u001b[0m\u001b[0m\n\u001b[1;32m    272\u001b[0m         \u001b[0;32mwith\u001b[0m \u001b[0mtype_check\u001b[0m\u001b[0;34m.\u001b[0m\u001b[0mget_function_check_context\u001b[0m\u001b[0;34m(\u001b[0m\u001b[0mself\u001b[0m\u001b[0;34m)\u001b[0m\u001b[0;34m:\u001b[0m\u001b[0;34m\u001b[0m\u001b[0m\n\u001b[0;32m--> 273\u001b[0;31m             \u001b[0mself\u001b[0m\u001b[0;34m.\u001b[0m\u001b[0mcheck_type_forward\u001b[0m\u001b[0;34m(\u001b[0m\u001b[0min_type\u001b[0m\u001b[0;34m)\u001b[0m\u001b[0;34m\u001b[0m\u001b[0m\n\u001b[0m\u001b[1;32m    274\u001b[0m \u001b[0;34m\u001b[0m\u001b[0m\n\u001b[1;32m    275\u001b[0m     \u001b[0;32mdef\u001b[0m \u001b[0mcheck_type_forward\u001b[0m\u001b[0;34m(\u001b[0m\u001b[0mself\u001b[0m\u001b[0;34m,\u001b[0m \u001b[0min_types\u001b[0m\u001b[0;34m)\u001b[0m\u001b[0;34m:\u001b[0m\u001b[0;34m\u001b[0m\u001b[0m\n",
      "\u001b[0;32m/Users/uents/.anyenv/envs/pyenv/versions/anaconda2-4.3.0/lib/python2.7/site-packages/chainer/functions/math/basic_math.pyc\u001b[0m in \u001b[0;36mcheck_type_forward\u001b[0;34m(self, in_types)\u001b[0m\n\u001b[1;32m    234\u001b[0m             \u001b[0min_types\u001b[0m\u001b[0;34m[\u001b[0m\u001b[0;36m0\u001b[0m\u001b[0;34m]\u001b[0m\u001b[0;34m.\u001b[0m\u001b[0mdtype\u001b[0m\u001b[0;34m.\u001b[0m\u001b[0mkind\u001b[0m \u001b[0;34m==\u001b[0m \u001b[0;34m'f'\u001b[0m\u001b[0;34m,\u001b[0m\u001b[0;34m\u001b[0m\u001b[0m\n\u001b[1;32m    235\u001b[0m             \u001b[0min_types\u001b[0m\u001b[0;34m[\u001b[0m\u001b[0;36m0\u001b[0m\u001b[0;34m]\u001b[0m\u001b[0;34m.\u001b[0m\u001b[0mdtype\u001b[0m \u001b[0;34m==\u001b[0m \u001b[0min_types\u001b[0m\u001b[0;34m[\u001b[0m\u001b[0;36m1\u001b[0m\u001b[0;34m]\u001b[0m\u001b[0;34m.\u001b[0m\u001b[0mdtype\u001b[0m\u001b[0;34m,\u001b[0m\u001b[0;34m\u001b[0m\u001b[0m\n\u001b[0;32m--> 236\u001b[0;31m             \u001b[0min_types\u001b[0m\u001b[0;34m[\u001b[0m\u001b[0;36m0\u001b[0m\u001b[0;34m]\u001b[0m\u001b[0;34m.\u001b[0m\u001b[0mshape\u001b[0m \u001b[0;34m==\u001b[0m \u001b[0min_types\u001b[0m\u001b[0;34m[\u001b[0m\u001b[0;36m1\u001b[0m\u001b[0;34m]\u001b[0m\u001b[0;34m.\u001b[0m\u001b[0mshape\u001b[0m\u001b[0;34m\u001b[0m\u001b[0m\n\u001b[0m\u001b[1;32m    237\u001b[0m         )\n\u001b[1;32m    238\u001b[0m \u001b[0;34m\u001b[0m\u001b[0m\n",
      "\u001b[0;32m/Users/uents/.anyenv/envs/pyenv/versions/anaconda2-4.3.0/lib/python2.7/site-packages/chainer/utils/type_check.pyc\u001b[0m in \u001b[0;36mexpect\u001b[0;34m(*bool_exprs)\u001b[0m\n\u001b[1;32m    485\u001b[0m     \u001b[0;32mfor\u001b[0m \u001b[0mexpr\u001b[0m \u001b[0;32min\u001b[0m \u001b[0mbool_exprs\u001b[0m\u001b[0;34m:\u001b[0m\u001b[0;34m\u001b[0m\u001b[0m\n\u001b[1;32m    486\u001b[0m         \u001b[0;32massert\u001b[0m \u001b[0misinstance\u001b[0m\u001b[0;34m(\u001b[0m\u001b[0mexpr\u001b[0m\u001b[0;34m,\u001b[0m \u001b[0mTestable\u001b[0m\u001b[0;34m)\u001b[0m\u001b[0;34m\u001b[0m\u001b[0m\n\u001b[0;32m--> 487\u001b[0;31m         \u001b[0mexpr\u001b[0m\u001b[0;34m.\u001b[0m\u001b[0mexpect\u001b[0m\u001b[0;34m(\u001b[0m\u001b[0;34m)\u001b[0m\u001b[0;34m\u001b[0m\u001b[0m\n\u001b[0m\u001b[1;32m    488\u001b[0m \u001b[0;34m\u001b[0m\u001b[0m\n\u001b[1;32m    489\u001b[0m \u001b[0;34m\u001b[0m\u001b[0m\n",
      "\u001b[0;32m/Users/uents/.anyenv/envs/pyenv/versions/anaconda2-4.3.0/lib/python2.7/site-packages/chainer/utils/type_check.pyc\u001b[0m in \u001b[0;36mexpect\u001b[0;34m(self)\u001b[0m\n\u001b[1;32m    447\u001b[0m             raise InvalidType(\n\u001b[1;32m    448\u001b[0m                 \u001b[0;34m'{0} {1} {2}'\u001b[0m\u001b[0;34m.\u001b[0m\u001b[0mformat\u001b[0m\u001b[0;34m(\u001b[0m\u001b[0mself\u001b[0m\u001b[0;34m.\u001b[0m\u001b[0mlhs\u001b[0m\u001b[0;34m,\u001b[0m \u001b[0mself\u001b[0m\u001b[0;34m.\u001b[0m\u001b[0mexp\u001b[0m\u001b[0;34m,\u001b[0m \u001b[0mself\u001b[0m\u001b[0;34m.\u001b[0m\u001b[0mrhs\u001b[0m\u001b[0;34m)\u001b[0m\u001b[0;34m,\u001b[0m\u001b[0;34m\u001b[0m\u001b[0m\n\u001b[0;32m--> 449\u001b[0;31m                 '{0} {1} {2}'.format(left, self.inv, right))\n\u001b[0m\u001b[1;32m    450\u001b[0m \u001b[0;34m\u001b[0m\u001b[0m\n\u001b[1;32m    451\u001b[0m \u001b[0;34m\u001b[0m\u001b[0m\n",
      "\u001b[0;31mInvalidType\u001b[0m: \nInvalid operation is performed in: _ * _ (Forward)\n\nExpect: in_types[0].shape == in_types[1].shape\nActual: (10, 155, 2, 7) != (10, 155, 1, 7)"
     ]
    }
   ],
   "source": [
    "# グリッド毎のクラス確率を算出 (N_BOXES, N_CLASSES, N_GRID, N_GRID)\n",
    "class_prob_map = pprob * pconf\n",
    "\n",
    "# 最大クラス確率となるクラスラベルを抽出 (N_BOXES, N_GRID, N_GRID)\n",
    "class_label_map = class_prob_map.argmax(axis=0)\n",
    "\n",
    "# 最大クラス確率が閾値以上のグリッドを検出候補として抽出 (N_BOXES, N_GRID, N_GRID)\n",
    "candidate_map = class_prob_map.max(axis=0) > CLASS_PROBABILITY_THRESH\n",
    "\n",
    "# 検出候補のグリッド位置を抽出 (N_BOXES, )\n",
    "grid_cells = [Point(x=float(point[1]), y=float(point[0])) for point in np.argwhere(candidate_map)]"
   ]
  },
  {
   "cell_type": "code",
   "execution_count": null,
   "metadata": {
    "collapsed": false
   },
   "outputs": [],
   "source": [
    "px[0][candidate_map][0]"
   ]
  },
  {
   "cell_type": "code",
   "execution_count": null,
   "metadata": {
    "collapsed": false
   },
   "outputs": [],
   "source": [
    "candidates = []\n",
    "for i in six.moves.range(0, candidate_map.sum()):\n",
    "    w = np.exp(pw[candidate_map][i]) * anchor_box[0]\n",
    "    h = np.epx(ph[candidate_map][i]) * anchor_box[1]\n",
    "    x = max(px[candidate_map][i] + grid_cell.x - w/2, 0.)\n",
    "    y = max(py[candidate_map][i] + grid_cell.y - h/2, 0.)\n",
    "    w = min(w, N_GRID - x)\n",
    "    h = min(h, N_GRID - y)\n",
    "    grid_box = Box(x=x, y=y, width=w, height=h,\n",
    "                           confidence=pconf[candidate_map][i],\n",
    "                           clazz=class_label_map[candidate_map][i],\n",
    "                           objectness=class_prob_map.max(axis=0)[candidate_map][i])\n",
    "    candidates.append(grid_to_yolo_coord(grid_box, grid_cells[i]))"
   ]
  },
  {
   "cell_type": "code",
   "execution_count": null,
   "metadata": {
    "collapsed": false
   },
   "outputs": [],
   "source": [
    "pconf[0][candidate_map]"
   ]
  },
  {
   "cell_type": "code",
   "execution_count": null,
   "metadata": {
    "collapsed": false,
    "scrolled": true
   },
   "outputs": [],
   "source": [
    "plt.plot(F.tanh(np.arange(-100,100,2).astype(np.float32) / 100.).data)"
   ]
  },
  {
   "cell_type": "code",
   "execution_count": null,
   "metadata": {
    "collapsed": false
   },
   "outputs": [],
   "source": [
    "np.exp(0)"
   ]
  },
  {
   "cell_type": "code",
   "execution_count": null,
   "metadata": {
    "collapsed": false
   },
   "outputs": [],
   "source": [
    "F.tanh(np.arange(-100,100,2)).data"
   ]
  },
  {
   "cell_type": "code",
   "execution_count": null,
   "metadata": {
    "collapsed": false
   },
   "outputs": [],
   "source": [
    "pd.DataFrame(np.exp(np.arange(-1,1,0.1)), index=np.arange(-1,1,0.1)).plot()"
   ]
  },
  {
   "cell_type": "code",
   "execution_count": null,
   "metadata": {
    "collapsed": false
   },
   "outputs": [],
   "source": [
    "np.random.randint(0, 255, size=(1,3,224,224)) / 255."
   ]
  },
  {
   "cell_type": "code",
   "execution_count": null,
   "metadata": {
    "collapsed": false
   },
   "outputs": [],
   "source": [
    "ANCHOR_BOXES = np.array([[5.375, 5.03125], [5.40625, 2.6875], [2.96875, 2.53125], [1.59375, 1.78125], [1.2375, 5.25]])\n",
    "int(len(ANCHOR_BOXES))"
   ]
  },
  {
   "cell_type": "code",
   "execution_count": null,
   "metadata": {
    "collapsed": false
   },
   "outputs": [],
   "source": [
    "np.sort(np.asarray([0.09165094, 0.15258172, 0.69590072, 0.17525685, 0.78319937, 0.64341082,\n",
    "      0.59390963, 0.61937724, 0.61221406, 0.19246834, 0.63833827, 0.,\n",
    "      0.07429834, 0.68174421, 0.301886, 0.36671587, 0.70641377, 0.17396223,\n",
    "      0.19986209, 0.57469907]))[::-1]"
   ]
  },
  {
   "cell_type": "code",
   "execution_count": null,
   "metadata": {
    "collapsed": false
   },
   "outputs": [],
   "source": [
    "truth_box = ts[0][0]\n",
    "truth_box"
   ]
  },
  {
   "cell_type": "code",
   "execution_count": null,
   "metadata": {
    "collapsed": false
   },
   "outputs": [],
   "source": [
    "anchor_ious = np.asarray([Box.iou(Box(0., 0., anchor_box[0], anchor_box[1]),\n",
    "                            Box(0., 0., truth_box.width, truth_box.height))\n",
    "                    for anchor_box in ANCHOR_BOXES])"
   ]
  },
  {
   "cell_type": "code",
   "execution_count": null,
   "metadata": {
    "collapsed": false
   },
   "outputs": [],
   "source": [
    "anchor_ious"
   ]
  },
  {
   "cell_type": "code",
   "execution_count": null,
   "metadata": {
    "collapsed": false
   },
   "outputs": [],
   "source": [
    "np.argmax(anchor_ious)"
   ]
  },
  {
   "cell_type": "code",
   "execution_count": null,
   "metadata": {
    "collapsed": true
   },
   "outputs": [],
   "source": []
  }
 ],
 "metadata": {
  "kernelspec": {
   "display_name": "Python 2",
   "language": "python",
   "name": "python2"
  },
  "language_info": {
   "codemirror_mode": {
    "name": "ipython",
    "version": 2
   },
   "file_extension": ".py",
   "mimetype": "text/x-python",
   "name": "python",
   "nbconvert_exporter": "python",
   "pygments_lexer": "ipython2",
   "version": "2.7.13"
  }
 },
 "nbformat": 4,
 "nbformat_minor": 2
}
