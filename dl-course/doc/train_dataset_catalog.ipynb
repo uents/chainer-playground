{
 "cells": [
  {
   "cell_type": "markdown",
   "metadata": {},
   "source": [
    "# 学習データセットのカタログ検討"
   ]
  },
  {
   "cell_type": "code",
   "execution_count": 1,
   "metadata": {
    "collapsed": true
   },
   "outputs": [],
   "source": [
    "from __future__ import unicode_literals\n",
    "from __future__ import print_function\n",
    "import sys\n",
    "import os\n",
    "import math\n",
    "import random\n",
    "import numpy as np\n",
    "import pandas as pd\n",
    "import seaborn as sns\n",
    "import matplotlib.pyplot as plt\n",
    "import cv2\n",
    "import json\n",
    "import jsonschema\n",
    "\n",
    "# インラインでグラフを表示\n",
    "%matplotlib inline\n",
    "sns.set_style('whitegrid')\n",
    "plt.rcParams['figure.figsize'] = (9, 6)"
   ]
  },
  {
   "cell_type": "code",
   "execution_count": 2,
   "metadata": {
    "collapsed": false
   },
   "outputs": [
    {
     "data": {
      "text/plain": [
       "sys.version_info(major=2, minor=7, micro=13, releaselevel='final', serial=0)"
      ]
     },
     "execution_count": 2,
     "metadata": {},
     "output_type": "execute_result"
    }
   ],
   "source": [
    "sys.version_info"
   ]
  },
  {
   "cell_type": "code",
   "execution_count": 3,
   "metadata": {
    "collapsed": false
   },
   "outputs": [
    {
     "data": {
      "text/plain": [
       "'3.1.0'"
      ]
     },
     "execution_count": 3,
     "metadata": {},
     "output_type": "execute_result"
    }
   ],
   "source": [
    "cv2.__version__"
   ]
  },
  {
   "cell_type": "markdown",
   "metadata": {},
   "source": [
    "## カタログの作成"
   ]
  },
  {
   "cell_type": "code",
   "execution_count": 4,
   "metadata": {
    "collapsed": true
   },
   "outputs": [],
   "source": [
    "root_dir = os.path.join('..', '..', 'contest', 'APC', 'Single')\n",
    "camera_image_dir = os.path.join(root_dir, 'Single')\n",
    "mask_image_dir = os.path.join(root_dir, 'mask_label', 'single')"
   ]
  },
  {
   "cell_type": "code",
   "execution_count": 5,
   "metadata": {
    "collapsed": false
   },
   "outputs": [
    {
     "data": {
      "text/html": [
       "<div>\n",
       "<table border=\"1\" class=\"dataframe\">\n",
       "  <thead>\n",
       "    <tr style=\"text-align: right;\">\n",
       "      <th></th>\n",
       "      <th>class</th>\n",
       "      <th>r</th>\n",
       "      <th>g</th>\n",
       "      <th>b</th>\n",
       "    </tr>\n",
       "  </thead>\n",
       "  <tbody>\n",
       "    <tr>\n",
       "      <th>22</th>\n",
       "      <td>23</td>\n",
       "      <td>255</td>\n",
       "      <td>128</td>\n",
       "      <td>255</td>\n",
       "    </tr>\n",
       "    <tr>\n",
       "      <th>23</th>\n",
       "      <td>24</td>\n",
       "      <td>0</td>\n",
       "      <td>255</td>\n",
       "      <td>255</td>\n",
       "    </tr>\n",
       "    <tr>\n",
       "      <th>24</th>\n",
       "      <td>25</td>\n",
       "      <td>128</td>\n",
       "      <td>255</td>\n",
       "      <td>255</td>\n",
       "    </tr>\n",
       "  </tbody>\n",
       "</table>\n",
       "</div>"
      ],
      "text/plain": [
       "    class    r    g    b\n",
       "22     23  255  128  255\n",
       "23     24    0  255  255\n",
       "24     25  128  255  255"
      ]
     },
     "execution_count": 5,
     "metadata": {},
     "output_type": "execute_result"
    }
   ],
   "source": [
    "path = os.path.join(mask_image_dir, '..', 'item_table.csv')\n",
    "df_items = pd.read_csv(path, encoding='cp932')\n",
    "df_items.tail(3)"
   ]
  },
  {
   "cell_type": "code",
   "execution_count": 6,
   "metadata": {
    "collapsed": false
   },
   "outputs": [],
   "source": [
    "def extract_bounding_boxes(path, df_items):\n",
    "    boxes = []\n",
    "\n",
    "    # ラベルの矩形領域と重心位置を取得\n",
    "    # XXX:このロジックは複数ラベルに対応できない\n",
    "    labels_image = cv2.cvtColor(cv2.imread(path), cv2.COLOR_BGR2RGB)\n",
    "    width, height, _ = labels_image.shape\n",
    "    labels_gray = cv2.cvtColor(labels_image, cv2.COLOR_BGR2GRAY)\n",
    "    #_, labels_binary = cv2.threshold(labels_gray, 0, 255, cv2.THRESH_BINARY)\n",
    "    #labels_binary = cv2.bitwise_not(labels_binary)\n",
    "    _, _, stats, centroids = cv2.connectedComponentsWithStats(labels_gray)\n",
    "\n",
    "    for stat, centroid in zip(stats, centroids):\n",
    "        b_x, b_y, b_w, b_h, _ = stat[0], stat[1], stat[2], stat[3], stat[4]\n",
    "        c_x, c_y = int(math.floor(centroid[1])), int(math.floor(centroid[0]))\n",
    "        # 面積が極端に小さい・大きい領域は誤検出のため除外\n",
    "        if b_w * b_h <= (width * 2) or b_w * b_h >= (width * height  * 0.95):\n",
    "            continue\n",
    "        # 重心位置の画素からクラス値を決定\n",
    "        r, g, b = labels_image[c_x][c_y]\n",
    "        clazz = int(df_items[(df_items['r'] == r) & (df_items['g'] == g) & (df_items['b'] == b)]['class'].values[0])\n",
    "        # 結果を格納\n",
    "        boxes.append({\n",
    "            'class': str(clazz), 'x': str(b_x), 'y': str(b_y), 'width': str(b_w), 'height': str(b_h)\n",
    "        })\n",
    "    return boxes"
   ]
  },
  {
   "cell_type": "code",
   "execution_count": 7,
   "metadata": {
    "collapsed": true
   },
   "outputs": [],
   "source": [
    "def find_label_images(dir_path):\n",
    "    for root, dirs, files in os.walk(dir_path):\n",
    "        for f in files:\n",
    "            if f == str('label.bmp'):\n",
    "                yield os.path.join(root, f)"
   ]
  },
  {
   "cell_type": "code",
   "execution_count": 8,
   "metadata": {
    "collapsed": false
   },
   "outputs": [],
   "source": [
    "dataset = []\n",
    "\n",
    "for path in find_label_images(mask_image_dir):\n",
    "    _, clazz, pattern_id, _ = path.split(mask_image_dir)[1].split('/')\n",
    "    classes = clazz.split('_')\n",
    "    color_image_path = os.path.join(camera_image_dir, clazz, pattern_id, 'color.bmp')\n",
    "    depth_image_path = os.path.join(camera_image_dir, clazz, pattern_id, 'depth.bmp.bmp')\n",
    "    label_image_path = path\n",
    "    bounding_boxes = extract_bounding_boxes(label_image_path, df_items)\n",
    "    dataset.append({\n",
    "        'classes': classes,\n",
    "        'pattern_id': pattern_id,\n",
    "        'color_image_path': os.path.abspath(color_image_path),\n",
    "        'depth_image_path': os.path.abspath(depth_image_path),\n",
    "        'label_image_path': os.path.abspath(label_image_path),\n",
    "        'bounding_boxes': bounding_boxes\n",
    "    })"
   ]
  },
  {
   "cell_type": "code",
   "execution_count": 9,
   "metadata": {
    "collapsed": false
   },
   "outputs": [],
   "source": [
    "with open('train_dataset_catalog_sample.json', 'w') as fp:\n",
    "    json.dump({'dataset': dataset}, fp, sort_keys=True, ensure_ascii=False, indent=2)"
   ]
  },
  {
   "cell_type": "markdown",
   "metadata": {},
   "source": [
    "## カタログスキーマそのもののチェック"
   ]
  },
  {
   "cell_type": "code",
   "execution_count": 10,
   "metadata": {
    "collapsed": true
   },
   "outputs": [],
   "source": [
    "path = os.path.join('..', '..', 'schema', 'train_dataset_catalog_schema.json')\n",
    "with open(path, 'r') as fp:\n",
    "    catalog_schema = json.load(fp)\n",
    "jsonschema.Draft4Validator.check_schema(catalog_schema)"
   ]
  },
  {
   "cell_type": "markdown",
   "metadata": {},
   "source": [
    "## カタログ情報のスキーマによる検定"
   ]
  },
  {
   "cell_type": "code",
   "execution_count": 11,
   "metadata": {
    "collapsed": false
   },
   "outputs": [],
   "source": [
    "with open('train_dataset_catalog_sample.json', 'r') as fp:\n",
    "    catalog = json.load(fp)\n",
    "jsonschema.validate(catalog, catalog_schema)"
   ]
  },
  {
   "cell_type": "code",
   "execution_count": null,
   "metadata": {
    "collapsed": true
   },
   "outputs": [],
   "source": []
  }
 ],
 "metadata": {
  "kernelspec": {
   "display_name": "Python 2",
   "language": "python",
   "name": "python2"
  },
  "language_info": {
   "codemirror_mode": {
    "name": "ipython",
    "version": 2
   },
   "file_extension": ".py",
   "mimetype": "text/x-python",
   "name": "python",
   "nbconvert_exporter": "python",
   "pygments_lexer": "ipython2",
   "version": "2.7.13"
  }
 },
 "nbformat": 4,
 "nbformat_minor": 2
}
