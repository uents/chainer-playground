{
 "cells": [
  {
   "cell_type": "markdown",
   "metadata": {},
   "source": [
    "# YOLO検討ノート"
   ]
  },
  {
   "cell_type": "code",
   "execution_count": 1,
   "metadata": {
    "collapsed": true
   },
   "outputs": [],
   "source": [
    "from __future__ import unicode_literals\n",
    "from __future__ import print_function\n",
    "import sys\n",
    "import os\n",
    "import math\n",
    "import random\n",
    "import numpy as np\n",
    "import scipy.io\n",
    "import pandas as pd\n",
    "import seaborn as sns\n",
    "import matplotlib.pyplot as plt\n",
    "import cv2\n",
    "import json\n",
    "\n",
    "import chainer\n",
    "import chainer.functions as F\n",
    "import chainer.links as L\n",
    "\n",
    "%matplotlib inline\n",
    "sns.set_style('whitegrid')"
   ]
  },
  {
   "cell_type": "code",
   "execution_count": 2,
   "metadata": {
    "collapsed": false
   },
   "outputs": [
    {
     "data": {
      "text/plain": [
       "'2.7.13 |Anaconda 4.3.0 (x86_64)| (default, Dec 20 2016, 23:05:08) \\n[GCC 4.2.1 Compatible Apple LLVM 6.0 (clang-600.0.57)]'"
      ]
     },
     "execution_count": 2,
     "metadata": {},
     "output_type": "execute_result"
    }
   ],
   "source": [
    "sys.version"
   ]
  },
  {
   "cell_type": "code",
   "execution_count": 3,
   "metadata": {
    "collapsed": false
   },
   "outputs": [
    {
     "data": {
      "text/plain": [
       "'3.1.0'"
      ]
     },
     "execution_count": 3,
     "metadata": {},
     "output_type": "execute_result"
    }
   ],
   "source": [
    "cv2.__version__"
   ]
  },
  {
   "cell_type": "code",
   "execution_count": 4,
   "metadata": {
    "collapsed": false
   },
   "outputs": [
    {
     "data": {
      "text/plain": [
       "'1.22.0'"
      ]
     },
     "execution_count": 4,
     "metadata": {},
     "output_type": "execute_result"
    }
   ],
   "source": [
    "chainer.__version__"
   ]
  },
  {
   "cell_type": "markdown",
   "metadata": {},
   "source": [
    "## ネットワーク構成"
   ]
  },
  {
   "cell_type": "code",
   "execution_count": 5,
   "metadata": {
    "collapsed": true
   },
   "outputs": [],
   "source": [
    "xp = np\n",
    "\n",
    "N_BOXES = 1\n",
    "N_CLASSES = 26  # 0..25\n",
    "                # F.softmax_cross_entropy()で扱うラベルが\n",
    "                # 0始まりの必要があるため、便宜的に0を追加\n",
    "N_GRID = 7\n",
    "INPUT_SIZE = 448\n",
    "N_CNN_LAYER = 7"
   ]
  },
  {
   "cell_type": "code",
   "execution_count": 6,
   "metadata": {
    "collapsed": false
   },
   "outputs": [
    {
     "data": {
      "text/plain": [
       "1519"
      ]
     },
     "execution_count": 6,
     "metadata": {},
     "output_type": "execute_result"
    }
   ],
   "source": [
    "(N_GRID**2) * ((N_BOXES * 5) + N_CLASSES)"
   ]
  },
  {
   "cell_type": "code",
   "execution_count": 7,
   "metadata": {
    "collapsed": false
   },
   "outputs": [],
   "source": [
    "class YoloClassifier(chainer.Chain):\n",
    "    def __init__(self, gpu=-1):\n",
    "        super(YoloClassifier, self).__init__(\n",
    "            conv1  = L.Convolution2D(3,      16, ksize=3, stride=1, pad=1),\n",
    "            conv2  = L.Convolution2D(None,   32, ksize=3, stride=1, pad=1),\n",
    "            conv3  = L.Convolution2D(None,   64, ksize=3, stride=1, pad=1),\n",
    "            conv4  = L.Convolution2D(None,  128, ksize=3, stride=1, pad=1),\n",
    "            conv5  = L.Convolution2D(None,  256, ksize=3, stride=1, pad=1),\n",
    "            conv6  = L.Convolution2D(None,  512, ksize=3, stride=1, pad=1),\n",
    "            conv7  = L.Convolution2D(None, 1024, ksize=3, stride=1, pad=1),\n",
    "            # addditonal layers for pretraining\n",
    "            conv8  = L.Convolution2D(None, N_CLASSES, ksize=1, stride=1, pad=0),\n",
    "        )\n",
    "        self.train = False\n",
    "        self.gpu = gpu\n",
    "        if self.gpu >= 0: self.to_gpu()\n",
    "\n",
    "    def forward(self, x):\n",
    "        batch_size = x.data.shape[0]\n",
    "        h = F.leaky_relu(self.conv1(x), slope=0.1)\n",
    "        h = F.max_pooling_2d(h, ksize=2, stride=2, pad=0) # 224x224\n",
    "        h = F.leaky_relu(self.conv2(h), slope=0.1)\n",
    "        h = F.max_pooling_2d(h, ksize=2, stride=2, pad=0) # 112x112\n",
    "        h = F.leaky_relu(self.conv3(h), slope=0.1)\n",
    "        h = F.max_pooling_2d(h, ksize=2, stride=2, pad=0) # 56x56\n",
    "        h = F.leaky_relu(self.conv4(h), slope=0.1)\n",
    "        h = F.max_pooling_2d(h, ksize=2, stride=2, pad=0) # 28x28\n",
    "        h = F.leaky_relu(self.conv5(h), slope=0.1)\n",
    "        h = F.max_pooling_2d(h, ksize=2, stride=2, pad=0) # 14x14\n",
    "        h = F.leaky_relu(self.conv6(h), slope=0.1)\n",
    "        h = F.max_pooling_2d(h, ksize=2, stride=2, pad=0) # 7x7\n",
    "        h = F.leaky_relu(self.conv7(h), slope=0.1)\n",
    "        # additional layers for pretraining\n",
    "        h = self.conv8(h)\n",
    "        h = F.average_pooling_2d(h, h.data.shape[-1], stride=1, pad=0)\n",
    "        # reshape result tensor\n",
    "        h = F.reshape(h, (batch_size, -1))\n",
    "        return h\n",
    "\n",
    "    def __call__(self, x, t):\n",
    "        h = self.forward(x)\n",
    "        self.loss = F.softmax_cross_entropy(h, t)\n",
    "        self.accuracy = F.accuracy(h, t)\n",
    "        if self.train:\n",
    "            return self.loss\n",
    "        else:\n",
    "            return F.softmax(h)"
   ]
  },
  {
   "cell_type": "code",
   "execution_count": 219,
   "metadata": {
    "collapsed": false
   },
   "outputs": [],
   "source": [
    "class YoloDetector(chainer.Chain):\n",
    "    def __init__(self, gpu=-1):\n",
    "        super(YoloDetector, self).__init__(\n",
    "            conv1  = L.Convolution2D(3,      16, ksize=3, stride=1, pad=1),\n",
    "            conv2  = L.Convolution2D(None,   32, ksize=3, stride=1, pad=1),\n",
    "            conv3  = L.Convolution2D(None,   64, ksize=3, stride=1, pad=1),\n",
    "            conv4  = L.Convolution2D(None,  128, ksize=3, stride=1, pad=1),\n",
    "            conv5  = L.Convolution2D(None,  256, ksize=3, stride=1, pad=1),\n",
    "            conv6 = L.Convolution2D(None,  512, ksize=3, stride=1, pad=1),\n",
    "            conv7 = L.Convolution2D(None, 1024, ksize=3, stride=1, pad=1),\n",
    "            conv8 = L.Convolution2D(None, 1024, ksize=3, stride=1, pad=1),\n",
    "            conv9 = L.Convolution2D(None, 1024, ksize=3, stride=1, pad=1),\n",
    "            fc1 = L.Linear(50176, 256), # (1024,7,7)=50176\n",
    "            fc2 = L.Linear(None, 4096),\n",
    "            fc3 = L.Linear(None, ((N_BOXES*5)+N_CLASSES) * (N_GRID**2))\n",
    "        )\n",
    "        self.train = False\n",
    "        self.class_prob_thresh = 0.3\n",
    "        self.iou_thresh = 0.3\n",
    "        self.gpu = gpu\n",
    "        if self.gpu >= 0: self.to_gpu()\n",
    "\n",
    "    def forward(self, x):\n",
    "        batch_size = x.data.shape[0]\n",
    "        h = F.leaky_relu(self.conv1(x), slope=0.1)\n",
    "        h = F.max_pooling_2d(h, ksize=2, stride=2, pad=0) # 224x224\n",
    "        h = F.leaky_relu(self.conv2(h), slope=0.1)\n",
    "        h = F.max_pooling_2d(h, ksize=2, stride=2, pad=0) # 112x112\n",
    "        h = F.leaky_relu(self.conv3(h), slope=0.1)\n",
    "        h = F.max_pooling_2d(h, ksize=2, stride=2, pad=0) # 56x56\n",
    "        h = F.leaky_relu(self.conv4(h), slope=0.1)\n",
    "        h = F.max_pooling_2d(h, ksize=2, stride=2, pad=0) # 28x28\n",
    "        h = F.leaky_relu(self.conv5(h), slope=0.1)\n",
    "        h = F.max_pooling_2d(h, ksize=2, stride=2, pad=0) # 14x14\n",
    "        h = F.leaky_relu(self.conv6(h), slope=0.1)\n",
    "        h = F.max_pooling_2d(h, ksize=2, stride=2, pad=0) # 7x7\n",
    "        h = F.leaky_relu(self.conv7(h), slope=0.1)\n",
    "        h = F.leaky_relu(self.conv8(h), slope=0.1)\n",
    "        h = F.leaky_relu(self.conv9(h), slope=0.1)\n",
    "        h = F.leaky_relu(self.fc1(h), slope=0.1)\n",
    "        h = F.dropout(h, train=self.train, ratio=0.5)\n",
    "        h = F.leaky_relu(self.fc2(h), slope=0.1)\n",
    "        h = self.fc3(h)\n",
    "        # reshape predicted tensor\n",
    "        h = F.reshape(h, (batch_size, (5*N_BOXES)+N_CLASSES, N_GRID, N_GRID))\n",
    "        return h\n",
    "\n",
    "    def __call__(self, x, t):\n",
    "        # 推論を実行\n",
    "        px, py, pw, ph, pconf, pprob = self.forward(x)\n",
    "        # 教師データを抽出\n",
    "        if self.gpu >= 0: t.to_cpu()\n",
    "        tx, ty, tw, th, tconf, _tprob = np.array_split(t.data, indices_or_sections=(1,2,3,4,5), axis=1)\n",
    "#        tx, ty, tw, th, tconf, tprob = F.split_axis(t, indices_or_sections=(1,2,3,4,5), axis=1)\n",
    "        if self.gpu >= 0: t.to_gpu()\n",
    "\n",
    "        # オブジェクトが存在しないグリッドは、活性化後にグリッド中心となるよう学習\n",
    "        tx[tconf != 1.0] = 0.5\n",
    "        ty[tconf != 1.0] = 0.5\n",
    "        # オブジェクトが存在しないグリッドは、学習させない\n",
    "        if self.gpu >= 0: pprob.to_cpu()\n",
    "        tprob = pprob.data.copy()\n",
    "        if self.gpu >= 0: pprob.to_gpu()\n",
    "        tprob[_tprob == 1.0] = 1.0\n",
    "        # 学習係数を、オブジェクトが存在するグリッドか否かで調整\n",
    "        box_learning_scale = np.tile(0.1, tconf.shape)\n",
    "        box_learning_scale[tconf == 1.0] = 5.0\n",
    "        conf_learning_scale = np.tile(0.5, tconf.shape)\n",
    "        conf_learning_scale[tconf == 1.0] = 1.0\n",
    "        prob_learning_scale = np.tile(0.0, tconf.shape)\n",
    "        prob_learning_scale[tconf == 1.0] = 1.0\n",
    "\n",
    "        # 損失誤差を算出\n",
    "        tx = self.__variable(tx, np.float32)\n",
    "        ty = self.__variable(ty, np.float32)\n",
    "        tw = self.__variable(tw, np.float32)\n",
    "        th = self.__variable(th, np.float32)\n",
    "        tconf = self.__variable(tconf, np.float32)\n",
    "        tprob = self.__variable(tprob, np.float32)\n",
    "        if self.gpu >=0:\n",
    "            tx.to_gpu(), ty.to_gpu(), tw.to_gpu(), th.to_gpu(), tconf.to_gpu(), tprob.to_gpu()\n",
    "        box_learning_scale = self.__variable(box_learning_scale, np.float32)\n",
    "        conf_learning_scale = self.__variable(conf_learning_scale, np.float32)\n",
    "        prob_learning_scale = self.__variable(prob_learning_scale, np.float32)\n",
    "        if self.gpu >=0:\n",
    "            box_learning_scale.to_gpu(), conf_learning_scale.to_gpu(), prob_learning_scale.to_gpu()\n",
    "\n",
    "#        print(type(tx), tx.shape, type(px), px.shape)\n",
    "        x_loss = F.sum(box_learning_scale * ((tx - px) ** 2))\n",
    "        y_loss = F.sum(box_learning_scale * ((ty - py) ** 2))\n",
    "        w_loss = F.sum(box_learning_scale * ((tw - pw) ** 2))\n",
    "        h_loss = F.sum(box_learning_scale * ((th - ph) ** 2))\n",
    "        conf_loss = F.sum(conf_learning_scale * ((tconf - pconf) ** 2))\n",
    "        prob_loss = F.sum(prob_learning_scale * F.reshape(F.sum(((tprob - pprob) ** 2), axis=1), prob_learning_scale.shape))\n",
    "#        prob_loss = F.sum((tprob - pprob) ** 2)\n",
    "\n",
    "        if self.train:\n",
    "            print(\"loss x:%f y:%f w:%f h:%f conf:%f prob:%f\" %\n",
    "                  (x_loss.data, y_loss.data, w_loss.data, h_loss.data, conf_loss.data, prob_loss.data))\n",
    "        self.loss = x_loss + y_loss + w_loss + h_loss + conf_loss + prob_loss\n",
    "\n",
    "        if self.gpu >= 0:\n",
    "            px.to_cpu(), py.to_cpu(), pw.to_cpu(), ph.to_cpu(), pconf.to_cpu(), pprob.to_cpu()\n",
    "        self.detected_boxes = self.__detection(px, py, pw, ph, pconf, pprob)\n",
    "        if self.gpu >= 0:\n",
    "            px.to_gpu(), py.to_gpu(), pw.to_gpu(), ph.to_gpu(), pconf.to_gpu(), pprob.to_gpu()\n",
    "\n",
    "        if self.train:\n",
    "            return self.loss\n",
    "        else:\n",
    "            return self.detected_boxes\n",
    "\n",
    "    def inference(self, x):\n",
    "        px, py, pw, ph, pconf, pprob = self.forward(x)\n",
    "        return self.__detection(px, py, pw, ph, pconf, pprob)\n",
    "\n",
    "    def __detection(self, px, py, pw, ph, pconf, pprob):\n",
    "        batch_size = px.data.shape[0]\n",
    "        _px = F.reshape(px, (batch_size, N_GRID, N_GRID)).data\n",
    "        _py = F.reshape(py, (batch_size, N_GRID, N_GRID)).data\n",
    "        _pw = F.reshape(pw, (batch_size, N_GRID, N_GRID)).data\n",
    "        _ph = F.reshape(ph, (batch_size, N_GRID, N_GRID)).data\n",
    "        _pconf = F.reshape(pconf, (batch_size, N_GRID, N_GRID)).data\n",
    "        _pprob = pprob.data\n",
    "\n",
    "        boxes = []\n",
    "        for i in range(0, batch_size):\n",
    "            candidates = self.__select_candidates(\n",
    "                _px[i], _py[i], _pw[i], _ph[i], _pconf[i], _pprob[i], self.class_prob_thresh)\n",
    "            winners = self.__nms(candidates, self.iou_thresh)\n",
    "            boxes.append(winners)\n",
    "        return boxes\n",
    "\n",
    "    def __select_candidates(self, px, py, pw, ph, pconf, pprob, class_prob_thresh):\n",
    "        class_prob_map = pprob * pconf # クラス確率を算出 (N_CLASSES,N_GRID,N_GRID)\n",
    "        candidate_map = class_prob_map.max(axis=0) > class_prob_thresh # 検出グリッド候補を決定 (N_GRID,N_GRID)\n",
    "        candidate_label_map = class_prob_map.argmax(axis=0) # 検出グリッド候補のラベルを抽出 (N_GRID,N_GRID)\n",
    "        candidates = []\n",
    "        for i in range(0, candidate_map.sum()):\n",
    "            candidates.append({\n",
    "                'box': Box(px[candidate_map][i], py[candidate_map][i],\n",
    "                        pw[candidate_map][i], ph[candidate_map][i]),\n",
    "                #'conf': pconf[candidate_map][i],\n",
    "                #'prob': pprob.transpose(1,2,0)[candidate_map][i],\n",
    "                'objectness': class_prob_map.max(axis=0)[candidate_map][i],\n",
    "                'label': candidate_label_map[candidate_map][i]\n",
    "            })\n",
    "        return candidatess\n",
    "\n",
    "    def __nms(self, candidates, iou_thresh):\n",
    "        sorted(candidates, key=lambda x: x['objectness'], reverse=True)\n",
    "        winners = []\n",
    "\n",
    "        if len(candidates) == 0:\n",
    "            return winners\n",
    "\n",
    "        winners.append(candidates[0]) # 第１候補は必ず採用\n",
    "        for i in range(1, len(candidates)): # 第２候補以降は上位の候補とのIOU次第\n",
    "            for j in range(0, i):\n",
    "                if Box.iou(candidates[i]['box'], candidates[j]['box']) > iou_thresh:\n",
    "                    break\n",
    "            else:\n",
    "                winners.append(candidates[i])\n",
    "        return winners\n",
    "\n",
    "    def __variable(self, v, t):\n",
    "        return chainer.Variable(xp.asarray(v).astype(t))"
   ]
  },
  {
   "cell_type": "markdown",
   "metadata": {
    "collapsed": true
   },
   "source": [
    "## 学習データのロード"
   ]
  },
  {
   "cell_type": "code",
   "execution_count": 9,
   "metadata": {
    "collapsed": false
   },
   "outputs": [
    {
     "data": {
      "text/plain": [
       "600"
      ]
     },
     "execution_count": 9,
     "metadata": {},
     "output_type": "execute_result"
    }
   ],
   "source": [
    "with open(os.path.join('..', '..', 'cache', 'train_catalog.json'), 'r') as fp:\n",
    "    catalog = json.load(fp)\n",
    "    \n",
    "train_dataset = filter(lambda item: item['bounding_boxes'] != [], catalog['dataset'])\n",
    "len(train_dataset)"
   ]
  },
  {
   "cell_type": "code",
   "execution_count": 10,
   "metadata": {
    "collapsed": false
   },
   "outputs": [
    {
     "data": {
      "text/plain": [
       "{u'bounding_boxes': [{u'class': u'12',\n",
       "   u'height': u'845',\n",
       "   u'width': u'358',\n",
       "   u'x': u'922',\n",
       "   u'y': u'56'}],\n",
       " u'classes': [u'12'],\n",
       " u'color_image_path': u'/Users/uents/repos/github.com/uents/chainer-playground/dl-course/contest/APC/Single/Single/12/23/color.bmp',\n",
       " u'depth_image_path': u'/Users/uents/repos/github.com/uents/chainer-playground/dl-course/contest/APC/Single/Single/12/23/depth.bmp.bmp',\n",
       " u'label_image_path': u'/Users/uents/repos/github.com/uents/chainer-playground/dl-course/contest/APC/Single/mask_label/single/12/23/label.bmp',\n",
       " u'pattern_id': u'23'}"
      ]
     },
     "execution_count": 10,
     "metadata": {},
     "output_type": "execute_result"
    }
   ],
   "source": [
    "train_dataset[0]"
   ]
  },
  {
   "cell_type": "code",
   "execution_count": 21,
   "metadata": {
    "collapsed": true
   },
   "outputs": [],
   "source": [
    "class Image():\n",
    "    def __init__(self, path, width, height):\n",
    "        image = cv2.imread(path)\n",
    "        self.real_height, self.real_width, _ = image.shape\n",
    "        image = cv2.cvtColor(image, cv2.COLOR_BGR2RGB)\n",
    "        self.image = cv2.resize(image, (width, height))"
   ]
  },
  {
   "cell_type": "code",
   "execution_count": 12,
   "metadata": {
    "collapsed": true
   },
   "outputs": [],
   "source": [
    "class Box():\n",
    "    def __init__(self, x, y, width, height, clazz=0, objectness=1.0):\n",
    "        self.left = x\n",
    "        self.top = y\n",
    "        self.right = x + width\n",
    "        self.bottom = y + height\n",
    "        self.clazz = clazz\n",
    "        self.objectness = objectness\n",
    "\n",
    "    @property\n",
    "    def width(self):\n",
    "        return self.right - self.left\n",
    "\n",
    "    @property\n",
    "    def height(self):\n",
    "        return self.bottom - self.top\n",
    "\n",
    "    @property\n",
    "    def vertex(self):\n",
    "        return ((self.left, self.top), (self.right-1, self.top),\n",
    "                (self.left, self.bottom-1), (self.right-1, self.bottom-1))\n",
    "\n",
    "    def area(self):\n",
    "        return float(self.width * self.height)\n",
    "\n",
    "    @classmethod\n",
    "    def overlap(clazz, box1, box2):\n",
    "        left = max(box1.left, box2.left)\n",
    "        top = max(box1.top, box2.top)\n",
    "        right = min(box1.right, box2.right)\n",
    "        bottom = min(box1.bottom, box2.bottom)\n",
    "        width = max(0, right - left)\n",
    "        height = max(0, bottom - top)\n",
    "        return Box(left, top, width, height)\n",
    "\n",
    "    @classmethod\n",
    "    def intersection(clazz, box1, box2):\n",
    "        return Box.overlap(box1, box2).area()\n",
    "\n",
    "    @classmethod\n",
    "    def union(clazz, box1, box2):\n",
    "        return box1.area() + box2.area() - Box.intersection(box1, box2)\n",
    "\n",
    "    @classmethod\n",
    "    def iou(clazz, box1, box2):\n",
    "        return Box.intersection(box1, box2) / Box.union(box1, box2)\n",
    "\n",
    "class GroundTruth():\n",
    "    def __init__(self, width, height, bounding_boxes=[]):\n",
    "        self.width = width\n",
    "        self.height = height\n",
    "        self.bounding_boxes = bounding_boxes"
   ]
  },
  {
   "cell_type": "code",
   "execution_count": 19,
   "metadata": {
    "collapsed": false
   },
   "outputs": [
    {
     "data": {
      "text/plain": [
       "<__main__.Box instance at 0x1170b1170>"
      ]
     },
     "execution_count": 19,
     "metadata": {},
     "output_type": "execute_result"
    }
   ],
   "source": [
    "bounding_boxes = [Box(x=float(box['x']), y=float(box['y']),\n",
    "                            width=float(box['width']), height=float(box['height']),\n",
    "                            clazz=float(box['class'])) for box in train_dataset[0]['bounding_boxes']]\n",
    "bounding_boxes[0]"
   ]
  },
  {
   "cell_type": "code",
   "execution_count": 22,
   "metadata": {
    "collapsed": false
   },
   "outputs": [],
   "source": [
    "image = Image(train_dataset[0]['color_image_path'], INPUT_SIZE, INPUT_SIZE)"
   ]
  },
  {
   "cell_type": "code",
   "execution_count": 23,
   "metadata": {
    "collapsed": false
   },
   "outputs": [
    {
     "data": {
      "text/plain": [
       "(array([12,  5, 39], dtype=uint8), array([31, 31, 22], dtype=uint8))"
      ]
     },
     "execution_count": 23,
     "metadata": {},
     "output_type": "execute_result"
    }
   ],
   "source": [
    "image.image[150][380], image.image[380][150]"
   ]
  },
  {
   "cell_type": "code",
   "execution_count": 25,
   "metadata": {
    "collapsed": false
   },
   "outputs": [
    {
     "data": {
      "text/plain": [
       "<matplotlib.image.AxesImage at 0x11af19c90>"
      ]
     },
     "execution_count": 25,
     "metadata": {},
     "output_type": "execute_result"
    },
    {
     "data": {
      "image/png": "[encoded data removed]",
      "text/plain": [
       "<matplotlib.figure.Figure at 0x11ad10710>"
      ]
     },
     "metadata": {},
     "output_type": "display_data"
    }
   ],
   "source": [
    "fig, axes = plt.subplots(1,1)\n",
    "plt.xticks(range(0, 448, 64))\n",
    "plt.yticks(range(0, 448, 64))\n",
    "plt.imshow(image.image)\n",
    "#plt.plot([3*64, 3*64 + 0.117*64], [6*64, 6*64 + 0.052*64], 'r', lw=2)"
   ]
  },
  {
   "cell_type": "markdown",
   "metadata": {},
   "source": [
    "## 学習データのテンソルを作成"
   ]
  },
  {
   "cell_type": "code",
   "execution_count": 85,
   "metadata": {
    "collapsed": true
   },
   "outputs": [],
   "source": [
    "def parse_item_of_dataset(item):\n",
    "    image = Image(item['color_image_path'], INPUT_SIZE, INPUT_SIZE)\n",
    "    bounding_boxes = [Box(x=float(box['x']), y=float(box['y']),\n",
    "                            width=float(box['width']), height=float(box['height']),\n",
    "                            clazz=int(box['class'])) for box in item['bounding_boxes']]\n",
    "    ground_truth = GroundTruth(width=image.real_width, height=image.real_height,\n",
    "        bounding_boxes=bounding_boxes)\n",
    "    return {'image': image, 'ground_truth': ground_truth}"
   ]
  },
  {
   "cell_type": "code",
   "execution_count": 86,
   "metadata": {
    "collapsed": false
   },
   "outputs": [],
   "source": [
    "dataset = filter(lambda item: item['bounding_boxes'] != [], train_dataset)\n",
    "items = [parse_item_of_dataset(item) for item in dataset]\n",
    "images = np.asarray([item['image'] for item in items])\n",
    "ground_truths = np.asarray([item['ground_truth'] for item in items])"
   ]
  },
  {
   "cell_type": "code",
   "execution_count": 87,
   "metadata": {
    "collapsed": false
   },
   "outputs": [
    {
     "data": {
      "text/plain": [
       "(<__main__.Image instance at 0x188014fc8>,\n",
       " <__main__.GroundTruth instance at 0x17e3d5950>)"
      ]
     },
     "execution_count": 87,
     "metadata": {},
     "output_type": "execute_result"
    }
   ],
   "source": [
    "images[0], ground_truths[0]"
   ]
  },
  {
   "cell_type": "code",
   "execution_count": 88,
   "metadata": {
    "collapsed": true
   },
   "outputs": [],
   "source": [
    "def parse_ground_truth(bounding_box, real_width, real_height):\n",
    "    tw = bounding_box.width * INPUT_SIZE / real_width\n",
    "    th = bounding_box.height * INPUT_SIZE / real_height\n",
    "    tx = (bounding_box.left * INPUT_SIZE / real_width) + (tw / 2)\n",
    "    ty = (bounding_box.top * INPUT_SIZE / real_height) + (th / 2)\n",
    "\n",
    "    grid_size = INPUT_SIZE / N_GRID\n",
    "    active_grid_cell = {\n",
    "        'x': int(math.modf(tx / grid_size)[1]),\n",
    "        'y': int(math.modf(ty / grid_size)[1])\n",
    "    }\n",
    "    norm_truth = { # [0..1] に正規化\n",
    "        'x' : math.modf(tx / grid_size)[0],\n",
    "        'y' : math.modf(ty / grid_size)[0],\n",
    "        'w' : tw / INPUT_SIZE,\n",
    "        'h' : th / INPUT_SIZE\n",
    "    }\n",
    "    one_hot_clazz = np.eye(N_CLASSES)[np.array(bounding_box.clazz)]\n",
    "\n",
    "    # detection layerのテンソルに変換\n",
    "    tensor = np.zeros(((5*N_BOXES)+N_CLASSES, N_GRID, N_GRID)).astype(np.float32)\n",
    "    tensor[:5, active_grid_cell['y'], active_grid_cell['x']] \\\n",
    "        = [norm_truth['x'], norm_truth['y'], norm_truth['w'], norm_truth['h'], 1.0]\n",
    "    tensor[5:, active_grid_cell['y'], active_grid_cell['x']] = one_hot_clazz\n",
    "    return tensor"
   ]
  },
  {
   "cell_type": "code",
   "execution_count": 89,
   "metadata": {
    "collapsed": true
   },
   "outputs": [],
   "source": [
    "def make_ground_truth_tensor(ground_truth):\n",
    "    each_tensors = [parse_ground_truth(box, ground_truth.width, ground_truth.height)\n",
    "                        for box in ground_truth.bounding_boxes]\n",
    "    return reduce(lambda x, y: x + y, each_tensors)"
   ]
  },
  {
   "cell_type": "code",
   "execution_count": 90,
   "metadata": {
    "collapsed": false
   },
   "outputs": [
    {
     "data": {
      "text/plain": [
       "((600, 3, 448, 448), (600, 31, 7, 7))"
      ]
     },
     "execution_count": 90,
     "metadata": {},
     "output_type": "execute_result"
    }
   ],
   "source": [
    "image_tensors  = np.asarray([image.image for image in images]).transpose(0,3,1,2)\n",
    "ground_truth_tensors = np.asarray([make_ground_truth_tensor(truth) for truth in ground_truths])\n",
    "\n",
    "image_tensors.shape, ground_truth_tensors.shape"
   ]
  },
  {
   "cell_type": "markdown",
   "metadata": {},
   "source": [
    "## ミニバッチ時の学習データの抽出"
   ]
  },
  {
   "cell_type": "code",
   "execution_count": 91,
   "metadata": {
    "collapsed": true
   },
   "outputs": [],
   "source": [
    "batch_size = 10"
   ]
  },
  {
   "cell_type": "code",
   "execution_count": 92,
   "metadata": {
    "collapsed": false
   },
   "outputs": [
    {
     "data": {
      "text/plain": [
       "600"
      ]
     },
     "execution_count": 92,
     "metadata": {},
     "output_type": "execute_result"
    }
   ],
   "source": [
    "n_train = len(ground_truths)\n",
    "n_train"
   ]
  },
  {
   "cell_type": "code",
   "execution_count": 93,
   "metadata": {
    "collapsed": false
   },
   "outputs": [
    {
     "data": {
      "text/plain": [
       "array([294, 433, 265,   2, 430])"
      ]
     },
     "execution_count": 93,
     "metadata": {},
     "output_type": "execute_result"
    }
   ],
   "source": [
    "perm = np.random.permutation(n_train)\n",
    "perm[0:5]"
   ]
  },
  {
   "cell_type": "code",
   "execution_count": 94,
   "metadata": {
    "collapsed": false
   },
   "outputs": [],
   "source": [
    "count = 0\n",
    "ix = perm[count:count+batch_size]\n",
    "x = chainer.Variable(xp.asarray(image_tensors[ix]).astype(np.float32))\n",
    "t = chainer.Variable(xp.asarray(ground_truth_tensors[ix]).astype(np.float32))"
   ]
  },
  {
   "cell_type": "code",
   "execution_count": 95,
   "metadata": {
    "collapsed": false
   },
   "outputs": [
    {
     "data": {
      "text/plain": [
       "((10, 3, 448, 448), (10, 31, 7, 7))"
      ]
     },
     "execution_count": 95,
     "metadata": {},
     "output_type": "execute_result"
    }
   ],
   "source": [
    "x.shape, t.shape"
   ]
  },
  {
   "cell_type": "markdown",
   "metadata": {},
   "source": [
    "## 検出器のセットアップ"
   ]
  },
  {
   "cell_type": "code",
   "execution_count": 220,
   "metadata": {
    "collapsed": false
   },
   "outputs": [],
   "source": [
    "detector_model = YoloDetector()\n",
    "detector_optimizer = chainer.optimizers.Adam()\n",
    "detector_optimizer.setup(detector_model)"
   ]
  },
  {
   "cell_type": "markdown",
   "metadata": {},
   "source": [
    "## 推論を実行"
   ]
  },
  {
   "cell_type": "code",
   "execution_count": 221,
   "metadata": {
    "collapsed": true
   },
   "outputs": [],
   "source": [
    "h = detector_model.forward(x)"
   ]
  },
  {
   "cell_type": "code",
   "execution_count": 261,
   "metadata": {
    "collapsed": false
   },
   "outputs": [],
   "source": [
    "h2 = F.sigmoid(h)"
   ]
  },
  {
   "cell_type": "code",
   "execution_count": 234,
   "metadata": {
    "collapsed": true
   },
   "outputs": [],
   "source": [
    "_px, _py, _pw, _ph, _pconf, _pprob = F.split_axis(h.data, indices_or_sections=(1,2,3,4,5), axis=1)\n",
    "_px = F.sigmoid(_px).data\n",
    "_py = F.sigmoid(_py).data\n",
    "_pw = F.sigmoid(_pw).data\n",
    "_ph = F.sigmoid(_ph).data\n",
    "_pconf = F.sigmoid(_pconf).data\n",
    "_pprob = F.sigmoid(_pprob).data"
   ]
  },
  {
   "cell_type": "code",
   "execution_count": 267,
   "metadata": {
    "collapsed": false
   },
   "outputs": [],
   "source": [
    "_px2, _py2, _pw2, _ph2, _pconf2, _pprob2 = np.array_split(h2.data, indices_or_sections=(1,2,3,4,5), axis=1)"
   ]
  },
  {
   "cell_type": "code",
   "execution_count": 277,
   "metadata": {
    "collapsed": false
   },
   "outputs": [
    {
     "data": {
      "text/plain": [
       "array([[-1.        ,  0.13344583,  0.91010243,  0.1460737 ,  0.40128991,\n",
       "         0.51702583,  0.57517201],\n",
       "       [ 0.04876372,  0.29020485,  0.99930859,  0.93551981,  0.05357945,\n",
       "         0.86496329,  0.99785376],\n",
       "       [ 0.82082754,  0.27134973,  0.2106505 ,  0.42414856,  0.97827983,\n",
       "         0.52681172,  0.92448193],\n",
       "       [ 0.74471402,  0.22758949,  0.07767206,  0.99378127,  0.43946666,\n",
       "         0.63642144,  0.89852059],\n",
       "       [ 0.11715493,  0.37505376,  0.03614116,  0.00101459,  0.74491358,\n",
       "         0.23284879,  0.54585719],\n",
       "       [ 0.17654884,  0.34766054,  0.34777841,  0.18494397,  0.03876951,\n",
       "         0.955625  ,  0.42072499],\n",
       "       [ 0.65734005,  0.7649737 ,  0.98942077,  0.39563155,  0.43352816,\n",
       "         0.07697165,  0.74792385]], dtype=float32)"
      ]
     },
     "execution_count": 277,
     "metadata": {},
     "output_type": "execute_result"
    }
   ],
   "source": [
    "_px2[0][0][0][0] = -1\n",
    "_px2[0][0]"
   ]
  },
  {
   "cell_type": "code",
   "execution_count": 275,
   "metadata": {
    "collapsed": false
   },
   "outputs": [
    {
     "data": {
      "text/plain": [
       "(10, 31, 7, 7)"
      ]
     },
     "execution_count": 275,
     "metadata": {},
     "output_type": "execute_result"
    }
   ],
   "source": [
    "h3 = chainer.cuda.to_cpu(h2.data.copy())\n",
    "h3.shape"
   ]
  },
  {
   "cell_type": "code",
   "execution_count": 276,
   "metadata": {
    "collapsed": false
   },
   "outputs": [
    {
     "data": {
      "text/plain": [
       "array([[ -2.00000000e+00,   1.33445829e-01,   9.10102427e-01,\n",
       "          1.46073699e-01,   4.01289910e-01,   5.17025828e-01,\n",
       "          5.75172007e-01],\n",
       "       [  4.87637222e-02,   2.90204853e-01,   9.99308586e-01,\n",
       "          9.35519814e-01,   5.35794497e-02,   8.64963293e-01,\n",
       "          9.97853756e-01],\n",
       "       [  8.20827544e-01,   2.71349728e-01,   2.10650504e-01,\n",
       "          4.24148560e-01,   9.78279829e-01,   5.26811719e-01,\n",
       "          9.24481928e-01],\n",
       "       [  7.44714022e-01,   2.27589488e-01,   7.76720643e-02,\n",
       "          9.93781269e-01,   4.39466655e-01,   6.36421442e-01,\n",
       "          8.98520589e-01],\n",
       "       [  1.17154926e-01,   3.75053763e-01,   3.61411572e-02,\n",
       "          1.01459026e-03,   7.44913578e-01,   2.32848793e-01,\n",
       "          5.45857191e-01],\n",
       "       [  1.76548839e-01,   3.47660542e-01,   3.47778410e-01,\n",
       "          1.84943974e-01,   3.87695134e-02,   9.55624998e-01,\n",
       "          4.20724988e-01],\n",
       "       [  6.57340050e-01,   7.64973700e-01,   9.89420772e-01,\n",
       "          3.95631552e-01,   4.33528155e-01,   7.69716501e-02,\n",
       "          7.47923851e-01]], dtype=float32)"
      ]
     },
     "execution_count": 276,
     "metadata": {},
     "output_type": "execute_result"
    }
   ],
   "source": [
    "h3[0][0][0][0] = -2.0\n",
    "h3[0][0]"
   ]
  },
  {
   "cell_type": "code",
   "execution_count": 264,
   "metadata": {
    "collapsed": false
   },
   "outputs": [
    {
     "data": {
      "text/plain": [
       "array([[ 0.66239929,  0.13344583,  0.91010243,  0.1460737 ,  0.40128991,\n",
       "         0.51702583,  0.57517201],\n",
       "       [ 0.04876372,  0.29020485,  0.99930859,  0.93551981,  0.05357945,\n",
       "         0.86496329,  0.99785376],\n",
       "       [ 0.82082754,  0.27134973,  0.2106505 ,  0.42414856,  0.97827983,\n",
       "         0.52681172,  0.92448193],\n",
       "       [ 0.74471402,  0.22758949,  0.07767206,  0.99378127,  0.43946666,\n",
       "         0.63642144,  0.89852059],\n",
       "       [ 0.11715493,  0.37505376,  0.03614116,  0.00101459,  0.74491358,\n",
       "         0.23284879,  0.54585719],\n",
       "       [ 0.17654884,  0.34766054,  0.34777841,  0.18494397,  0.03876951,\n",
       "         0.955625  ,  0.42072499],\n",
       "       [ 0.65734005,  0.7649737 ,  0.98942077,  0.39563155,  0.43352816,\n",
       "         0.07697165,  0.74792385]], dtype=float32)"
      ]
     },
     "execution_count": 264,
     "metadata": {},
     "output_type": "execute_result"
    }
   ],
   "source": [
    "h2.data[0][0]"
   ]
  },
  {
   "cell_type": "code",
   "execution_count": 246,
   "metadata": {
    "collapsed": false
   },
   "outputs": [
    {
     "data": {
      "text/plain": [
       "(12740, (10, 26, 7, 7))"
      ]
     },
     "execution_count": 246,
     "metadata": {},
     "output_type": "execute_result"
    }
   ],
   "source": [
    "(_pprob == _pprob2).sum(), _pprob.shape"
   ]
  },
  {
   "cell_type": "code",
   "execution_count": 349,
   "metadata": {
    "collapsed": false
   },
   "outputs": [
    {
     "ename": "ValueError",
     "evalue": "too many values to unpack",
     "output_type": "error",
     "traceback": [
      "\u001b[0;31m---------------------------------------------------------------------------\u001b[0m",
      "\u001b[0;31mValueError\u001b[0m                                Traceback (most recent call last)",
      "\u001b[0;32m<ipython-input-349-c6ef7fe3e889>\u001b[0m in \u001b[0;36m<module>\u001b[0;34m()\u001b[0m\n\u001b[0;32m----> 1\u001b[0;31m \u001b[0mpx\u001b[0m\u001b[0;34m,\u001b[0m \u001b[0mpy\u001b[0m\u001b[0;34m,\u001b[0m \u001b[0mpw\u001b[0m\u001b[0;34m,\u001b[0m \u001b[0mph\u001b[0m\u001b[0;34m,\u001b[0m \u001b[0mpconf\u001b[0m\u001b[0;34m,\u001b[0m \u001b[0mpprob\u001b[0m \u001b[0;34m=\u001b[0m \u001b[0mdetector_model\u001b[0m\u001b[0;34m.\u001b[0m\u001b[0mforward\u001b[0m\u001b[0;34m(\u001b[0m\u001b[0mx\u001b[0m\u001b[0;34m)\u001b[0m\u001b[0;34m\u001b[0m\u001b[0m\n\u001b[0m\u001b[1;32m      2\u001b[0m \u001b[0;34m\u001b[0m\u001b[0m\n\u001b[1;32m      3\u001b[0m \u001b[0mpx\u001b[0m\u001b[0;34m.\u001b[0m\u001b[0mdata\u001b[0m\u001b[0;34m.\u001b[0m\u001b[0mshape\u001b[0m\u001b[0;34m,\u001b[0m \u001b[0mpy\u001b[0m\u001b[0;34m.\u001b[0m\u001b[0mdata\u001b[0m\u001b[0;34m.\u001b[0m\u001b[0mshape\u001b[0m\u001b[0;34m,\u001b[0m \u001b[0mpw\u001b[0m\u001b[0;34m.\u001b[0m\u001b[0mdata\u001b[0m\u001b[0;34m.\u001b[0m\u001b[0mshape\u001b[0m\u001b[0;34m,\u001b[0m \u001b[0mph\u001b[0m\u001b[0;34m.\u001b[0m\u001b[0mdata\u001b[0m\u001b[0;34m.\u001b[0m\u001b[0mshape\u001b[0m\u001b[0;34m,\u001b[0m \u001b[0mpconf\u001b[0m\u001b[0;34m.\u001b[0m\u001b[0mdata\u001b[0m\u001b[0;34m.\u001b[0m\u001b[0mshape\u001b[0m\u001b[0;34m,\u001b[0m \u001b[0mpprob\u001b[0m\u001b[0;34m.\u001b[0m\u001b[0mdata\u001b[0m\u001b[0;34m.\u001b[0m\u001b[0mshape\u001b[0m\u001b[0;34m\u001b[0m\u001b[0m\n",
      "\u001b[0;31mValueError\u001b[0m: too many values to unpack"
     ]
    }
   ],
   "source": [
    "px, py, pw, ph, pconf, pprob = detector_model.forward(x)\n",
    "\n",
    "px.data.shape, py.data.shape, pw.data.shape, ph.data.shape, pconf.data.shape, pprob.data.shape"
   ]
  },
  {
   "cell_type": "code",
   "execution_count": 350,
   "metadata": {
    "collapsed": false
   },
   "outputs": [
    {
     "data": {
      "text/plain": [
       "numpy.ndarray"
      ]
     },
     "execution_count": 350,
     "metadata": {},
     "output_type": "execute_result"
    }
   ],
   "source": [
    "type(px)"
   ]
  },
  {
   "cell_type": "code",
   "execution_count": 98,
   "metadata": {
    "collapsed": false
   },
   "outputs": [
    {
     "data": {
      "image/png": "[encoded data removed]",
      "text/plain": [
       "<matplotlib.figure.Figure at 0x11b2740d0>"
      ]
     },
     "metadata": {},
     "output_type": "display_data"
    }
   ],
   "source": [
    "fig, axes = plt.subplots(1, 6, figsize=(18, 6))\n",
    "axes[0].hist(px.data.flatten())\n",
    "axes[1].hist(py.data.flatten())\n",
    "axes[2].hist(pw.data.flatten())\n",
    "axes[3].hist(ph.data.flatten())\n",
    "axes[4].hist(ph.data.flatten())\n",
    "axes[5].hist(ph.data.flatten())\n",
    "pass"
   ]
  },
  {
   "cell_type": "code",
   "execution_count": 347,
   "metadata": {
    "collapsed": false
   },
   "outputs": [
    {
     "data": {
      "text/plain": [
       "((10, 1, 7, 7), (10, 1, 7, 7), (10, 1, 7, 7), (10, 1, 7, 7), (10, 26, 7, 7))"
      ]
     },
     "execution_count": 347,
     "metadata": {},
     "output_type": "execute_result"
    }
   ],
   "source": [
    "tx, ty, tw, th, tconf, tprob = np.array_split(ground_truth_tensors[0:batch_size], indices_or_sections=(1,2,3,4,5), axis=1)\n",
    "\n",
    "tx.shape, ty.shape, tw.shape, tconf.shape, tprob.shape"
   ]
  },
  {
   "cell_type": "code",
   "execution_count": 348,
   "metadata": {
    "collapsed": false
   },
   "outputs": [
    {
     "data": {
      "text/plain": [
       "numpy.ndarray"
      ]
     },
     "execution_count": 348,
     "metadata": {},
     "output_type": "execute_result"
    }
   ],
   "source": [
    "type(tx)"
   ]
  },
  {
   "cell_type": "code",
   "execution_count": 373,
   "metadata": {
    "collapsed": false
   },
   "outputs": [
    {
     "data": {
      "text/plain": [
       "0.7310586"
      ]
     },
     "execution_count": 373,
     "metadata": {},
     "output_type": "execute_result"
    }
   ],
   "source": [
    "np.max(F.sigmoid(tconf).data)"
   ]
  },
  {
   "cell_type": "code",
   "execution_count": 55,
   "metadata": {
    "collapsed": false
   },
   "outputs": [
    {
     "data": {
      "text/plain": [
       "array([[[ 0.,  0.,  0.,  0.,  0.,  0.,  0.],\n",
       "        [ 0.,  0.,  0.,  0.,  0.,  0.,  0.],\n",
       "        [ 0.,  0.,  0.,  0.,  0.,  0.,  0.],\n",
       "        [ 0.,  0.,  0.,  0.,  0.,  0.,  1.],\n",
       "        [ 0.,  0.,  0.,  0.,  0.,  0.,  0.],\n",
       "        [ 0.,  0.,  0.,  0.,  0.,  0.,  0.],\n",
       "        [ 0.,  0.,  0.,  0.,  0.,  0.,  0.]]], dtype=float32)"
      ]
     },
     "execution_count": 55,
     "metadata": {},
     "output_type": "execute_result"
    }
   ],
   "source": [
    "tconf[0]"
   ]
  },
  {
   "cell_type": "code",
   "execution_count": 56,
   "metadata": {
    "collapsed": false
   },
   "outputs": [
    {
     "data": {
      "text/plain": [
       "array([[[ 0.5       ,  0.5       ,  0.5       ,  0.5       ,  0.5       ,\n",
       "          0.5       ,  0.5       ],\n",
       "        [ 0.5       ,  0.5       ,  0.5       ,  0.5       ,  0.5       ,\n",
       "          0.5       ,  0.5       ],\n",
       "        [ 0.5       ,  0.5       ,  0.5       ,  0.5       ,  0.5       ,\n",
       "          0.5       ,  0.5       ],\n",
       "        [ 0.5       ,  0.5       ,  0.5       ,  0.5       ,  0.5       ,\n",
       "          0.5       ,  0.02109375],\n",
       "        [ 0.5       ,  0.5       ,  0.5       ,  0.5       ,  0.5       ,\n",
       "          0.5       ,  0.5       ],\n",
       "        [ 0.5       ,  0.5       ,  0.5       ,  0.5       ,  0.5       ,\n",
       "          0.5       ,  0.5       ],\n",
       "        [ 0.5       ,  0.5       ,  0.5       ,  0.5       ,  0.5       ,\n",
       "          0.5       ,  0.5       ]]], dtype=float32)"
      ]
     },
     "execution_count": 56,
     "metadata": {},
     "output_type": "execute_result"
    }
   ],
   "source": [
    "tx[tconf != 1.0] = 0.5\n",
    "\n",
    "tx[0]"
   ]
  },
  {
   "cell_type": "code",
   "execution_count": 356,
   "metadata": {
    "collapsed": false
   },
   "outputs": [
    {
     "data": {
      "text/plain": [
       "3221.479"
      ]
     },
     "execution_count": 356,
     "metadata": {},
     "output_type": "execute_result"
    }
   ],
   "source": [
    "np.sum(((tx - px)**2))"
   ]
  },
  {
   "cell_type": "code",
   "execution_count": 58,
   "metadata": {
    "collapsed": false
   },
   "outputs": [
    {
     "data": {
      "text/plain": [
       "array([[[ 0.1,  0.1,  0.1,  0.1,  0.1,  0.1,  0.1],\n",
       "        [ 0.1,  0.1,  0.1,  0.1,  0.1,  0.1,  0.1],\n",
       "        [ 0.1,  0.1,  0.1,  0.1,  0.1,  0.1,  0.1],\n",
       "        [ 0.1,  0.1,  0.1,  0.1,  0.1,  0.1,  1. ],\n",
       "        [ 0.1,  0.1,  0.1,  0.1,  0.1,  0.1,  0.1],\n",
       "        [ 0.1,  0.1,  0.1,  0.1,  0.1,  0.1,  0.1],\n",
       "        [ 0.1,  0.1,  0.1,  0.1,  0.1,  0.1,  0.1]]])"
      ]
     },
     "execution_count": 58,
     "metadata": {},
     "output_type": "execute_result"
    }
   ],
   "source": [
    "box_learning_scale = np.tile(0.1, tx.shape)\n",
    "box_learning_scale[tconf == 1.0] = 1.0\n",
    "\n",
    "box_learning_scale[0]"
   ]
  },
  {
   "cell_type": "code",
   "execution_count": 59,
   "metadata": {
    "collapsed": false
   },
   "outputs": [
    {
     "data": {
      "text/plain": [
       "array([[[ 0.02291278,  0.0235088 ,  0.02269273,  0.01045335,  0.02428683,\n",
       "          0.02374924,  0.02467606],\n",
       "        [ 0.02473557,  0.02201991,  0.00056687,  0.01055628,  0.0180616 ,\n",
       "          0.00024662,  0.01990085],\n",
       "        [ 0.00803859,  0.00477492,  0.022156  ,  0.00244686,  0.00827087,\n",
       "          0.00091329,  0.02275088],\n",
       "        [ 0.02386528,  0.0150799 ,  0.0217894 ,  0.01079938,  0.00371191,\n",
       "          0.0139293 ,  0.08319464],\n",
       "        [ 0.0162485 ,  0.00030811,  0.02186172,  0.00795038,  0.00029244,\n",
       "          0.01583781,  0.01585721],\n",
       "        [ 0.00679821,  0.01439763,  0.01277305,  0.01850922,  0.0152969 ,\n",
       "          0.02293861,  0.01630628],\n",
       "        [ 0.00520845,  0.00724031,  0.00699789,  0.00220357,  0.00553496,\n",
       "          0.0232324 ,  0.01279845]]], dtype=float32)"
      ]
     },
     "execution_count": 59,
     "metadata": {},
     "output_type": "execute_result"
    }
   ],
   "source": [
    "(box_learning_scale * ((tx - px)**2)).data[0]"
   ]
  },
  {
   "cell_type": "code",
   "execution_count": 60,
   "metadata": {
    "collapsed": false
   },
   "outputs": [
    {
     "data": {
      "text/plain": [
       "array(8.656530380249023, dtype=float32)"
      ]
     },
     "execution_count": 60,
     "metadata": {},
     "output_type": "execute_result"
    }
   ],
   "source": [
    "F.sum(box_learning_scale * ((tx - px)**2)).data"
   ]
  },
  {
   "cell_type": "code",
   "execution_count": 62,
   "metadata": {
    "collapsed": false
   },
   "outputs": [
    {
     "data": {
      "text/plain": [
       "array([[ 0.,  0.,  0.,  0.,  0.,  0.,  0.],\n",
       "       [ 0.,  0.,  0.,  0.,  0.,  0.,  0.],\n",
       "       [ 0.,  0.,  0.,  0.,  0.,  0.,  0.],\n",
       "       [ 0.,  0.,  0.,  0.,  0.,  0.,  1.],\n",
       "       [ 0.,  0.,  0.,  0.,  0.,  0.,  0.],\n",
       "       [ 0.,  0.,  0.,  0.,  0.,  0.,  0.],\n",
       "       [ 0.,  0.,  0.,  0.,  0.,  0.,  0.]], dtype=float32)"
      ]
     },
     "execution_count": 62,
     "metadata": {},
     "output_type": "execute_result"
    }
   ],
   "source": [
    "tprob[0][12,:,:]"
   ]
  },
  {
   "cell_type": "code",
   "execution_count": 63,
   "metadata": {
    "collapsed": false
   },
   "outputs": [
    {
     "data": {
      "text/plain": [
       "array([[  9.40730333e-01,   8.38745177e-01,   5.65141439e-04,\n",
       "          8.25492680e-01,   8.39795887e-01,   8.77473831e-01,\n",
       "          9.98300433e-01],\n",
       "       [  8.00702572e-01,   8.88139904e-02,   8.99087548e-01,\n",
       "          5.92847764e-01,   4.43778723e-01,   9.07799602e-03,\n",
       "          4.82998550e-01],\n",
       "       [  7.63696432e-01,   8.36022735e-01,   1.05861247e-01,\n",
       "          6.16102219e-01,   8.46502781e-01,   8.67969990e-01,\n",
       "          1.27085149e-02],\n",
       "       [  9.10361171e-01,   7.02927470e-01,   1.61120296e-02,\n",
       "          6.75421953e-03,   2.99497426e-01,   5.69968283e-01,\n",
       "          1.00000000e+00],\n",
       "       [  5.11006415e-01,   1.95477009e-01,   2.99916267e-02,\n",
       "          9.44255710e-01,   5.05740345e-01,   2.00035274e-02,\n",
       "          6.22533202e-01],\n",
       "       [  2.85369754e-02,   6.79784238e-01,   5.73244691e-03,\n",
       "          7.44330227e-01,   5.21380603e-02,   9.83356714e-01,\n",
       "          4.32427466e-01],\n",
       "       [  9.00005937e-01,   3.16313803e-01,   1.81277394e-01,\n",
       "          8.43282640e-01,   2.37383157e-01,   9.86480474e-01,\n",
       "          1.12074614e-03]], dtype=float32)"
      ]
     },
     "execution_count": 63,
     "metadata": {},
     "output_type": "execute_result"
    }
   ],
   "source": [
    "_tprob = pprob.data.copy()\n",
    "_tprob[tprob == 1.0] = 1.0\n",
    "_tprob[0][12,:,:]"
   ]
  },
  {
   "cell_type": "code",
   "execution_count": 64,
   "metadata": {
    "collapsed": false
   },
   "outputs": [
    {
     "data": {
      "text/plain": [
       "array([[ 0.        ,  0.        ,  0.        ,  0.        ,  0.        ,\n",
       "         0.        ,  0.        ],\n",
       "       [ 0.        ,  0.        ,  0.        ,  0.        ,  0.        ,\n",
       "         0.        ,  0.        ],\n",
       "       [ 0.        ,  0.        ,  0.        ,  0.        ,  0.        ,\n",
       "         0.        ,  0.        ],\n",
       "       [ 0.        ,  0.        ,  0.        ,  0.        ,  0.        ,\n",
       "         0.        ,  0.33099449],\n",
       "       [ 0.        ,  0.        ,  0.        ,  0.        ,  0.        ,\n",
       "         0.        ,  0.        ],\n",
       "       [ 0.        ,  0.        ,  0.        ,  0.        ,  0.        ,\n",
       "         0.        ,  0.        ],\n",
       "       [ 0.        ,  0.        ,  0.        ,  0.        ,  0.        ,\n",
       "         0.        ,  0.        ]], dtype=float32)"
      ]
     },
     "execution_count": 64,
     "metadata": {},
     "output_type": "execute_result"
    }
   ],
   "source": [
    "((_tprob - pprob)**2).data[0][12,:,:]"
   ]
  },
  {
   "cell_type": "code",
   "execution_count": 65,
   "metadata": {
    "collapsed": false
   },
   "outputs": [
    {
     "data": {
      "text/plain": [
       "array(3.000241756439209, dtype=float32)"
      ]
     },
     "execution_count": 65,
     "metadata": {},
     "output_type": "execute_result"
    }
   ],
   "source": [
    "F.sum((_tprob - pprob)**2).data"
   ]
  },
  {
   "cell_type": "code",
   "execution_count": 66,
   "metadata": {
    "collapsed": false
   },
   "outputs": [
    {
     "data": {
      "text/plain": [
       "array([[[ 0.        ,  0.        ,  0.        ,  0.        ,  0.        ,\n",
       "          0.        ,  0.        ],\n",
       "        [ 0.        ,  0.        ,  0.        ,  0.        ,  0.        ,\n",
       "          0.        ,  0.        ],\n",
       "        [ 0.        ,  0.        ,  0.        ,  0.        ,  0.        ,\n",
       "          0.        ,  0.        ],\n",
       "        [ 0.        ,  0.        ,  0.        ,  0.        ,  0.        ,\n",
       "          0.        ,  0.33099449],\n",
       "        [ 0.        ,  0.        ,  0.        ,  0.        ,  0.        ,\n",
       "          0.        ,  0.        ],\n",
       "        [ 0.        ,  0.        ,  0.        ,  0.        ,  0.        ,\n",
       "          0.        ,  0.        ],\n",
       "        [ 0.        ,  0.        ,  0.        ,  0.        ,  0.        ,\n",
       "          0.        ,  0.        ]]], dtype=float32)"
      ]
     },
     "execution_count": 66,
     "metadata": {},
     "output_type": "execute_result"
    }
   ],
   "source": [
    "_tprob_err = F.reshape(F.sum(((_tprob - pprob) ** 2), axis=1), tconf.shape)\n",
    "_tprob_err.data[0]"
   ]
  },
  {
   "cell_type": "code",
   "execution_count": 67,
   "metadata": {
    "collapsed": false
   },
   "outputs": [],
   "source": [
    "prob_learning_scale = np.tile(0.0, tconf.shape)\n",
    "prob_learning_scale[tconf == 1.0] = 1.0"
   ]
  },
  {
   "cell_type": "code",
   "execution_count": 68,
   "metadata": {
    "collapsed": false
   },
   "outputs": [
    {
     "data": {
      "text/plain": [
       "array(3.000241756439209, dtype=float32)"
      ]
     },
     "execution_count": 68,
     "metadata": {},
     "output_type": "execute_result"
    }
   ],
   "source": [
    "F.sum(prob_learning_scale * F.reshape(F.sum(((_tprob - pprob) ** 2), axis=1), tconf.shape)).data"
   ]
  },
  {
   "cell_type": "markdown",
   "metadata": {
    "collapsed": true
   },
   "source": [
    "## 推論結果を検出座標に変換"
   ]
  },
  {
   "cell_type": "code",
   "execution_count": 69,
   "metadata": {
    "collapsed": false
   },
   "outputs": [
    {
     "data": {
      "text/plain": [
       "((10, 7, 7), (10, 7, 7), (10, 7, 7), (10, 7, 7), (10, 7, 7), (10, 26, 7, 7))"
      ]
     },
     "execution_count": 69,
     "metadata": {},
     "output_type": "execute_result"
    }
   ],
   "source": [
    "_px = F.reshape(px, (batch_size, N_GRID, N_GRID)).data\n",
    "_py = F.reshape(py, (batch_size, N_GRID, N_GRID)).data\n",
    "_pw = F.reshape(pw, (batch_size, N_GRID, N_GRID)).data\n",
    "_ph = F.reshape(ph, (batch_size, N_GRID, N_GRID)).data\n",
    "_pconf = F.reshape(pconf, (batch_size, N_GRID, N_GRID)).data\n",
    "_pprob = pprob.data\n",
    "\n",
    "_px.shape, _py.shape, _pw.shape, _ph.shape, _pconf.shape, _pprob.shape"
   ]
  },
  {
   "cell_type": "code",
   "execution_count": 214,
   "metadata": {
    "collapsed": false
   },
   "outputs": [
    {
     "data": {
      "text/plain": [
       "array([ 0.43308464,  0.11953532,  0.29049623,  0.44944125,  0.25558978,\n",
       "        0.3585023 ,  0.61695206,  0.02689682,  0.11112458,  0.61580402,\n",
       "        0.56997931,  0.36351889,  0.38775748,  0.39617181,  0.33856669,\n",
       "        0.36801514,  0.23804198,  0.40024301,  0.09726732,  0.30708119,\n",
       "        0.60552824,  0.6390807 ,  0.49021432,  0.46792892,  0.08237838,\n",
       "        0.62170118], dtype=float32)"
      ]
     },
     "execution_count": 214,
     "metadata": {},
     "output_type": "execute_result"
    }
   ],
   "source": [
    "_pobj = (_pprob[0] * _pconf[0]).transpose(1,2,0)\n",
    "_pobj[1,3]"
   ]
  },
  {
   "cell_type": "code",
   "execution_count": 286,
   "metadata": {
    "collapsed": false
   },
   "outputs": [
    {
     "data": {
      "text/plain": [
       "array([[ 0.5436852 ,  0.87299973,  0.54632992,  0.85493296,  0.79055774,\n",
       "         0.04883667,  0.82923347],\n",
       "       [ 0.97029114,  0.99650782,  0.85720515,  0.29600522,  0.2879642 ,\n",
       "         0.67986673,  0.996961  ],\n",
       "       [ 0.26799804,  0.19504192,  0.28671658,  0.86294001,  0.85752749,\n",
       "         0.93175137,  0.04307476],\n",
       "       [ 0.01909542,  0.21990483,  0.97203565,  0.97640979,  0.07439857,\n",
       "         0.90765405,  0.97738111],\n",
       "       [ 0.04907788,  0.57511681,  0.99103165,  0.30767789,  0.16018122,\n",
       "         0.14995499,  0.72690445],\n",
       "       [ 0.89716494,  0.43719345,  0.94334656,  0.80119491,  0.32274631,\n",
       "         0.61169893,  0.61864322],\n",
       "       [ 0.45193967,  0.77233005,  0.51528579,  0.10030524,  0.13502592,\n",
       "         0.06036985,  0.98146945]], dtype=float32)"
      ]
     },
     "execution_count": 286,
     "metadata": {},
     "output_type": "execute_result"
    }
   ],
   "source": [
    "_class_probs = _pprob[0] * _pconf[0]\n",
    "_max_class_probs_map = _class_probs.max(axis=0)\n",
    "_max_class_probs_map"
   ]
  },
  {
   "cell_type": "code",
   "execution_count": 71,
   "metadata": {
    "collapsed": false
   },
   "outputs": [],
   "source": [
    "_candidate_map = _class_probs.max(axis=0) > 0.8\n",
    "_candidate_label_map = _class_probs.argmax(axis=0)"
   ]
  },
  {
   "cell_type": "code",
   "execution_count": 72,
   "metadata": {
    "collapsed": false
   },
   "outputs": [
    {
     "data": {
      "text/plain": [
       "array([[ True,  True, False, False, False, False,  True],\n",
       "       [False,  True,  True, False,  True, False, False],\n",
       "       [ True, False, False, False, False,  True,  True],\n",
       "       [False, False,  True, False, False, False, False],\n",
       "       [False, False, False, False, False, False, False],\n",
       "       [ True, False, False,  True,  True, False, False],\n",
       "       [False, False, False, False, False, False, False]], dtype=bool)"
      ]
     },
     "execution_count": 72,
     "metadata": {},
     "output_type": "execute_result"
    }
   ],
   "source": [
    "_candidate_map"
   ]
  },
  {
   "cell_type": "code",
   "execution_count": 73,
   "metadata": {
    "collapsed": false
   },
   "outputs": [
    {
     "data": {
      "text/plain": [
       "[{u'x': 0, u'y': 0},\n",
       " {u'x': 0, u'y': 1},\n",
       " {u'x': 0, u'y': 6},\n",
       " {u'x': 1, u'y': 1},\n",
       " {u'x': 1, u'y': 2},\n",
       " {u'x': 1, u'y': 4},\n",
       " {u'x': 2, u'y': 0},\n",
       " {u'x': 2, u'y': 5},\n",
       " {u'x': 2, u'y': 6},\n",
       " {u'x': 3, u'y': 2},\n",
       " {u'x': 5, u'y': 0},\n",
       " {u'x': 5, u'y': 3},\n",
       " {u'x': 5, u'y': 4}]"
      ]
     },
     "execution_count": 73,
     "metadata": {},
     "output_type": "execute_result"
    }
   ],
   "source": [
    "[{'x': point[0], 'y': point[1]} for point in np.argwhere(_candidate_map == True)]"
   ]
  },
  {
   "cell_type": "code",
   "execution_count": 74,
   "metadata": {
    "collapsed": false
   },
   "outputs": [
    {
     "data": {
      "text/plain": [
       "array([[24,  6, 15,  6,  2, 21, 12],\n",
       "       [ 8, 21,  1, 21,  7, 17,  8],\n",
       "       [ 0, 14, 24, 13, 14, 19, 23],\n",
       "       [10, 10,  0,  4,  5,  9, 10],\n",
       "       [22, 19, 17, 14, 22, 20, 25],\n",
       "       [ 8,  5, 25,  9,  1, 12,  2],\n",
       "       [ 1, 13,  7,  3,  6, 12, 18]])"
      ]
     },
     "execution_count": 74,
     "metadata": {},
     "output_type": "execute_result"
    }
   ],
   "source": [
    "_candidate_label_map"
   ]
  },
  {
   "cell_type": "code",
   "execution_count": 75,
   "metadata": {
    "collapsed": false
   },
   "outputs": [
    {
     "data": {
      "text/plain": [
       "array([ 0.90152502,  0.85380548,  0.89205629,  0.89233375,  0.95446438,\n",
       "        0.98490131,  0.94074458,  0.92160505,  0.80516946,  0.98693234,\n",
       "        0.95798028,  0.98222834,  0.98073554], dtype=float32)"
      ]
     },
     "execution_count": 75,
     "metadata": {},
     "output_type": "execute_result"
    }
   ],
   "source": [
    "_class_probs.max(axis=0)[_candidate_map]"
   ]
  },
  {
   "cell_type": "code",
   "execution_count": 76,
   "metadata": {
    "collapsed": false
   },
   "outputs": [
    {
     "data": {
      "text/plain": [
       "array([24,  6, 12, 21,  1,  7,  0, 19, 23,  0,  8,  9,  1])"
      ]
     },
     "execution_count": 76,
     "metadata": {},
     "output_type": "execute_result"
    }
   ],
   "source": [
    "_candidate_label_map[_candidate_map]"
   ]
  },
  {
   "cell_type": "code",
   "execution_count": 77,
   "metadata": {
    "collapsed": false
   },
   "outputs": [
    {
     "data": {
      "text/plain": [
       "0.90152502"
      ]
     },
     "execution_count": 77,
     "metadata": {},
     "output_type": "execute_result"
    }
   ],
   "source": [
    "_pprob[0].transpose(1,2,0)[_candidate_map][0].max() * _pconf[0][_candidate_map][0]"
   ]
  },
  {
   "cell_type": "code",
   "execution_count": 78,
   "metadata": {
    "collapsed": false
   },
   "outputs": [
    {
     "data": {
      "text/plain": [
       "24"
      ]
     },
     "execution_count": 78,
     "metadata": {},
     "output_type": "execute_result"
    }
   ],
   "source": [
    "_pprob[0].transpose(1,2,0)[_candidate_map][0].argmax()"
   ]
  },
  {
   "cell_type": "code",
   "execution_count": 79,
   "metadata": {
    "collapsed": false
   },
   "outputs": [],
   "source": [
    "def __select_candidates(self, px, py, pw, ph, pconf, pprob, class_prob_thresh):\n",
    "    class_prob_map = pprob * pconf # クラス確率を算出 (N_CLASSES,N_GRID,N_GRID)\n",
    "    candidate_map = class_prob_map.max(axis=0) > class_prob_thresh # グリッド候補 (N_GRID,N_GRID)\n",
    "    candidate_class_map = class_prob_map.argmax(axis=0) # グリッド候補のクラス (N_GRID,N_GRID)\n",
    "    active_grid_cells = [{'x': point[0], 'y': point[1]} for point in np.argwhere(_candidate_map)] # グリッド候補の位置\n",
    "    candidates = []\n",
    "    for i in range(0, candidate_map.sum()):\n",
    "        candidates.append({\n",
    "            'box': Box(px[candidate_map][i], py[candidate_map][i],\n",
    "                       pw[candidate_map][i], ph[candidate_map][i]),\n",
    "            #'conf': pconf[candidate_map][i],\n",
    "            #'prob': pprob.transpose(1,2,0)[candidate_map][i],\n",
    "            'objectness': class_prob_map.max(axis=0)[candidate_map][i],\n",
    "            'class': candidate_class_map[candidate_map][i],\n",
    "            'active_grid_cell': active_grid_cells[i]\n",
    "        })\n",
    "    return candidates"
   ]
  },
  {
   "cell_type": "code",
   "execution_count": 80,
   "metadata": {
    "collapsed": true
   },
   "outputs": [],
   "source": [
    "def __nms(self, candidates, iou_thresh):\n",
    "    sorted(candidates, key=lambda x: x['objectness'], reverse=True)\n",
    "    winners = []\n",
    "\n",
    "    if len(candidates) == 0:\n",
    "        return winners\n",
    "\n",
    "    winners.append(candidates[0]) # 第１候補は必ず採用\n",
    "    for i in range(1, len(candidates)): # 第２候補以降は上位の候補とのIOU次第\n",
    "        for j in range(0, i):\n",
    "            if Box.iou(candidates[i]['box'], candidates[j]['box']) > iou_thresh:\n",
    "                break\n",
    "        else:\n",
    "            winners.append(candidates[i])\n",
    "    return winners"
   ]
  },
  {
   "cell_type": "code",
   "execution_count": 99,
   "metadata": {
    "collapsed": false
   },
   "outputs": [
    {
     "data": {
      "text/plain": [
       "(9, 8)"
      ]
     },
     "execution_count": 99,
     "metadata": {},
     "output_type": "execute_result"
    }
   ],
   "source": [
    "i = 0\n",
    "candidates = __select_candidates(None, _px[i], _py[i], _pw[i], _ph[i], _pconf[i], _pprob[i], 0.9)\n",
    "winners = __nms(None, candidates, 0.3)\n",
    "\n",
    "len(candidates), len(winners)"
   ]
  },
  {
   "cell_type": "code",
   "execution_count": 100,
   "metadata": {
    "collapsed": false
   },
   "outputs": [
    {
     "data": {
      "text/plain": [
       "[{u'active_grid_cell': {u'x': 0, u'y': 0},\n",
       "  u'box': <__main__.Box instance at 0x130aff3f8>,\n",
       "  u'class': 24,\n",
       "  u'objectness': 0.90152502},\n",
       " {u'active_grid_cell': {u'x': 0, u'y': 1},\n",
       "  u'box': <__main__.Box instance at 0x1880bdea8>,\n",
       "  u'class': 1,\n",
       "  u'objectness': 0.95446438},\n",
       " {u'active_grid_cell': {u'x': 0, u'y': 6},\n",
       "  u'box': <__main__.Box instance at 0x1880c6050>,\n",
       "  u'class': 7,\n",
       "  u'objectness': 0.98490131},\n",
       " {u'active_grid_cell': {u'x': 1, u'y': 1},\n",
       "  u'box': <__main__.Box instance at 0x1880c6170>,\n",
       "  u'class': 0,\n",
       "  u'objectness': 0.94074458},\n",
       " {u'active_grid_cell': {u'x': 1, u'y': 2},\n",
       "  u'box': <__main__.Box instance at 0x19e665f80>,\n",
       "  u'class': 19,\n",
       "  u'objectness': 0.92160505},\n",
       " {u'active_grid_cell': {u'x': 1, u'y': 4},\n",
       "  u'box': <__main__.Box instance at 0x19e665e18>,\n",
       "  u'class': 0,\n",
       "  u'objectness': 0.98693234},\n",
       " {u'active_grid_cell': {u'x': 2, u'y': 0},\n",
       "  u'box': <__main__.Box instance at 0x19e665e60>,\n",
       "  u'class': 8,\n",
       "  u'objectness': 0.95798028},\n",
       " {u'active_grid_cell': {u'x': 2, u'y': 5},\n",
       "  u'box': <__main__.Box instance at 0x19e665d88>,\n",
       "  u'class': 9,\n",
       "  u'objectness': 0.98222834}]"
      ]
     },
     "execution_count": 100,
     "metadata": {},
     "output_type": "execute_result"
    }
   ],
   "source": [
    "winners"
   ]
  },
  {
   "cell_type": "code",
   "execution_count": 103,
   "metadata": {
    "collapsed": false
   },
   "outputs": [],
   "source": [
    "def final_detection(result, real_width, real_height):\n",
    "    grid_size = INPUT_SIZE / N_GRID\n",
    "    pred_x = (result['box']).left\n",
    "    pred_y = (result['box']).top\n",
    "    pred_w = (result['box']).width\n",
    "    pred_h = (result['box']).height\n",
    "    active_grid_cell = result['active_grid_cell']\n",
    "    \n",
    "    return {\n",
    "        'x': (active_grid_cell['x'] + pred_x) * grid_size * real_width / INPUT_SIZE,\n",
    "        'y': (active_grid_cell['y'] + pred_y) * grid_size * real_height / INPUT_SIZE,\n",
    "        'width': pred_w * real_width,\n",
    "        'height': pred_h * real_height,\n",
    "        'class': result['class'],\n",
    "        'objectness': result['objectness']\n",
    "    }"
   ]
  },
  {
   "cell_type": "code",
   "execution_count": 104,
   "metadata": {
    "collapsed": false
   },
   "outputs": [
    {
     "data": {
      "text/plain": [
       "{u'class': 24,\n",
       " u'height': 887.18484878540039,\n",
       " u'objectness': 0.90152502,\n",
       " u'width': 1063.7509155273438,\n",
       " u'x': 3.8998086111886159,\n",
       " u'y': 98.46013477870396}"
      ]
     },
     "execution_count": 104,
     "metadata": {},
     "output_type": "execute_result"
    }
   ],
   "source": [
    "final_detection(winners[0], 1280, 960)"
   ]
  },
  {
   "cell_type": "code",
   "execution_count": 187,
   "metadata": {
    "collapsed": true
   },
   "outputs": [],
   "source": [
    "def check_correct_detection(pred, truths):\n",
    "    # TODO: pred,truthsをBoxに変換\n",
    "    best_iou, best_truth = Box.best_iou(pred, truth)\n",
    "    if best_iou <= 0.5:\n",
    "        return False\n",
    "    if pred.class != best_truth.class\n",
    "        return False\n",
    "    return True"
   ]
  },
  {
   "cell_type": "code",
   "execution_count": 155,
   "metadata": {
    "collapsed": false
   },
   "outputs": [],
   "source": [
    "positives = {str(i): {'true': 0, 'false': 0}  for i in range(0, N_CLASSES)}"
   ]
  },
  {
   "cell_type": "code",
   "execution_count": 156,
   "metadata": {
    "collapsed": false
   },
   "outputs": [
    {
     "data": {
      "text/plain": [
       "[('24', {u'false': 0, u'true': 0}),\n",
       " ('25', {u'false': 0, u'true': 0}),\n",
       " ('20', {u'false': 0, u'true': 0}),\n",
       " ('21', {u'false': 0, u'true': 0}),\n",
       " ('22', {u'false': 0, u'true': 0}),\n",
       " ('23', {u'false': 0, u'true': 0}),\n",
       " ('1', {u'false': 0, u'true': 0}),\n",
       " ('0', {u'false': 0, u'true': 0}),\n",
       " ('3', {u'false': 0, u'true': 0}),\n",
       " ('2', {u'false': 0, u'true': 0}),\n",
       " ('5', {u'false': 0, u'true': 0}),\n",
       " ('4', {u'false': 0, u'true': 0}),\n",
       " ('7', {u'false': 0, u'true': 0}),\n",
       " ('6', {u'false': 0, u'true': 0}),\n",
       " ('9', {u'false': 0, u'true': 0}),\n",
       " ('8', {u'false': 0, u'true': 0}),\n",
       " ('11', {u'false': 0, u'true': 0}),\n",
       " ('10', {u'false': 0, u'true': 0}),\n",
       " ('13', {u'false': 0, u'true': 0}),\n",
       " ('12', {u'false': 0, u'true': 0}),\n",
       " ('15', {u'false': 0, u'true': 0}),\n",
       " ('14', {u'false': 0, u'true': 0}),\n",
       " ('17', {u'false': 0, u'true': 0}),\n",
       " ('16', {u'false': 0, u'true': 0}),\n",
       " ('19', {u'false': 0, u'true': 0}),\n",
       " ('18', {u'false': 0, u'true': 0})]"
      ]
     },
     "execution_count": 156,
     "metadata": {},
     "output_type": "execute_result"
    }
   ],
   "source": [
    "positives.items()"
   ]
  },
  {
   "cell_type": "code",
   "execution_count": 170,
   "metadata": {
    "collapsed": false
   },
   "outputs": [
    {
     "data": {
      "text/plain": [
       "26"
      ]
     },
     "execution_count": 170,
     "metadata": {},
     "output_type": "execute_result"
    }
   ],
   "source": [
    "def precision(tp, fp):\n",
    "    if tp == 0 and fp == 0:\n",
    "        return 0\n",
    "    else:\n",
    "        return float(tp) / (tp + fp)\n",
    "            \n",
    "\n",
    "average_precisions = {str(p[0]): precision(p[1]['true'], p[1]['false']) for p in positives.items()}\n",
    "\n",
    "len(average_precisions.values())"
   ]
  },
  {
   "cell_type": "code",
   "execution_count": 173,
   "metadata": {
    "collapsed": false
   },
   "outputs": [
    {
     "name": "stdout",
     "output_type": "stream",
     "text": [
      "0\n",
      "10\n",
      "20\n",
      "30\n",
      "40\n",
      "50\n",
      "60\n",
      "70\n",
      "80\n",
      "90\n",
      "100\n",
      "110\n",
      "120\n",
      "130\n",
      "140\n"
     ]
    }
   ],
   "source": [
    "import six\n",
    "for count in six.moves.range(0, 149, 10):\n",
    "    print (count)\n"
   ]
  },
  {
   "cell_type": "markdown",
   "metadata": {},
   "source": [
    "### モニタリングする指標\n",
    "- 検出数\n",
    "- mean average precision"
   ]
  },
  {
   "cell_type": "code",
   "execution_count": 176,
   "metadata": {
    "collapsed": false
   },
   "outputs": [
    {
     "data": {
      "text/plain": [
       "numpy.ndarray"
      ]
     },
     "execution_count": 176,
     "metadata": {},
     "output_type": "execute_result"
    }
   ],
   "source": [
    "arr = np.asarray([Box(1,2,3,4), Box(5,6,7,8)])\n",
    "type(arr)"
   ]
  },
  {
   "cell_type": "code",
   "execution_count": 185,
   "metadata": {
    "collapsed": false
   },
   "outputs": [
    {
     "name": "stdout",
     "output_type": "stream",
     "text": [
      "(1, 2) 3 4\n",
      "(5, 6) 7 8\n"
     ]
    }
   ],
   "source": [
    "np.savez('foo.npz', data=arr)\n",
    "arr2 = np.load('foo.npz')\n",
    "\n",
    "for box in arr2['data']:\n",
    "    print (box.vertex[0], box.width, box.height)"
   ]
  },
  {
   "cell_type": "markdown",
   "metadata": {
    "collapsed": true
   },
   "source": [
    "### Boxクラス\n",
    "- x\n",
    "- y\n",
    "- width\n",
    "- height\n",
    "\n",
    "### Ground Truthクラス\n",
    "- width\n",
    "- height\n",
    "- bounding_boxes\n",
    "  - box\n",
    "  - class\n",
    "  - objectness\n"
   ]
  },
  {
   "cell_type": "code",
   "execution_count": 188,
   "metadata": {
    "collapsed": false
   },
   "outputs": [
    {
     "data": {
      "text/plain": [
       "[1, 2, 3, 4, 5]"
      ]
     },
     "execution_count": 188,
     "metadata": {},
     "output_type": "execute_result"
    }
   ],
   "source": [
    "[x + 1\n",
    "    for x in np.arange(0,5)]"
   ]
  },
  {
   "cell_type": "code",
   "execution_count": 178,
   "metadata": {
    "collapsed": false
   },
   "outputs": [
    {
     "ename": "TypeError",
     "evalue": "an integer is required",
     "output_type": "error",
     "traceback": [
      "\u001b[0;31m---------------------------------------------------------------------------\u001b[0m",
      "\u001b[0;31mTypeError\u001b[0m                                 Traceback (most recent call last)",
      "\u001b[0;32m<ipython-input-178-35a1f25e62ce>\u001b[0m in \u001b[0;36m<module>\u001b[0;34m()\u001b[0m\n\u001b[0;32m----> 1\u001b[0;31m \u001b[0mnp\u001b[0m\u001b[0;34m.\u001b[0m\u001b[0mrandom\u001b[0m\u001b[0;34m.\u001b[0m\u001b[0mrand\u001b[0m\u001b[0;34m(\u001b[0m\u001b[0;34m(\u001b[0m\u001b[0;36m1\u001b[0m\u001b[0;34m,\u001b[0m\u001b[0;36m3\u001b[0m\u001b[0;34m,\u001b[0m\u001b[0;36m5\u001b[0m\u001b[0;34m,\u001b[0m\u001b[0;36m5\u001b[0m\u001b[0;34m)\u001b[0m\u001b[0;34m)\u001b[0m\u001b[0;34m.\u001b[0m\u001b[0mshape\u001b[0m\u001b[0;34m\u001b[0m\u001b[0m\n\u001b[0m",
      "\u001b[0;32mmtrand.pyx\u001b[0m in \u001b[0;36mmtrand.RandomState.rand (numpy/random/mtrand/mtrand.c:18928)\u001b[0;34m()\u001b[0m\n",
      "\u001b[0;32mmtrand.pyx\u001b[0m in \u001b[0;36mmtrand.RandomState.random_sample (numpy/random/mtrand/mtrand.c:14895)\u001b[0;34m()\u001b[0m\n",
      "\u001b[0;32mmtrand.pyx\u001b[0m in \u001b[0;36mmtrand.cont0_array (numpy/random/mtrand/mtrand.c:2383)\u001b[0;34m()\u001b[0m\n",
      "\u001b[0;31mTypeError\u001b[0m: an integer is required"
     ]
    }
   ],
   "source": [
    "np.random.rand((1,3,5,5)).shape"
   ]
  },
  {
   "cell_type": "code",
   "execution_count": 306,
   "metadata": {
    "collapsed": false
   },
   "outputs": [
    {
     "data": {
      "text/plain": [
       "array([2, 3, 4, 5])"
      ]
     },
     "execution_count": 306,
     "metadata": {},
     "output_type": "execute_result"
    }
   ],
   "source": [
    "a = np.arange(1, 6)\n",
    "a[1:]"
   ]
  },
  {
   "cell_type": "code",
   "execution_count": 217,
   "metadata": {
    "collapsed": false
   },
   "outputs": [
    {
     "name": "stdout",
     "output_type": "stream",
     "text": [
      "1 2\n",
      "2 3\n",
      "3 4\n",
      "4 5\n"
     ]
    }
   ],
   "source": [
    "for i, item in enumerate(a[1:], 1):\n",
    "    print(i, item)"
   ]
  },
  {
   "cell_type": "code",
   "execution_count": 299,
   "metadata": {
    "collapsed": false
   },
   "outputs": [
    {
     "data": {
      "text/plain": [
       "array([11, 12, 13, 14, 15])"
      ]
     },
     "execution_count": 299,
     "metadata": {},
     "output_type": "execute_result"
    }
   ],
   "source": [
    "b = np.arange(11, 16)\n",
    "b"
   ]
  },
  {
   "cell_type": "code",
   "execution_count": 296,
   "metadata": {
    "collapsed": false
   },
   "outputs": [
    {
     "name": "stdout",
     "output_type": "stream",
     "text": [
      "1 1 11\n",
      "2 2 12\n",
      "3 3 13\n",
      "4 4 14\n",
      "5 5 15\n"
     ]
    }
   ],
   "source": [
    "for i, (a, b) in enumerate(zip(a, b), 1):\n",
    "    print (i, a, b)"
   ]
  },
  {
   "cell_type": "code",
   "execution_count": 304,
   "metadata": {
    "collapsed": false
   },
   "outputs": [
    {
     "data": {
      "text/plain": [
       "array([15, 14, 13, 12, 11])"
      ]
     },
     "execution_count": 304,
     "metadata": {},
     "output_type": "execute_result"
    }
   ],
   "source": [
    "np.sort(b)[::-1]"
   ]
  },
  {
   "cell_type": "code",
   "execution_count": 309,
   "metadata": {
    "collapsed": false
   },
   "outputs": [
    {
     "name": "stdout",
     "output_type": "stream",
     "text": [
      "1 11\n",
      "1 12\n",
      "1 13\n",
      "1 14\n",
      "1 15\n",
      "2 11\n",
      "2 12\n",
      "2 13\n",
      "2 14\n",
      "2 15\n",
      "3 11\n",
      "3 12\n",
      "3 13\n",
      "3 14\n",
      "3 15\n",
      "4 11\n",
      "4 12\n",
      "4 13\n",
      "4 14\n",
      "4 15\n",
      "5 11\n",
      "5 12\n",
      "5 13\n",
      "5 14\n",
      "5 15\n"
     ]
    }
   ],
   "source": [
    "import itertools\n",
    "for _a, _b in itertools.product(a, b):\n",
    "    print(_a, _b)"
   ]
  },
  {
   "cell_type": "code",
   "execution_count": 313,
   "metadata": {
    "collapsed": false
   },
   "outputs": [
    {
     "data": {
      "text/plain": [
       "list"
      ]
     },
     "execution_count": 313,
     "metadata": {},
     "output_type": "execute_result"
    }
   ],
   "source": [
    "a = [1,2,3,4,5]\n",
    "type(a)"
   ]
  },
  {
   "cell_type": "code",
   "execution_count": 320,
   "metadata": {
    "collapsed": false
   },
   "outputs": [
    {
     "data": {
      "text/plain": [
       "0.5"
      ]
     },
     "execution_count": 320,
     "metadata": {},
     "output_type": "execute_result"
    }
   ],
   "source": [
    "a = [0.2, 0.1, 0.5, 0.9, 0.8]\n",
    "np.asarray(a).mean()"
   ]
  },
  {
   "cell_type": "code",
   "execution_count": 321,
   "metadata": {
    "collapsed": false
   },
   "outputs": [
    {
     "data": {
      "text/plain": [
       "5250.0"
      ]
     },
     "execution_count": 321,
     "metadata": {},
     "output_type": "execute_result"
    }
   ],
   "source": [
    "750 * (3.5+3.5)"
   ]
  },
  {
   "cell_type": "code",
   "execution_count": 324,
   "metadata": {
    "collapsed": false
   },
   "outputs": [
    {
     "data": {
      "text/plain": [
       "array([ 0.], dtype=float32)"
      ]
     },
     "execution_count": 324,
     "metadata": {},
     "output_type": "execute_result"
    }
   ],
   "source": [
    "loss = chainer.Variable(xp.asarray([0.]).astype(np.float32))\n",
    "loss.data"
   ]
  },
  {
   "cell_type": "code",
   "execution_count": 327,
   "metadata": {
    "collapsed": false
   },
   "outputs": [],
   "source": [
    "px, py, pw, ph, pconf, pprob \\\n",
    "        = np.array_split(h.data, indices_or_sections=(1,2,3,4,5), axis=1)"
   ]
  },
  {
   "cell_type": "code",
   "execution_count": 329,
   "metadata": {
    "collapsed": false
   },
   "outputs": [
    {
     "data": {
      "text/plain": [
       "(10, 31, 7, 7)"
      ]
     },
     "execution_count": 329,
     "metadata": {},
     "output_type": "execute_result"
    }
   ],
   "source": [
    "h2 = h.data.copy()\n",
    "h2.shape"
   ]
  },
  {
   "cell_type": "code",
   "execution_count": 330,
   "metadata": {
    "collapsed": true
   },
   "outputs": [],
   "source": [
    "px, py, pw, ph, pconf, pprob \\\n",
    "        = np.array_split(h2, indices_or_sections=(1,2,3,4,5), axis=1)"
   ]
  },
  {
   "cell_type": "code",
   "execution_count": 336,
   "metadata": {
    "collapsed": false
   },
   "outputs": [
    {
     "data": {
      "text/plain": [
       "array([ 0.67400473, -1.87082911,  0.30298477, -0.89438933,  7.27609015,\n",
       "       -2.87152147,  1.52196419,  0.10734994,  2.50486135, -2.47440529,\n",
       "       -1.53990662, -1.48320389, -3.21057987], dtype=float32)"
      ]
     },
     "execution_count": 336,
     "metadata": {},
     "output_type": "execute_result"
    }
   ],
   "source": [
    "px[0][0][_candidate_map]"
   ]
  },
  {
   "cell_type": "code",
   "execution_count": 345,
   "metadata": {
    "collapsed": false
   },
   "outputs": [
    {
     "data": {
      "text/plain": [
       "(1, 7, 7)"
      ]
     },
     "execution_count": 345,
     "metadata": {},
     "output_type": "execute_result"
    }
   ],
   "source": [
    "px0 = px[0]\n",
    "px0.shape"
   ]
  },
  {
   "cell_type": "code",
   "execution_count": 346,
   "metadata": {
    "collapsed": false
   },
   "outputs": [
    {
     "data": {
      "text/plain": [
       "(7, 7)"
      ]
     },
     "execution_count": 346,
     "metadata": {},
     "output_type": "execute_result"
    }
   ],
   "source": [
    "px0 = px0.reshape(px0.shape[1:])\n",
    "px0.shape"
   ]
  },
  {
   "cell_type": "code",
   "execution_count": 378,
   "metadata": {
    "collapsed": false
   },
   "outputs": [
    {
     "data": {
      "text/plain": [
       "array(1.0)"
      ]
     },
     "execution_count": 378,
     "metadata": {},
     "output_type": "execute_result"
    }
   ],
   "source": [
    "a = F.sum(xp.asarray([1.0]))\n",
    "a.data"
   ]
  },
  {
   "cell_type": "code",
   "execution_count": 381,
   "metadata": {
    "collapsed": true
   },
   "outputs": [],
   "source": [
    "np.reshape?"
   ]
  },
  {
   "cell_type": "code",
   "execution_count": 394,
   "metadata": {
    "collapsed": false
   },
   "outputs": [
    {
     "data": {
      "text/plain": [
       "(10, 31, 7, 7)"
      ]
     },
     "execution_count": 394,
     "metadata": {},
     "output_type": "execute_result"
    }
   ],
   "source": [
    "h2.shape"
   ]
  },
  {
   "cell_type": "code",
   "execution_count": 397,
   "metadata": {
    "collapsed": false
   },
   "outputs": [
    {
     "data": {
      "text/plain": [
       "(31, 7, 7)"
      ]
     },
     "execution_count": 397,
     "metadata": {},
     "output_type": "execute_result"
    }
   ],
   "source": [
    "h3 = h2[0]\n",
    "h3.shape"
   ]
  },
  {
   "cell_type": "code",
   "execution_count": 399,
   "metadata": {
    "collapsed": false
   },
   "outputs": [
    {
     "data": {
      "text/plain": [
       "(1, 7, 7)"
      ]
     },
     "execution_count": 399,
     "metadata": {},
     "output_type": "execute_result"
    }
   ],
   "source": [
    "px, py, pw, ph, pconf, pprob \\\n",
    "        = np.array_split(h3, indices_or_sections=(1,2,3,4,5), axis=0)\n",
    "px.shape"
   ]
  },
  {
   "cell_type": "code",
   "execution_count": 400,
   "metadata": {
    "collapsed": false
   },
   "outputs": [
    {
     "data": {
      "text/plain": [
       "array([[ True,  True,  True,  True,  True,  True,  True],\n",
       "       [ True,  True,  True,  True,  True,  True,  True],\n",
       "       [ True,  True,  True,  True,  True,  True,  True],\n",
       "       [ True,  True,  True,  True,  True,  True,  True],\n",
       "       [ True,  True,  True,  True,  True,  True,  True],\n",
       "       [ True,  True,  True,  True,  True,  True,  True],\n",
       "       [ True,  True,  True,  True,  True,  True,  True]], dtype=bool)"
      ]
     },
     "execution_count": 400,
     "metadata": {},
     "output_type": "execute_result"
    }
   ],
   "source": [
    "np.tile(True, (N_GRID, N_GRID))"
   ]
  },
  {
   "cell_type": "code",
   "execution_count": 405,
   "metadata": {
    "collapsed": true
   },
   "outputs": [],
   "source": [
    "class Point():\n",
    "    def __init__(self, x, y):\n",
    "        self.x = x\n",
    "        self.y = y\n",
    "\n",
    "    def __repr__(self):\n",
    "        return '<Point x:%4.1f y:%4.1f>' % (self.x, self.y)"
   ]
  },
  {
   "cell_type": "code",
   "execution_count": 406,
   "metadata": {
    "collapsed": false
   },
   "outputs": [],
   "source": [
    "grid_cells = [Point(x=float(point[1]), y=float(point[0]))\n",
    "                for point in np.argwhere(np.tile(True, (N_GRID, N_GRID)))]"
   ]
  },
  {
   "cell_type": "code",
   "execution_count": 407,
   "metadata": {
    "collapsed": false
   },
   "outputs": [
    {
     "data": {
      "text/plain": [
       "[<Point x: 0.0 y: 0.0>,\n",
       " <Point x: 1.0 y: 0.0>,\n",
       " <Point x: 2.0 y: 0.0>,\n",
       " <Point x: 3.0 y: 0.0>,\n",
       " <Point x: 4.0 y: 0.0>,\n",
       " <Point x: 5.0 y: 0.0>,\n",
       " <Point x: 6.0 y: 0.0>,\n",
       " <Point x: 0.0 y: 1.0>,\n",
       " <Point x: 1.0 y: 1.0>,\n",
       " <Point x: 2.0 y: 1.0>,\n",
       " <Point x: 3.0 y: 1.0>,\n",
       " <Point x: 4.0 y: 1.0>,\n",
       " <Point x: 5.0 y: 1.0>,\n",
       " <Point x: 6.0 y: 1.0>,\n",
       " <Point x: 0.0 y: 2.0>,\n",
       " <Point x: 1.0 y: 2.0>,\n",
       " <Point x: 2.0 y: 2.0>,\n",
       " <Point x: 3.0 y: 2.0>,\n",
       " <Point x: 4.0 y: 2.0>,\n",
       " <Point x: 5.0 y: 2.0>,\n",
       " <Point x: 6.0 y: 2.0>,\n",
       " <Point x: 0.0 y: 3.0>,\n",
       " <Point x: 1.0 y: 3.0>,\n",
       " <Point x: 2.0 y: 3.0>,\n",
       " <Point x: 3.0 y: 3.0>,\n",
       " <Point x: 4.0 y: 3.0>,\n",
       " <Point x: 5.0 y: 3.0>,\n",
       " <Point x: 6.0 y: 3.0>,\n",
       " <Point x: 0.0 y: 4.0>,\n",
       " <Point x: 1.0 y: 4.0>,\n",
       " <Point x: 2.0 y: 4.0>,\n",
       " <Point x: 3.0 y: 4.0>,\n",
       " <Point x: 4.0 y: 4.0>,\n",
       " <Point x: 5.0 y: 4.0>,\n",
       " <Point x: 6.0 y: 4.0>,\n",
       " <Point x: 0.0 y: 5.0>,\n",
       " <Point x: 1.0 y: 5.0>,\n",
       " <Point x: 2.0 y: 5.0>,\n",
       " <Point x: 3.0 y: 5.0>,\n",
       " <Point x: 4.0 y: 5.0>,\n",
       " <Point x: 5.0 y: 5.0>,\n",
       " <Point x: 6.0 y: 5.0>,\n",
       " <Point x: 0.0 y: 6.0>,\n",
       " <Point x: 1.0 y: 6.0>,\n",
       " <Point x: 2.0 y: 6.0>,\n",
       " <Point x: 3.0 y: 6.0>,\n",
       " <Point x: 4.0 y: 6.0>,\n",
       " <Point x: 5.0 y: 6.0>,\n",
       " <Point x: 6.0 y: 6.0>]"
      ]
     },
     "execution_count": 407,
     "metadata": {},
     "output_type": "execute_result"
    }
   ],
   "source": [
    "grid_cells"
   ]
  },
  {
   "cell_type": "code",
   "execution_count": null,
   "metadata": {
    "collapsed": true
   },
   "outputs": [],
   "source": []
  }
 ],
 "metadata": {
  "anaconda-cloud": {},
  "kernelspec": {
   "display_name": "Python 2",
   "language": "python",
   "name": "python2"
  },
  "language_info": {
   "codemirror_mode": {
    "name": "ipython",
    "version": 2
   },
   "file_extension": ".py",
   "mimetype": "text/x-python",
   "name": "python",
   "nbconvert_exporter": "python",
   "pygments_lexer": "ipython2",
   "version": "2.7.13"
  }
 },
 "nbformat": 4,
 "nbformat_minor": 2
}
