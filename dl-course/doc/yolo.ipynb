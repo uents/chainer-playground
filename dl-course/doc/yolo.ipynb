{
 "cells": [
  {
   "cell_type": "markdown",
   "metadata": {},
   "source": [
    "# YOLO検討ノート"
   ]
  },
  {
   "cell_type": "code",
   "execution_count": 2,
   "metadata": {
    "collapsed": true
   },
   "outputs": [],
   "source": [
    "from __future__ import unicode_literals\n",
    "from __future__ import print_function\n",
    "import sys\n",
    "import os\n",
    "import math\n",
    "import random\n",
    "import numpy as np\n",
    "import scipy.io\n",
    "import pandas as pd\n",
    "import seaborn as sns\n",
    "import matplotlib.pyplot as plt\n",
    "import cv2\n",
    "import json\n",
    "\n",
    "import chainer\n",
    "import chainer.functions as F\n",
    "import chainer.links as L\n",
    "\n",
    "%matplotlib inline\n",
    "sns.set_style('whitegrid')"
   ]
  },
  {
   "cell_type": "code",
   "execution_count": 3,
   "metadata": {
    "collapsed": false
   },
   "outputs": [
    {
     "data": {
      "text/plain": [
       "'2.7.13 |Anaconda 4.3.0 (x86_64)| (default, Dec 20 2016, 23:05:08) \\n[GCC 4.2.1 Compatible Apple LLVM 6.0 (clang-600.0.57)]'"
      ]
     },
     "execution_count": 3,
     "metadata": {},
     "output_type": "execute_result"
    }
   ],
   "source": [
    "sys.version"
   ]
  },
  {
   "cell_type": "code",
   "execution_count": 4,
   "metadata": {
    "collapsed": false
   },
   "outputs": [
    {
     "data": {
      "text/plain": [
       "'3.1.0'"
      ]
     },
     "execution_count": 4,
     "metadata": {},
     "output_type": "execute_result"
    }
   ],
   "source": [
    "cv2.__version__"
   ]
  },
  {
   "cell_type": "code",
   "execution_count": 5,
   "metadata": {
    "collapsed": false
   },
   "outputs": [
    {
     "data": {
      "text/plain": [
       "'1.22.0'"
      ]
     },
     "execution_count": 5,
     "metadata": {},
     "output_type": "execute_result"
    }
   ],
   "source": [
    "chainer.__version__"
   ]
  },
  {
   "cell_type": "markdown",
   "metadata": {},
   "source": [
    "## ネットワーク構成"
   ]
  },
  {
   "cell_type": "code",
   "execution_count": 6,
   "metadata": {
    "collapsed": true
   },
   "outputs": [],
   "source": [
    "xp = np\n",
    "\n",
    "N_BOXES = 1\n",
    "N_CLASSES = 26  # 0..25\n",
    "                # F.softmax_cross_entropy()で扱うラベルが\n",
    "                # 0始まりの必要があるため、便宜的に0を追加\n",
    "N_GRID = 7\n",
    "INPUT_SIZE = 448\n",
    "N_CNN_LAYER = 7"
   ]
  },
  {
   "cell_type": "code",
   "execution_count": 7,
   "metadata": {
    "collapsed": false
   },
   "outputs": [
    {
     "data": {
      "text/plain": [
       "1519"
      ]
     },
     "execution_count": 7,
     "metadata": {},
     "output_type": "execute_result"
    }
   ],
   "source": [
    "(N_GRID**2) * ((N_BOXES * 5) + N_CLASSES)"
   ]
  },
  {
   "cell_type": "code",
   "execution_count": 8,
   "metadata": {
    "collapsed": false
   },
   "outputs": [],
   "source": [
    "class YoloClassifier(chainer.Chain):\n",
    "    def __init__(self, gpu=-1):\n",
    "        super(YoloClassifier, self).__init__(\n",
    "            conv1  = L.Convolution2D(3,      16, ksize=3, stride=1, pad=1),\n",
    "            conv2  = L.Convolution2D(None,   32, ksize=3, stride=1, pad=1),\n",
    "            conv3  = L.Convolution2D(None,   64, ksize=3, stride=1, pad=1),\n",
    "            conv4  = L.Convolution2D(None,  128, ksize=3, stride=1, pad=1),\n",
    "            conv5  = L.Convolution2D(None,  256, ksize=3, stride=1, pad=1),\n",
    "            conv6  = L.Convolution2D(None,  512, ksize=3, stride=1, pad=1),\n",
    "            conv7  = L.Convolution2D(None, 1024, ksize=3, stride=1, pad=1),\n",
    "            # addditonal layers for pretraining\n",
    "            conv8  = L.Convolution2D(None, N_CLASSES, ksize=1, stride=1, pad=0),\n",
    "        )\n",
    "        self.train = False\n",
    "        self.gpu = gpu\n",
    "        if self.gpu >= 0: self.to_gpu()\n",
    "\n",
    "    def forward(self, x):\n",
    "        batch_size = x.data.shape[0]\n",
    "        h = F.leaky_relu(self.conv1(x), slope=0.1)\n",
    "        h = F.max_pooling_2d(h, ksize=2, stride=2, pad=0) # 224x224\n",
    "        h = F.leaky_relu(self.conv2(h), slope=0.1)\n",
    "        h = F.max_pooling_2d(h, ksize=2, stride=2, pad=0) # 112x112\n",
    "        h = F.leaky_relu(self.conv3(h), slope=0.1)\n",
    "        h = F.max_pooling_2d(h, ksize=2, stride=2, pad=0) # 56x56\n",
    "        h = F.leaky_relu(self.conv4(h), slope=0.1)\n",
    "        h = F.max_pooling_2d(h, ksize=2, stride=2, pad=0) # 28x28\n",
    "        h = F.leaky_relu(self.conv5(h), slope=0.1)\n",
    "        h = F.max_pooling_2d(h, ksize=2, stride=2, pad=0) # 14x14\n",
    "        h = F.leaky_relu(self.conv6(h), slope=0.1)\n",
    "        h = F.max_pooling_2d(h, ksize=2, stride=2, pad=0) # 7x7\n",
    "        h = F.leaky_relu(self.conv7(h), slope=0.1)\n",
    "        # additional layers for pretraining\n",
    "        h = self.conv8(h)\n",
    "        h = F.average_pooling_2d(h, h.data.shape[-1], stride=1, pad=0)\n",
    "        # reshape result tensor\n",
    "        h = F.reshape(h, (batch_size, -1))\n",
    "        return h\n",
    "\n",
    "    def __call__(self, x, t):\n",
    "        h = self.forward(x)\n",
    "        self.loss = F.softmax_cross_entropy(h, t)\n",
    "        self.accuracy = F.accuracy(h, t)\n",
    "        if self.train:\n",
    "            return self.loss\n",
    "        else:\n",
    "            return F.softmax(h)"
   ]
  },
  {
   "cell_type": "code",
   "execution_count": 9,
   "metadata": {
    "collapsed": false
   },
   "outputs": [],
   "source": [
    "class YoloDetector(chainer.Chain):\n",
    "    def __init__(self, gpu=-1):\n",
    "        super(YoloDetector, self).__init__(\n",
    "            conv1  = L.Convolution2D(3,      16, ksize=3, stride=1, pad=1),\n",
    "            conv2  = L.Convolution2D(None,   32, ksize=3, stride=1, pad=1),\n",
    "            conv3  = L.Convolution2D(None,   64, ksize=3, stride=1, pad=1),\n",
    "            conv4  = L.Convolution2D(None,  128, ksize=3, stride=1, pad=1),\n",
    "            conv5  = L.Convolution2D(None,  256, ksize=3, stride=1, pad=1),\n",
    "            conv6 = L.Convolution2D(None,  512, ksize=3, stride=1, pad=1),\n",
    "            conv7 = L.Convolution2D(None, 1024, ksize=3, stride=1, pad=1),\n",
    "            conv8 = L.Convolution2D(None, 1024, ksize=3, stride=1, pad=1),\n",
    "            conv9 = L.Convolution2D(None, 1024, ksize=3, stride=1, pad=1),\n",
    "            fc1 = L.Linear(50176, 256), # (1024,7,7)=50176\n",
    "            fc2 = L.Linear(None, 4096),\n",
    "            fc3 = L.Linear(None, ((N_BOXES*5)+N_CLASSES) * (N_GRID**2))\n",
    "        )\n",
    "        self.train = False\n",
    "        self.class_prob_thresh = 0.3\n",
    "        self.iou_thresh = 0.3\n",
    "        self.gpu = gpu\n",
    "        if self.gpu >= 0: self.to_gpu()\n",
    "\n",
    "    def forward(self, x):\n",
    "        batch_size = x.data.shape[0]\n",
    "        h = F.leaky_relu(self.conv1(x), slope=0.1)\n",
    "        h = F.max_pooling_2d(h, ksize=2, stride=2, pad=0) # 224x224\n",
    "        h = F.leaky_relu(self.conv2(h), slope=0.1)\n",
    "        h = F.max_pooling_2d(h, ksize=2, stride=2, pad=0) # 112x112\n",
    "        h = F.leaky_relu(self.conv3(h), slope=0.1)\n",
    "        h = F.max_pooling_2d(h, ksize=2, stride=2, pad=0) # 56x56\n",
    "        h = F.leaky_relu(self.conv4(h), slope=0.1)\n",
    "        h = F.max_pooling_2d(h, ksize=2, stride=2, pad=0) # 28x28\n",
    "        h = F.leaky_relu(self.conv5(h), slope=0.1)\n",
    "        h = F.max_pooling_2d(h, ksize=2, stride=2, pad=0) # 14x14\n",
    "        h = F.leaky_relu(self.conv6(h), slope=0.1)\n",
    "        h = F.max_pooling_2d(h, ksize=2, stride=2, pad=0) # 7x7\n",
    "        h = F.leaky_relu(self.conv7(h), slope=0.1)\n",
    "        h = F.leaky_relu(self.conv8(h), slope=0.1)\n",
    "        h = F.leaky_relu(self.conv9(h), slope=0.1)\n",
    "        h = F.leaky_relu(self.fc1(h), slope=0.1)\n",
    "        h = F.dropout(h, train=self.train, ratio=0.5)\n",
    "        h = F.leaky_relu(self.fc2(h), slope=0.1)\n",
    "        h = self.fc3(h)\n",
    "        # reshape predicted tensor\n",
    "        h = F.reshape(h, (batch_size, (5*N_BOXES)+N_CLASSES, N_GRID, N_GRID))\n",
    "        return h\n",
    "\n",
    "    def __call__(self, x, t):\n",
    "        # 推論を実行\n",
    "        px, py, pw, ph, pconf, pprob = self.forward(x)\n",
    "        # 教師データを抽出\n",
    "        if self.gpu >= 0: t.to_cpu()\n",
    "        tx, ty, tw, th, tconf, _tprob = np.array_split(t.data, indices_or_sections=(1,2,3,4,5), axis=1)\n",
    "#        tx, ty, tw, th, tconf, tprob = F.split_axis(t, indices_or_sections=(1,2,3,4,5), axis=1)\n",
    "        if self.gpu >= 0: t.to_gpu()\n",
    "\n",
    "        # オブジェクトが存在しないグリッドは、活性化後にグリッド中心となるよう学習\n",
    "        tx[tconf != 1.0] = 0.5\n",
    "        ty[tconf != 1.0] = 0.5\n",
    "        # オブジェクトが存在しないグリッドは、学習させない\n",
    "        if self.gpu >= 0: pprob.to_cpu()\n",
    "        tprob = pprob.data.copy()\n",
    "        if self.gpu >= 0: pprob.to_gpu()\n",
    "        tprob[_tprob == 1.0] = 1.0\n",
    "        # 学習係数を、オブジェクトが存在するグリッドか否かで調整\n",
    "        box_learning_scale = np.tile(0.1, tconf.shape)\n",
    "        box_learning_scale[tconf == 1.0] = 5.0\n",
    "        conf_learning_scale = np.tile(0.5, tconf.shape)\n",
    "        conf_learning_scale[tconf == 1.0] = 1.0\n",
    "        prob_learning_scale = np.tile(0.0, tconf.shape)\n",
    "        prob_learning_scale[tconf == 1.0] = 1.0\n",
    "\n",
    "        # 損失誤差を算出\n",
    "        tx = self.__variable(tx, np.float32)\n",
    "        ty = self.__variable(ty, np.float32)\n",
    "        tw = self.__variable(tw, np.float32)\n",
    "        th = self.__variable(th, np.float32)\n",
    "        tconf = self.__variable(tconf, np.float32)\n",
    "        tprob = self.__variable(tprob, np.float32)\n",
    "        if self.gpu >=0:\n",
    "            tx.to_gpu(), ty.to_gpu(), tw.to_gpu(), th.to_gpu(), tconf.to_gpu(), tprob.to_gpu()\n",
    "        box_learning_scale = self.__variable(box_learning_scale, np.float32)\n",
    "        conf_learning_scale = self.__variable(conf_learning_scale, np.float32)\n",
    "        prob_learning_scale = self.__variable(prob_learning_scale, np.float32)\n",
    "        if self.gpu >=0:\n",
    "            box_learning_scale.to_gpu(), conf_learning_scale.to_gpu(), prob_learning_scale.to_gpu()\n",
    "\n",
    "#        print(type(tx), tx.shape, type(px), px.shape)\n",
    "        x_loss = F.sum(box_learning_scale * ((tx - px) ** 2))\n",
    "        y_loss = F.sum(box_learning_scale * ((ty - py) ** 2))\n",
    "        w_loss = F.sum(box_learning_scale * ((tw - pw) ** 2))\n",
    "        h_loss = F.sum(box_learning_scale * ((th - ph) ** 2))\n",
    "        conf_loss = F.sum(conf_learning_scale * ((tconf - pconf) ** 2))\n",
    "        prob_loss = F.sum(prob_learning_scale * F.reshape(F.sum(((tprob - pprob) ** 2), axis=1), prob_learning_scale.shape))\n",
    "#        prob_loss = F.sum((tprob - pprob) ** 2)\n",
    "\n",
    "        if self.train:\n",
    "            print(\"loss x:%f y:%f w:%f h:%f conf:%f prob:%f\" %\n",
    "                  (x_loss.data, y_loss.data, w_loss.data, h_loss.data, conf_loss.data, prob_loss.data))\n",
    "        self.loss = x_loss + y_loss + w_loss + h_loss + conf_loss + prob_loss\n",
    "\n",
    "        if self.gpu >= 0:\n",
    "            px.to_cpu(), py.to_cpu(), pw.to_cpu(), ph.to_cpu(), pconf.to_cpu(), pprob.to_cpu()\n",
    "        self.detected_boxes = self.__detection(px, py, pw, ph, pconf, pprob)\n",
    "        if self.gpu >= 0:\n",
    "            px.to_gpu(), py.to_gpu(), pw.to_gpu(), ph.to_gpu(), pconf.to_gpu(), pprob.to_gpu()\n",
    "\n",
    "        if self.train:\n",
    "            return self.loss\n",
    "        else:\n",
    "            return self.detected_boxes\n",
    "\n",
    "    def inference(self, x):\n",
    "        px, py, pw, ph, pconf, pprob = self.forward(x)\n",
    "        return self.__detection(px, py, pw, ph, pconf, pprob)\n",
    "\n",
    "    def __detection(self, px, py, pw, ph, pconf, pprob):\n",
    "        batch_size = px.data.shape[0]\n",
    "        _px = F.reshape(px, (batch_size, N_GRID, N_GRID)).data\n",
    "        _py = F.reshape(py, (batch_size, N_GRID, N_GRID)).data\n",
    "        _pw = F.reshape(pw, (batch_size, N_GRID, N_GRID)).data\n",
    "        _ph = F.reshape(ph, (batch_size, N_GRID, N_GRID)).data\n",
    "        _pconf = F.reshape(pconf, (batch_size, N_GRID, N_GRID)).data\n",
    "        _pprob = pprob.data\n",
    "\n",
    "        boxes = []\n",
    "        for i in range(0, batch_size):\n",
    "            candidates = self.__select_candidates(\n",
    "                _px[i], _py[i], _pw[i], _ph[i], _pconf[i], _pprob[i], self.class_prob_thresh)\n",
    "            winners = self.__nms(candidates, self.iou_thresh)\n",
    "            boxes.append(winners)\n",
    "        return boxes\n",
    "\n",
    "    def __select_candidates(self, px, py, pw, ph, pconf, pprob, class_prob_thresh):\n",
    "        class_prob_map = pprob * pconf # クラス確率を算出 (N_CLASSES,N_GRID,N_GRID)\n",
    "        candidate_map = class_prob_map.max(axis=0) > class_prob_thresh # 検出グリッド候補を決定 (N_GRID,N_GRID)\n",
    "        candidate_label_map = class_prob_map.argmax(axis=0) # 検出グリッド候補のラベルを抽出 (N_GRID,N_GRID)\n",
    "        candidates = []\n",
    "        for i in range(0, candidate_map.sum()):\n",
    "            candidates.append({\n",
    "                'box': Box(px[candidate_map][i], py[candidate_map][i],\n",
    "                        pw[candidate_map][i], ph[candidate_map][i]),\n",
    "                #'conf': pconf[candidate_map][i],\n",
    "                #'prob': pprob.transpose(1,2,0)[candidate_map][i],\n",
    "                'objectness': class_prob_map.max(axis=0)[candidate_map][i],\n",
    "                'label': candidate_label_map[candidate_map][i]\n",
    "            })\n",
    "        return candidatess\n",
    "\n",
    "    def __nms(self, candidates, iou_thresh):\n",
    "        sorted(candidates, key=lambda x: x['objectness'], reverse=True)\n",
    "        winners = []\n",
    "\n",
    "        if len(candidates) == 0:\n",
    "            return winners\n",
    "\n",
    "        winners.append(candidates[0]) # 第１候補は必ず採用\n",
    "        for i in range(1, len(candidates)): # 第２候補以降は上位の候補とのIOU次第\n",
    "            for j in range(0, i):\n",
    "                if Box.iou(candidates[i]['box'], candidates[j]['box']) > iou_thresh:\n",
    "                    break\n",
    "            else:\n",
    "                winners.append(candidates[i])\n",
    "        return winners\n",
    "\n",
    "    def __variable(self, v, t):\n",
    "        return chainer.Variable(xp.asarray(v).astype(t))"
   ]
  },
  {
   "cell_type": "markdown",
   "metadata": {
    "collapsed": true
   },
   "source": [
    "## 学習データのロード"
   ]
  },
  {
   "cell_type": "code",
   "execution_count": 12,
   "metadata": {
    "collapsed": false
   },
   "outputs": [
    {
     "data": {
      "text/plain": [
       "599"
      ]
     },
     "execution_count": 12,
     "metadata": {},
     "output_type": "execute_result"
    }
   ],
   "source": [
    "with open(os.path.join('..', 'cache', 'train_catalog.json'), 'r') as fp:\n",
    "    catalog = json.load(fp)\n",
    "    \n",
    "train_dataset = filter(lambda item: item['bounding_boxes'] != [], catalog['dataset'])\n",
    "len(train_dataset)"
   ]
  },
  {
   "cell_type": "code",
   "execution_count": 13,
   "metadata": {
    "collapsed": false
   },
   "outputs": [
    {
     "data": {
      "text/plain": [
       "{u'bounding_boxes': [{u'class': u'1',\n",
       "   u'height': u'270',\n",
       "   u'width': u'1139',\n",
       "   u'x': u'13',\n",
       "   u'y': u'686'}],\n",
       " u'classes': [u'1'],\n",
       " u'color_image_path': u'/Users/uents/repos/github.com/uents/chainer-playground/dl-course/contest/APC/Single/Single/1/9/color.bmp',\n",
       " u'depth_image_path': u'/Users/uents/repos/github.com/uents/chainer-playground/dl-course/contest/APC/Single/Single/1/9/depth.bmp.bmp',\n",
       " u'label_image_path': u'/Users/uents/repos/github.com/uents/chainer-playground/dl-course/contest/APC/Single/mask_label/single/1/9/label.bmp',\n",
       " u'pattern_id': u'9'}"
      ]
     },
     "execution_count": 13,
     "metadata": {},
     "output_type": "execute_result"
    }
   ],
   "source": [
    "train_dataset[0]"
   ]
  },
  {
   "cell_type": "code",
   "execution_count": 14,
   "metadata": {
    "collapsed": true
   },
   "outputs": [],
   "source": [
    "class Image():\n",
    "    def __init__(self, path, width, height):\n",
    "        image = cv2.imread(path)\n",
    "        self.real_height, self.real_width, _ = image.shape\n",
    "        image = cv2.cvtColor(image, cv2.COLOR_BGR2RGB)\n",
    "        self.image = cv2.resize(image, (width, height))"
   ]
  },
  {
   "cell_type": "code",
   "execution_count": 15,
   "metadata": {
    "collapsed": true
   },
   "outputs": [],
   "source": [
    "class Box():\n",
    "    def __init__(self, x, y, width, height, clazz=0, objectness=1.0):\n",
    "        self.left = x\n",
    "        self.top = y\n",
    "        self.right = x + width\n",
    "        self.bottom = y + height\n",
    "        self.clazz = clazz\n",
    "        self.objectness = objectness\n",
    "\n",
    "    @property\n",
    "    def width(self):\n",
    "        return self.right - self.left\n",
    "\n",
    "    @property\n",
    "    def height(self):\n",
    "        return self.bottom - self.top\n",
    "\n",
    "    @property\n",
    "    def vertex(self):\n",
    "        return ((self.left, self.top), (self.right-1, self.top),\n",
    "                (self.left, self.bottom-1), (self.right-1, self.bottom-1))\n",
    "\n",
    "    def area(self):\n",
    "        return float(self.width * self.height)\n",
    "\n",
    "    @classmethod\n",
    "    def overlap(clazz, box1, box2):\n",
    "        left = max(box1.left, box2.left)\n",
    "        top = max(box1.top, box2.top)\n",
    "        right = min(box1.right, box2.right)\n",
    "        bottom = min(box1.bottom, box2.bottom)\n",
    "        width = max(0, right - left)\n",
    "        height = max(0, bottom - top)\n",
    "        return Box(left, top, width, height)\n",
    "\n",
    "    @classmethod\n",
    "    def intersection(clazz, box1, box2):\n",
    "        return Box.overlap(box1, box2).area()\n",
    "\n",
    "    @classmethod\n",
    "    def union(clazz, box1, box2):\n",
    "        return box1.area() + box2.area() - Box.intersection(box1, box2)\n",
    "\n",
    "    @classmethod\n",
    "    def iou(clazz, box1, box2):\n",
    "        return Box.intersection(box1, box2) / Box.union(box1, box2)\n",
    "\n",
    "class GroundTruth():\n",
    "    def __init__(self, width, height, bounding_boxes=[]):\n",
    "        self.width = width\n",
    "        self.height = height\n",
    "        self.bounding_boxes = bounding_boxes"
   ]
  },
  {
   "cell_type": "code",
   "execution_count": 16,
   "metadata": {
    "collapsed": false
   },
   "outputs": [
    {
     "data": {
      "text/plain": [
       "<__main__.Box instance at 0x11399a998>"
      ]
     },
     "execution_count": 16,
     "metadata": {},
     "output_type": "execute_result"
    }
   ],
   "source": [
    "bounding_boxes = [Box(x=float(box['x']), y=float(box['y']),\n",
    "                            width=float(box['width']), height=float(box['height']),\n",
    "                            clazz=float(box['class'])) for box in train_dataset[0]['bounding_boxes']]\n",
    "bounding_boxes[0]"
   ]
  },
  {
   "cell_type": "code",
   "execution_count": 17,
   "metadata": {
    "collapsed": false
   },
   "outputs": [],
   "source": [
    "image = Image(train_dataset[0]['color_image_path'], INPUT_SIZE, INPUT_SIZE)"
   ]
  },
  {
   "cell_type": "code",
   "execution_count": 18,
   "metadata": {
    "collapsed": false
   },
   "outputs": [
    {
     "data": {
      "text/plain": [
       "(array([14,  7, 15], dtype=uint8), array([12, 18, 32], dtype=uint8))"
      ]
     },
     "execution_count": 18,
     "metadata": {},
     "output_type": "execute_result"
    }
   ],
   "source": [
    "image.image[150][380], image.image[380][150]"
   ]
  },
  {
   "cell_type": "code",
   "execution_count": 19,
   "metadata": {
    "collapsed": false
   },
   "outputs": [
    {
     "data": {
      "text/plain": [
       "<matplotlib.image.AxesImage at 0x113984d10>"
      ]
     },
     "execution_count": 19,
     "metadata": {},
     "output_type": "execute_result"
    },
    {
     "data": {
      "image/png": "[encoded data removed]",
      "text/plain": [
       "<matplotlib.figure.Figure at 0x113563710>"
      ]
     },
     "metadata": {},
     "output_type": "display_data"
    }
   ],
   "source": [
    "fig, axes = plt.subplots(1,1)\n",
    "plt.xticks(range(0, 448, 64))\n",
    "plt.yticks(range(0, 448, 64))\n",
    "plt.imshow(image.image)\n",
    "#plt.plot([3*64, 3*64 + 0.117*64], [6*64, 6*64 + 0.052*64], 'r', lw=2)"
   ]
  },
  {
   "cell_type": "markdown",
   "metadata": {},
   "source": [
    "## 学習データのテンソルを作成"
   ]
  },
  {
   "cell_type": "code",
   "execution_count": 20,
   "metadata": {
    "collapsed": true
   },
   "outputs": [],
   "source": [
    "def parse_item_of_dataset(item):\n",
    "    image = Image(item['color_image_path'], INPUT_SIZE, INPUT_SIZE)\n",
    "    bounding_boxes = [Box(x=float(box['x']), y=float(box['y']),\n",
    "                            width=float(box['width']), height=float(box['height']),\n",
    "                            clazz=int(box['class'])) for box in item['bounding_boxes']]\n",
    "    ground_truth = GroundTruth(width=image.real_width, height=image.real_height,\n",
    "        bounding_boxes=bounding_boxes)\n",
    "    return {'image': image, 'ground_truth': ground_truth}"
   ]
  },
  {
   "cell_type": "code",
   "execution_count": 21,
   "metadata": {
    "collapsed": false
   },
   "outputs": [],
   "source": [
    "dataset = filter(lambda item: item['bounding_boxes'] != [], train_dataset)\n",
    "items = [parse_item_of_dataset(item) for item in dataset]\n",
    "images = np.asarray([item['image'] for item in items])\n",
    "ground_truths = np.asarray([item['ground_truth'] for item in items])"
   ]
  },
  {
   "cell_type": "code",
   "execution_count": 22,
   "metadata": {
    "collapsed": false
   },
   "outputs": [
    {
     "data": {
      "text/plain": [
       "(<__main__.Image instance at 0x113959128>,\n",
       " <__main__.GroundTruth instance at 0x11399a0e0>)"
      ]
     },
     "execution_count": 22,
     "metadata": {},
     "output_type": "execute_result"
    }
   ],
   "source": [
    "images[0], ground_truths[0]"
   ]
  },
  {
   "cell_type": "code",
   "execution_count": 23,
   "metadata": {
    "collapsed": true
   },
   "outputs": [],
   "source": [
    "def parse_ground_truth(bounding_box, real_width, real_height):\n",
    "    tw = bounding_box.width * INPUT_SIZE / real_width\n",
    "    th = bounding_box.height * INPUT_SIZE / real_height\n",
    "    tx = (bounding_box.left * INPUT_SIZE / real_width) + (tw / 2)\n",
    "    ty = (bounding_box.top * INPUT_SIZE / real_height) + (th / 2)\n",
    "\n",
    "    grid_size = INPUT_SIZE / N_GRID\n",
    "    active_grid_cell = {\n",
    "        'x': int(math.modf(tx / grid_size)[1]),\n",
    "        'y': int(math.modf(ty / grid_size)[1])\n",
    "    }\n",
    "    norm_truth = { # [0..1] に正規化\n",
    "        'x' : math.modf(tx / grid_size)[0],\n",
    "        'y' : math.modf(ty / grid_size)[0],\n",
    "        'w' : tw / INPUT_SIZE,\n",
    "        'h' : th / INPUT_SIZE\n",
    "    }\n",
    "    one_hot_clazz = np.eye(N_CLASSES)[np.array(bounding_box.clazz)]\n",
    "\n",
    "    # detection layerのテンソルに変換\n",
    "    tensor = np.zeros(((5*N_BOXES)+N_CLASSES, N_GRID, N_GRID)).astype(np.float32)\n",
    "    tensor[:5, active_grid_cell['y'], active_grid_cell['x']] \\\n",
    "        = [norm_truth['x'], norm_truth['y'], norm_truth['w'], norm_truth['h'], 1.0]\n",
    "    tensor[5:, active_grid_cell['y'], active_grid_cell['x']] = one_hot_clazz\n",
    "    return tensor"
   ]
  },
  {
   "cell_type": "code",
   "execution_count": 24,
   "metadata": {
    "collapsed": true
   },
   "outputs": [],
   "source": [
    "def make_ground_truth_tensor(ground_truth):\n",
    "    each_tensors = [parse_ground_truth(box, ground_truth.width, ground_truth.height)\n",
    "                        for box in ground_truth.bounding_boxes]\n",
    "    return reduce(lambda x, y: x + y, each_tensors)"
   ]
  },
  {
   "cell_type": "code",
   "execution_count": 25,
   "metadata": {
    "collapsed": false
   },
   "outputs": [
    {
     "data": {
      "text/plain": [
       "((599, 3, 448, 448), (599, 31, 7, 7))"
      ]
     },
     "execution_count": 25,
     "metadata": {},
     "output_type": "execute_result"
    }
   ],
   "source": [
    "image_tensors  = np.asarray([image.image for image in images]).transpose(0,3,1,2)\n",
    "ground_truth_tensors = np.asarray([make_ground_truth_tensor(truth) for truth in ground_truths])\n",
    "\n",
    "image_tensors.shape, ground_truth_tensors.shape"
   ]
  },
  {
   "cell_type": "markdown",
   "metadata": {},
   "source": [
    "## ミニバッチ時の学習データの抽出"
   ]
  },
  {
   "cell_type": "code",
   "execution_count": 26,
   "metadata": {
    "collapsed": true
   },
   "outputs": [],
   "source": [
    "batch_size = 10"
   ]
  },
  {
   "cell_type": "code",
   "execution_count": 27,
   "metadata": {
    "collapsed": false
   },
   "outputs": [
    {
     "data": {
      "text/plain": [
       "599"
      ]
     },
     "execution_count": 27,
     "metadata": {},
     "output_type": "execute_result"
    }
   ],
   "source": [
    "n_train = len(ground_truths)\n",
    "n_train"
   ]
  },
  {
   "cell_type": "code",
   "execution_count": 28,
   "metadata": {
    "collapsed": false
   },
   "outputs": [
    {
     "data": {
      "text/plain": [
       "array([ 96, 584,  35, 252, 418])"
      ]
     },
     "execution_count": 28,
     "metadata": {},
     "output_type": "execute_result"
    }
   ],
   "source": [
    "perm = np.random.permutation(n_train)\n",
    "perm[0:5]"
   ]
  },
  {
   "cell_type": "code",
   "execution_count": 29,
   "metadata": {
    "collapsed": false
   },
   "outputs": [],
   "source": [
    "count = 0\n",
    "ix = perm[count:count+batch_size]\n",
    "x = chainer.Variable(xp.asarray(image_tensors[ix]).astype(np.float32))\n",
    "t = chainer.Variable(xp.asarray(ground_truth_tensors[ix]).astype(np.float32))"
   ]
  },
  {
   "cell_type": "code",
   "execution_count": 30,
   "metadata": {
    "collapsed": false
   },
   "outputs": [
    {
     "data": {
      "text/plain": [
       "((10, 3, 448, 448), (10, 31, 7, 7))"
      ]
     },
     "execution_count": 30,
     "metadata": {},
     "output_type": "execute_result"
    }
   ],
   "source": [
    "x.shape, t.shape"
   ]
  },
  {
   "cell_type": "markdown",
   "metadata": {},
   "source": [
    "## 検出器のセットアップ"
   ]
  },
  {
   "cell_type": "code",
   "execution_count": 31,
   "metadata": {
    "collapsed": false
   },
   "outputs": [],
   "source": [
    "detector_model = YoloDetector()\n",
    "detector_optimizer = chainer.optimizers.Adam()\n",
    "detector_optimizer.setup(detector_model)"
   ]
  },
  {
   "cell_type": "markdown",
   "metadata": {},
   "source": [
    "## 推論を実行"
   ]
  },
  {
   "cell_type": "code",
   "execution_count": 32,
   "metadata": {
    "collapsed": true
   },
   "outputs": [],
   "source": [
    "h = detector_model.forward(x)"
   ]
  },
  {
   "cell_type": "code",
   "execution_count": 33,
   "metadata": {
    "collapsed": false
   },
   "outputs": [],
   "source": [
    "h2 = F.sigmoid(h)"
   ]
  },
  {
   "cell_type": "code",
   "execution_count": 34,
   "metadata": {
    "collapsed": true
   },
   "outputs": [],
   "source": [
    "_px, _py, _pw, _ph, _pconf, _pprob = F.split_axis(h.data, indices_or_sections=(1,2,3,4,5), axis=1)\n",
    "_px = F.sigmoid(_px).data\n",
    "_py = F.sigmoid(_py).data\n",
    "_pw = F.sigmoid(_pw).data\n",
    "_ph = F.sigmoid(_ph).data\n",
    "_pconf = F.sigmoid(_pconf).data\n",
    "_pprob = F.sigmoid(_pprob).data"
   ]
  },
  {
   "cell_type": "code",
   "execution_count": 35,
   "metadata": {
    "collapsed": false
   },
   "outputs": [],
   "source": [
    "_px2, _py2, _pw2, _ph2, _pconf2, _pprob2 = np.array_split(h2.data, indices_or_sections=(1,2,3,4,5), axis=1)"
   ]
  },
  {
   "cell_type": "code",
   "execution_count": 36,
   "metadata": {
    "collapsed": false
   },
   "outputs": [
    {
     "data": {
      "text/plain": [
       "array([[-1.        ,  0.26449409,  0.40429354,  0.55203962,  0.8437103 ,\n",
       "         0.53183401,  0.50162393],\n",
       "       [ 0.74272501,  0.3864845 ,  0.90207034,  0.57100129,  0.56750584,\n",
       "         0.55596542,  0.70820177],\n",
       "       [ 0.70840454,  0.56450415,  0.56932759,  0.5326938 ,  0.76436532,\n",
       "         0.64304256,  0.84411895],\n",
       "       [ 0.3494556 ,  0.25334257,  0.11256179,  0.36393797,  0.88539535,\n",
       "         0.14458972,  0.60133171],\n",
       "       [ 0.2588535 ,  0.48346239,  0.34262562,  0.24155867,  0.68575597,\n",
       "         0.67539829,  0.39958382],\n",
       "       [ 0.3079794 ,  0.17696244,  0.32431883,  0.8230707 ,  0.36073178,\n",
       "         0.40743107,  0.22904855],\n",
       "       [ 0.79281688,  0.58433467,  0.47268945,  0.36289343,  0.6784237 ,\n",
       "         0.59618896,  0.65911257]], dtype=float32)"
      ]
     },
     "execution_count": 36,
     "metadata": {},
     "output_type": "execute_result"
    }
   ],
   "source": [
    "_px2[0][0][0][0] = -1\n",
    "_px2[0][0]"
   ]
  },
  {
   "cell_type": "code",
   "execution_count": 37,
   "metadata": {
    "collapsed": false
   },
   "outputs": [
    {
     "data": {
      "text/plain": [
       "(10, 31, 7, 7)"
      ]
     },
     "execution_count": 37,
     "metadata": {},
     "output_type": "execute_result"
    }
   ],
   "source": [
    "h3 = chainer.cuda.to_cpu(h2.data.copy())\n",
    "h3.shape"
   ]
  },
  {
   "cell_type": "code",
   "execution_count": 38,
   "metadata": {
    "collapsed": false
   },
   "outputs": [
    {
     "data": {
      "text/plain": [
       "array([[-2.        ,  0.26449409,  0.40429354,  0.55203962,  0.8437103 ,\n",
       "         0.53183401,  0.50162393],\n",
       "       [ 0.74272501,  0.3864845 ,  0.90207034,  0.57100129,  0.56750584,\n",
       "         0.55596542,  0.70820177],\n",
       "       [ 0.70840454,  0.56450415,  0.56932759,  0.5326938 ,  0.76436532,\n",
       "         0.64304256,  0.84411895],\n",
       "       [ 0.3494556 ,  0.25334257,  0.11256179,  0.36393797,  0.88539535,\n",
       "         0.14458972,  0.60133171],\n",
       "       [ 0.2588535 ,  0.48346239,  0.34262562,  0.24155867,  0.68575597,\n",
       "         0.67539829,  0.39958382],\n",
       "       [ 0.3079794 ,  0.17696244,  0.32431883,  0.8230707 ,  0.36073178,\n",
       "         0.40743107,  0.22904855],\n",
       "       [ 0.79281688,  0.58433467,  0.47268945,  0.36289343,  0.6784237 ,\n",
       "         0.59618896,  0.65911257]], dtype=float32)"
      ]
     },
     "execution_count": 38,
     "metadata": {},
     "output_type": "execute_result"
    }
   ],
   "source": [
    "h3[0][0][0][0] = -2.0\n",
    "h3[0][0]"
   ]
  },
  {
   "cell_type": "code",
   "execution_count": 39,
   "metadata": {
    "collapsed": false
   },
   "outputs": [
    {
     "data": {
      "text/plain": [
       "array([[-1.        ,  0.26449409,  0.40429354,  0.55203962,  0.8437103 ,\n",
       "         0.53183401,  0.50162393],\n",
       "       [ 0.74272501,  0.3864845 ,  0.90207034,  0.57100129,  0.56750584,\n",
       "         0.55596542,  0.70820177],\n",
       "       [ 0.70840454,  0.56450415,  0.56932759,  0.5326938 ,  0.76436532,\n",
       "         0.64304256,  0.84411895],\n",
       "       [ 0.3494556 ,  0.25334257,  0.11256179,  0.36393797,  0.88539535,\n",
       "         0.14458972,  0.60133171],\n",
       "       [ 0.2588535 ,  0.48346239,  0.34262562,  0.24155867,  0.68575597,\n",
       "         0.67539829,  0.39958382],\n",
       "       [ 0.3079794 ,  0.17696244,  0.32431883,  0.8230707 ,  0.36073178,\n",
       "         0.40743107,  0.22904855],\n",
       "       [ 0.79281688,  0.58433467,  0.47268945,  0.36289343,  0.6784237 ,\n",
       "         0.59618896,  0.65911257]], dtype=float32)"
      ]
     },
     "execution_count": 39,
     "metadata": {},
     "output_type": "execute_result"
    }
   ],
   "source": [
    "h2.data[0][0]"
   ]
  },
  {
   "cell_type": "code",
   "execution_count": 40,
   "metadata": {
    "collapsed": false
   },
   "outputs": [
    {
     "data": {
      "text/plain": [
       "(12740, (10, 26, 7, 7))"
      ]
     },
     "execution_count": 40,
     "metadata": {},
     "output_type": "execute_result"
    }
   ],
   "source": [
    "(_pprob == _pprob2).sum(), _pprob.shape"
   ]
  },
  {
   "cell_type": "code",
   "execution_count": 42,
   "metadata": {
    "collapsed": false
   },
   "outputs": [
    {
     "data": {
      "text/plain": [
       "(10, 3, 448, 448)"
      ]
     },
     "execution_count": 42,
     "metadata": {},
     "output_type": "execute_result"
    }
   ],
   "source": [
    "x.shape"
   ]
  },
  {
   "cell_type": "code",
   "execution_count": 45,
   "metadata": {
    "collapsed": false
   },
   "outputs": [
    {
     "data": {
      "text/plain": [
       "((10, 1, 7, 7),\n",
       " (10, 1, 7, 7),\n",
       " (10, 1, 7, 7),\n",
       " (10, 1, 7, 7),\n",
       " (10, 1, 7, 7),\n",
       " (10, 26, 7, 7))"
      ]
     },
     "execution_count": 45,
     "metadata": {},
     "output_type": "execute_result"
    }
   ],
   "source": [
    "h = detector_model.forward(x)\n",
    "px, py, pw, ph, pconf, pprob = np.array_split(h.data, indices_or_sections=(1,2,3,4,5), axis=1)\n",
    "\n",
    "px.shape, py.shape, pw.shape, ph.shape, pconf.shape, pprob.shape"
   ]
  },
  {
   "cell_type": "code",
   "execution_count": 46,
   "metadata": {
    "collapsed": false
   },
   "outputs": [
    {
     "data": {
      "text/plain": [
       "numpy.ndarray"
      ]
     },
     "execution_count": 46,
     "metadata": {},
     "output_type": "execute_result"
    }
   ],
   "source": [
    "type(px)"
   ]
  },
  {
   "cell_type": "code",
   "execution_count": 48,
   "metadata": {
    "collapsed": false
   },
   "outputs": [
    {
     "data": {
      "image/png": "[encoded data removed]",
      "text/plain": [
       "<matplotlib.figure.Figure at 0x15b536910>"
      ]
     },
     "metadata": {},
     "output_type": "display_data"
    }
   ],
   "source": [
    "fig, axes = plt.subplots(1, 6, figsize=(18, 6))\n",
    "axes[0].hist(px.flatten())\n",
    "axes[1].hist(py.flatten())\n",
    "axes[2].hist(pw.flatten())\n",
    "axes[3].hist(ph.flatten())\n",
    "axes[4].hist(ph.flatten())\n",
    "axes[5].hist(ph.flatten())\n",
    "pass"
   ]
  },
  {
   "cell_type": "code",
   "execution_count": 49,
   "metadata": {
    "collapsed": false
   },
   "outputs": [
    {
     "data": {
      "text/plain": [
       "((10, 1, 7, 7), (10, 1, 7, 7), (10, 1, 7, 7), (10, 1, 7, 7), (10, 26, 7, 7))"
      ]
     },
     "execution_count": 49,
     "metadata": {},
     "output_type": "execute_result"
    }
   ],
   "source": [
    "tx, ty, tw, th, tconf, tprob = np.array_split(ground_truth_tensors[0:batch_size], indices_or_sections=(1,2,3,4,5), axis=1)\n",
    "\n",
    "tx.shape, ty.shape, tw.shape, tconf.shape, tprob.shape"
   ]
  },
  {
   "cell_type": "code",
   "execution_count": 54,
   "metadata": {
    "collapsed": false
   },
   "outputs": [
    {
     "data": {
      "text/plain": [
       "((10, 26, 7, 7), (10, 26, 7, 7))"
      ]
     },
     "execution_count": 54,
     "metadata": {},
     "output_type": "execute_result"
    }
   ],
   "source": [
    "pprob.shape, tprob.shape"
   ]
  },
  {
   "cell_type": "code",
   "execution_count": 121,
   "metadata": {
    "collapsed": false
   },
   "outputs": [
    {
     "data": {
      "text/plain": [
       "array([[2],\n",
       "       [5]])"
      ]
     },
     "execution_count": 121,
     "metadata": {},
     "output_type": "execute_result"
    }
   ],
   "source": [
    "np.argwhere(np.array([0,0,1,0,0,1,0,0]) > 0)"
   ]
  },
  {
   "cell_type": "code",
   "execution_count": 119,
   "metadata": {
    "collapsed": false
   },
   "outputs": [
    {
     "data": {
      "text/plain": [
       "array([ 0.,  1.,  0.,  0.,  0.,  0.,  0.,  0.,  0.,  0.,  0.,  0.,  0.,\n",
       "        0.,  0.,  0.,  0.,  0.,  0.,  0.,  0.,  0.,  0.,  0.,  0.,  0.], dtype=float32)"
      ]
     },
     "execution_count": 119,
     "metadata": {},
     "output_type": "execute_result"
    }
   ],
   "source": [
    "tprob[0][:,5,3]"
   ]
  },
  {
   "cell_type": "code",
   "execution_count": 116,
   "metadata": {
    "collapsed": false
   },
   "outputs": [
    {
     "data": {
      "text/plain": [
       "array([[0, 0, 0, 0, 0, 0, 0],\n",
       "       [0, 0, 0, 0, 0, 0, 0],\n",
       "       [0, 0, 0, 0, 0, 0, 0],\n",
       "       [0, 0, 0, 0, 0, 0, 0],\n",
       "       [0, 0, 0, 0, 0, 0, 0],\n",
       "       [0, 0, 0, 1, 0, 0, 0],\n",
       "       [0, 0, 0, 0, 0, 0, 0]], dtype=int32)"
      ]
     },
     "execution_count": 116,
     "metadata": {},
     "output_type": "execute_result"
    }
   ],
   "source": [
    "tprob[0].argmax(axis=0).astype(np.int32)"
   ]
  },
  {
   "cell_type": "code",
   "execution_count": 96,
   "metadata": {
    "collapsed": false
   },
   "outputs": [
    {
     "data": {
      "text/plain": [
       "((10, 26, 7, 7), (10, 26, 7, 7))"
      ]
     },
     "execution_count": 96,
     "metadata": {},
     "output_type": "execute_result"
    }
   ],
   "source": [
    "pprob.shape, tprob.shape"
   ]
  },
  {
   "cell_type": "code",
   "execution_count": 113,
   "metadata": {
    "collapsed": false
   },
   "outputs": [
    {
     "data": {
      "text/plain": [
       "(10, 7, 7)"
      ]
     },
     "execution_count": 113,
     "metadata": {},
     "output_type": "execute_result"
    }
   ],
   "source": [
    "chainer.Variable(tprob.sum(axis=1).astype(np.int32)).shape"
   ]
  },
  {
   "cell_type": "code",
   "execution_count": 114,
   "metadata": {
    "collapsed": false
   },
   "outputs": [
    {
     "data": {
      "text/plain": [
       "array(3.2979605197906494, dtype=float32)"
      ]
     },
     "execution_count": 114,
     "metadata": {},
     "output_type": "execute_result"
    }
   ],
   "source": [
    "F.softmax_cross_entropy(F.sigmoid(pprob), chainer.Variable(tprob.sum(axis=1).astype(np.int32))).data"
   ]
  },
  {
   "cell_type": "code",
   "execution_count": 112,
   "metadata": {
    "collapsed": true
   },
   "outputs": [],
   "source": [
    "F.softmax_cross_entropy?"
   ]
  },
  {
   "cell_type": "code",
   "execution_count": 52,
   "metadata": {
    "collapsed": false
   },
   "outputs": [
    {
     "data": {
      "text/plain": [
       "0.7310586"
      ]
     },
     "execution_count": 52,
     "metadata": {},
     "output_type": "execute_result"
    }
   ],
   "source": [
    "np.max(F.sigmoid(tconf).data)"
   ]
  },
  {
   "cell_type": "code",
   "execution_count": 53,
   "metadata": {
    "collapsed": false
   },
   "outputs": [
    {
     "data": {
      "text/plain": [
       "array([[[ 0.,  0.,  0.,  0.,  0.,  0.,  0.],\n",
       "        [ 0.,  0.,  0.,  0.,  0.,  0.,  0.],\n",
       "        [ 0.,  0.,  0.,  0.,  0.,  0.,  0.],\n",
       "        [ 0.,  0.,  0.,  0.,  0.,  0.,  0.],\n",
       "        [ 0.,  0.,  0.,  0.,  0.,  0.,  0.],\n",
       "        [ 0.,  0.,  0.,  1.,  0.,  0.,  0.],\n",
       "        [ 0.,  0.,  0.,  0.,  0.,  0.,  0.]]], dtype=float32)"
      ]
     },
     "execution_count": 53,
     "metadata": {},
     "output_type": "execute_result"
    }
   ],
   "source": [
    "tconf[0]"
   ]
  },
  {
   "cell_type": "code",
   "execution_count": null,
   "metadata": {
    "collapsed": false
   },
   "outputs": [],
   "source": [
    "tx[tconf != 1.0] = 0.5\n",
    "\n",
    "tx[0]"
   ]
  },
  {
   "cell_type": "code",
   "execution_count": null,
   "metadata": {
    "collapsed": false
   },
   "outputs": [],
   "source": [
    "np.sum(((tx - px)**2))"
   ]
  },
  {
   "cell_type": "code",
   "execution_count": null,
   "metadata": {
    "collapsed": false
   },
   "outputs": [],
   "source": [
    "box_learning_scale = np.tile(0.1, tx.shape)\n",
    "box_learning_scale[tconf == 1.0] = 1.0\n",
    "\n",
    "box_learning_scale[0]"
   ]
  },
  {
   "cell_type": "code",
   "execution_count": null,
   "metadata": {
    "collapsed": false
   },
   "outputs": [],
   "source": [
    "(box_learning_scale * ((tx - px)**2)).data[0]"
   ]
  },
  {
   "cell_type": "code",
   "execution_count": null,
   "metadata": {
    "collapsed": false
   },
   "outputs": [],
   "source": [
    "F.sum(box_learning_scale * ((tx - px)**2)).data"
   ]
  },
  {
   "cell_type": "code",
   "execution_count": null,
   "metadata": {
    "collapsed": false
   },
   "outputs": [],
   "source": [
    "tprob[0][12,:,:]"
   ]
  },
  {
   "cell_type": "code",
   "execution_count": null,
   "metadata": {
    "collapsed": false
   },
   "outputs": [],
   "source": [
    "_tprob = pprob.data.copy()\n",
    "_tprob[tprob == 1.0] = 1.0\n",
    "_tprob[0][12,:,:]"
   ]
  },
  {
   "cell_type": "code",
   "execution_count": null,
   "metadata": {
    "collapsed": false
   },
   "outputs": [],
   "source": [
    "((_tprob - pprob)**2).data[0][12,:,:]"
   ]
  },
  {
   "cell_type": "code",
   "execution_count": null,
   "metadata": {
    "collapsed": false
   },
   "outputs": [],
   "source": [
    "F.sum((_tprob - pprob)**2).data"
   ]
  },
  {
   "cell_type": "code",
   "execution_count": null,
   "metadata": {
    "collapsed": false
   },
   "outputs": [],
   "source": [
    "_tprob_err = F.reshape(F.sum(((_tprob - pprob) ** 2), axis=1), tconf.shape)\n",
    "_tprob_err.data[0]"
   ]
  },
  {
   "cell_type": "code",
   "execution_count": null,
   "metadata": {
    "collapsed": false
   },
   "outputs": [],
   "source": [
    "prob_learning_scale = np.tile(0.0, tconf.shape)\n",
    "prob_learning_scale[tconf == 1.0] = 1.0"
   ]
  },
  {
   "cell_type": "code",
   "execution_count": null,
   "metadata": {
    "collapsed": false
   },
   "outputs": [],
   "source": [
    "F.sum(prob_learning_scale * F.reshape(F.sum(((_tprob - pprob) ** 2), axis=1), tconf.shape)).data"
   ]
  },
  {
   "cell_type": "markdown",
   "metadata": {
    "collapsed": true
   },
   "source": [
    "## 推論結果を検出座標に変換"
   ]
  },
  {
   "cell_type": "code",
   "execution_count": null,
   "metadata": {
    "collapsed": false
   },
   "outputs": [],
   "source": [
    "_px = F.reshape(px, (batch_size, N_GRID, N_GRID)).data\n",
    "_py = F.reshape(py, (batch_size, N_GRID, N_GRID)).data\n",
    "_pw = F.reshape(pw, (batch_size, N_GRID, N_GRID)).data\n",
    "_ph = F.reshape(ph, (batch_size, N_GRID, N_GRID)).data\n",
    "_pconf = F.reshape(pconf, (batch_size, N_GRID, N_GRID)).data\n",
    "_pprob = pprob.data\n",
    "\n",
    "_px.shape, _py.shape, _pw.shape, _ph.shape, _pconf.shape, _pprob.shape"
   ]
  },
  {
   "cell_type": "code",
   "execution_count": null,
   "metadata": {
    "collapsed": false
   },
   "outputs": [],
   "source": [
    "_pobj = (_pprob[0] * _pconf[0]).transpose(1,2,0)\n",
    "_pobj[1,3]"
   ]
  },
  {
   "cell_type": "code",
   "execution_count": null,
   "metadata": {
    "collapsed": false
   },
   "outputs": [],
   "source": [
    "_class_probs = _pprob[0] * _pconf[0]\n",
    "_max_class_probs_map = _class_probs.max(axis=0)\n",
    "_max_class_probs_map"
   ]
  },
  {
   "cell_type": "code",
   "execution_count": null,
   "metadata": {
    "collapsed": false
   },
   "outputs": [],
   "source": [
    "_candidate_map = _class_probs.max(axis=0) > 0.8\n",
    "_candidate_label_map = _class_probs.argmax(axis=0)"
   ]
  },
  {
   "cell_type": "code",
   "execution_count": null,
   "metadata": {
    "collapsed": false
   },
   "outputs": [],
   "source": [
    "_candidate_map"
   ]
  },
  {
   "cell_type": "code",
   "execution_count": null,
   "metadata": {
    "collapsed": false
   },
   "outputs": [],
   "source": [
    "[{'x': point[0], 'y': point[1]} for point in np.argwhere(_candidate_map == True)]"
   ]
  },
  {
   "cell_type": "code",
   "execution_count": null,
   "metadata": {
    "collapsed": false
   },
   "outputs": [],
   "source": [
    "_candidate_label_map"
   ]
  },
  {
   "cell_type": "code",
   "execution_count": null,
   "metadata": {
    "collapsed": false
   },
   "outputs": [],
   "source": [
    "_class_probs.max(axis=0)[_candidate_map]"
   ]
  },
  {
   "cell_type": "code",
   "execution_count": null,
   "metadata": {
    "collapsed": false
   },
   "outputs": [],
   "source": [
    "_candidate_label_map[_candidate_map]"
   ]
  },
  {
   "cell_type": "code",
   "execution_count": null,
   "metadata": {
    "collapsed": false
   },
   "outputs": [],
   "source": [
    "_pprob[0].transpose(1,2,0)[_candidate_map][0].max() * _pconf[0][_candidate_map][0]"
   ]
  },
  {
   "cell_type": "code",
   "execution_count": null,
   "metadata": {
    "collapsed": false
   },
   "outputs": [],
   "source": [
    "_pprob[0].transpose(1,2,0)[_candidate_map][0].argmax()"
   ]
  },
  {
   "cell_type": "code",
   "execution_count": null,
   "metadata": {
    "collapsed": false
   },
   "outputs": [],
   "source": [
    "def __select_candidates(self, px, py, pw, ph, pconf, pprob, class_prob_thresh):\n",
    "    class_prob_map = pprob * pconf # クラス確率を算出 (N_CLASSES,N_GRID,N_GRID)\n",
    "    candidate_map = class_prob_map.max(axis=0) > class_prob_thresh # グリッド候補 (N_GRID,N_GRID)\n",
    "    candidate_class_map = class_prob_map.argmax(axis=0) # グリッド候補のクラス (N_GRID,N_GRID)\n",
    "    active_grid_cells = [{'x': point[0], 'y': point[1]} for point in np.argwhere(_candidate_map)] # グリッド候補の位置\n",
    "    candidates = []\n",
    "    for i in range(0, candidate_map.sum()):\n",
    "        candidates.append({\n",
    "            'box': Box(px[candidate_map][i], py[candidate_map][i],\n",
    "                       pw[candidate_map][i], ph[candidate_map][i]),\n",
    "            #'conf': pconf[candidate_map][i],\n",
    "            #'prob': pprob.transpose(1,2,0)[candidate_map][i],\n",
    "            'objectness': class_prob_map.max(axis=0)[candidate_map][i],\n",
    "            'class': candidate_class_map[candidate_map][i],\n",
    "            'active_grid_cell': active_grid_cells[i]\n",
    "        })\n",
    "    return candidates"
   ]
  },
  {
   "cell_type": "code",
   "execution_count": null,
   "metadata": {
    "collapsed": true
   },
   "outputs": [],
   "source": [
    "def __nms(self, candidates, iou_thresh):\n",
    "    sorted(candidates, key=lambda x: x['objectness'], reverse=True)\n",
    "    winners = []\n",
    "\n",
    "    if len(candidates) == 0:\n",
    "        return winners\n",
    "\n",
    "    winners.append(candidates[0]) # 第１候補は必ず採用\n",
    "    for i in range(1, len(candidates)): # 第２候補以降は上位の候補とのIOU次第\n",
    "        for j in range(0, i):\n",
    "            if Box.iou(candidates[i]['box'], candidates[j]['box']) > iou_thresh:\n",
    "                break\n",
    "        else:\n",
    "            winners.append(candidates[i])\n",
    "    return winners"
   ]
  },
  {
   "cell_type": "code",
   "execution_count": null,
   "metadata": {
    "collapsed": false
   },
   "outputs": [],
   "source": [
    "i = 0\n",
    "candidates = __select_candidates(None, _px[i], _py[i], _pw[i], _ph[i], _pconf[i], _pprob[i], 0.9)\n",
    "winners = __nms(None, candidates, 0.3)\n",
    "\n",
    "len(candidates), len(winners)"
   ]
  },
  {
   "cell_type": "code",
   "execution_count": null,
   "metadata": {
    "collapsed": false
   },
   "outputs": [],
   "source": [
    "winners"
   ]
  },
  {
   "cell_type": "code",
   "execution_count": null,
   "metadata": {
    "collapsed": false
   },
   "outputs": [],
   "source": [
    "def final_detection(result, real_width, real_height):\n",
    "    grid_size = INPUT_SIZE / N_GRID\n",
    "    pred_x = (result['box']).left\n",
    "    pred_y = (result['box']).top\n",
    "    pred_w = (result['box']).width\n",
    "    pred_h = (result['box']).height\n",
    "    active_grid_cell = result['active_grid_cell']\n",
    "    \n",
    "    return {\n",
    "        'x': (active_grid_cell['x'] + pred_x) * grid_size * real_width / INPUT_SIZE,\n",
    "        'y': (active_grid_cell['y'] + pred_y) * grid_size * real_height / INPUT_SIZE,\n",
    "        'width': pred_w * real_width,\n",
    "        'height': pred_h * real_height,\n",
    "        'class': result['class'],\n",
    "        'objectness': result['objectness']\n",
    "    }"
   ]
  },
  {
   "cell_type": "code",
   "execution_count": null,
   "metadata": {
    "collapsed": false
   },
   "outputs": [],
   "source": [
    "final_detection(winners[0], 1280, 960)"
   ]
  },
  {
   "cell_type": "code",
   "execution_count": null,
   "metadata": {
    "collapsed": true
   },
   "outputs": [],
   "source": [
    "def check_correct_detection(pred, truths):\n",
    "    # TODO: pred,truthsをBoxに変換\n",
    "    best_iou, best_truth = Box.best_iou(pred, truth)\n",
    "    if best_iou <= 0.5:\n",
    "        return False\n",
    "    if pred.class != best_truth.class\n",
    "        return False\n",
    "    return True"
   ]
  },
  {
   "cell_type": "code",
   "execution_count": null,
   "metadata": {
    "collapsed": false
   },
   "outputs": [],
   "source": [
    "positives = {str(i): {'true': 0, 'false': 0}  for i in range(0, N_CLASSES)}"
   ]
  },
  {
   "cell_type": "code",
   "execution_count": null,
   "metadata": {
    "collapsed": false
   },
   "outputs": [],
   "source": [
    "positives.items()"
   ]
  },
  {
   "cell_type": "code",
   "execution_count": null,
   "metadata": {
    "collapsed": false
   },
   "outputs": [],
   "source": [
    "def precision(tp, fp):\n",
    "    if tp == 0 and fp == 0:\n",
    "        return 0\n",
    "    else:\n",
    "        return float(tp) / (tp + fp)\n",
    "            \n",
    "\n",
    "average_precisions = {str(p[0]): precision(p[1]['true'], p[1]['false']) for p in positives.items()}\n",
    "\n",
    "len(average_precisions.values())"
   ]
  },
  {
   "cell_type": "code",
   "execution_count": null,
   "metadata": {
    "collapsed": false
   },
   "outputs": [],
   "source": [
    "import six\n",
    "for count in six.moves.range(0, 149, 10):\n",
    "    print (count)\n"
   ]
  },
  {
   "cell_type": "markdown",
   "metadata": {},
   "source": [
    "### モニタリングする指標\n",
    "- 検出数\n",
    "- mean average precision"
   ]
  },
  {
   "cell_type": "code",
   "execution_count": null,
   "metadata": {
    "collapsed": false
   },
   "outputs": [],
   "source": [
    "arr = np.asarray([Box(1,2,3,4), Box(5,6,7,8)])\n",
    "type(arr)"
   ]
  },
  {
   "cell_type": "code",
   "execution_count": null,
   "metadata": {
    "collapsed": false
   },
   "outputs": [],
   "source": [
    "np.savez('foo.npz', data=arr)\n",
    "arr2 = np.load('foo.npz')\n",
    "\n",
    "for box in arr2['data']:\n",
    "    print (box.vertex[0], box.width, box.height)"
   ]
  },
  {
   "cell_type": "markdown",
   "metadata": {
    "collapsed": true
   },
   "source": [
    "### Boxクラス\n",
    "- x\n",
    "- y\n",
    "- width\n",
    "- height\n",
    "\n",
    "### Ground Truthクラス\n",
    "- width\n",
    "- height\n",
    "- bounding_boxes\n",
    "  - box\n",
    "  - class\n",
    "  - objectness\n"
   ]
  },
  {
   "cell_type": "code",
   "execution_count": null,
   "metadata": {
    "collapsed": false
   },
   "outputs": [],
   "source": [
    "[x + 1\n",
    "    for x in np.arange(0,5)]"
   ]
  },
  {
   "cell_type": "code",
   "execution_count": null,
   "metadata": {
    "collapsed": false
   },
   "outputs": [],
   "source": [
    "np.random.rand((1,3,5,5)).shape"
   ]
  },
  {
   "cell_type": "code",
   "execution_count": null,
   "metadata": {
    "collapsed": false
   },
   "outputs": [],
   "source": [
    "a = np.arange(1, 6)\n",
    "a[1:]"
   ]
  },
  {
   "cell_type": "code",
   "execution_count": null,
   "metadata": {
    "collapsed": false
   },
   "outputs": [],
   "source": [
    "for i, item in enumerate(a[1:], 1):\n",
    "    print(i, item)"
   ]
  },
  {
   "cell_type": "code",
   "execution_count": null,
   "metadata": {
    "collapsed": false
   },
   "outputs": [],
   "source": [
    "b = np.arange(11, 16)\n",
    "b"
   ]
  },
  {
   "cell_type": "code",
   "execution_count": null,
   "metadata": {
    "collapsed": false
   },
   "outputs": [],
   "source": [
    "for i, (a, b) in enumerate(zip(a, b), 1):\n",
    "    print (i, a, b)"
   ]
  },
  {
   "cell_type": "code",
   "execution_count": null,
   "metadata": {
    "collapsed": false
   },
   "outputs": [],
   "source": [
    "np.sort(b)[::-1]"
   ]
  },
  {
   "cell_type": "code",
   "execution_count": null,
   "metadata": {
    "collapsed": false
   },
   "outputs": [],
   "source": [
    "import itertools\n",
    "for _a, _b in itertools.product(a, b):\n",
    "    print(_a, _b)"
   ]
  },
  {
   "cell_type": "code",
   "execution_count": null,
   "metadata": {
    "collapsed": false
   },
   "outputs": [],
   "source": [
    "a = [1,2,3,4,5]\n",
    "type(a)"
   ]
  },
  {
   "cell_type": "code",
   "execution_count": null,
   "metadata": {
    "collapsed": false
   },
   "outputs": [],
   "source": [
    "a = [0.2, 0.1, 0.5, 0.9, 0.8]\n",
    "np.asarray(a).mean()"
   ]
  },
  {
   "cell_type": "code",
   "execution_count": null,
   "metadata": {
    "collapsed": false
   },
   "outputs": [],
   "source": [
    "750 * (3.5+3.5)"
   ]
  },
  {
   "cell_type": "code",
   "execution_count": null,
   "metadata": {
    "collapsed": false
   },
   "outputs": [],
   "source": [
    "loss = chainer.Variable(xp.asarray([0.]).astype(np.float32))\n",
    "loss.data"
   ]
  },
  {
   "cell_type": "code",
   "execution_count": null,
   "metadata": {
    "collapsed": false
   },
   "outputs": [],
   "source": [
    "px, py, pw, ph, pconf, pprob \\\n",
    "        = np.array_split(h.data, indices_or_sections=(1,2,3,4,5), axis=1)"
   ]
  },
  {
   "cell_type": "code",
   "execution_count": null,
   "metadata": {
    "collapsed": false
   },
   "outputs": [],
   "source": [
    "h2 = h.data.copy()\n",
    "h2.shape"
   ]
  },
  {
   "cell_type": "code",
   "execution_count": null,
   "metadata": {
    "collapsed": true
   },
   "outputs": [],
   "source": [
    "px, py, pw, ph, pconf, pprob \\\n",
    "        = np.array_split(h2, indices_or_sections=(1,2,3,4,5), axis=1)"
   ]
  },
  {
   "cell_type": "code",
   "execution_count": null,
   "metadata": {
    "collapsed": false
   },
   "outputs": [],
   "source": [
    "px[0][0][_candidate_map]"
   ]
  },
  {
   "cell_type": "code",
   "execution_count": null,
   "metadata": {
    "collapsed": false
   },
   "outputs": [],
   "source": [
    "px0 = px[0]\n",
    "px0.shape"
   ]
  },
  {
   "cell_type": "code",
   "execution_count": null,
   "metadata": {
    "collapsed": false
   },
   "outputs": [],
   "source": [
    "px0 = px0.reshape(px0.shape[1:])\n",
    "px0.shape"
   ]
  },
  {
   "cell_type": "code",
   "execution_count": null,
   "metadata": {
    "collapsed": false
   },
   "outputs": [],
   "source": [
    "a = F.sum(xp.asarray([1.0]))\n",
    "a.data"
   ]
  },
  {
   "cell_type": "code",
   "execution_count": null,
   "metadata": {
    "collapsed": true
   },
   "outputs": [],
   "source": [
    "np.reshape?"
   ]
  },
  {
   "cell_type": "code",
   "execution_count": null,
   "metadata": {
    "collapsed": false
   },
   "outputs": [],
   "source": [
    "h2.shape"
   ]
  },
  {
   "cell_type": "code",
   "execution_count": null,
   "metadata": {
    "collapsed": false
   },
   "outputs": [],
   "source": [
    "h3 = h2[0]\n",
    "h3.shape"
   ]
  },
  {
   "cell_type": "code",
   "execution_count": null,
   "metadata": {
    "collapsed": false
   },
   "outputs": [],
   "source": [
    "px, py, pw, ph, pconf, pprob \\\n",
    "        = np.array_split(h3, indices_or_sections=(1,2,3,4,5), axis=0)\n",
    "px.shape"
   ]
  },
  {
   "cell_type": "code",
   "execution_count": null,
   "metadata": {
    "collapsed": false
   },
   "outputs": [],
   "source": [
    "np.tile(True, (N_GRID, N_GRID))"
   ]
  },
  {
   "cell_type": "code",
   "execution_count": null,
   "metadata": {
    "collapsed": true
   },
   "outputs": [],
   "source": [
    "class Point():\n",
    "    def __init__(self, x, y):\n",
    "        self.x = x\n",
    "        self.y = y\n",
    "\n",
    "    def __repr__(self):\n",
    "        return '<Point x:%4.1f y:%4.1f>' % (self.x, self.y)"
   ]
  },
  {
   "cell_type": "code",
   "execution_count": null,
   "metadata": {
    "collapsed": false
   },
   "outputs": [],
   "source": [
    "grid_cells = [Point(x=float(point[1]), y=float(point[0]))\n",
    "                for point in np.argwhere(np.tile(True, (N_GRID, N_GRID)))]"
   ]
  },
  {
   "cell_type": "code",
   "execution_count": null,
   "metadata": {
    "collapsed": false
   },
   "outputs": [],
   "source": [
    "grid_cells"
   ]
  },
  {
   "cell_type": "code",
   "execution_count": 115,
   "metadata": {
    "collapsed": false
   },
   "outputs": [
    {
     "data": {
      "text/plain": [
       "(1, 0)"
      ]
     },
     "execution_count": 115,
     "metadata": {},
     "output_type": "execute_result"
    }
   ],
   "source": [
    "int(True), int(False)"
   ]
  },
  {
   "cell_type": "code",
   "execution_count": 144,
   "metadata": {
    "collapsed": false
   },
   "outputs": [
    {
     "data": {
      "text/plain": [
       "0.23137821315975918"
      ]
     },
     "execution_count": 144,
     "metadata": {},
     "output_type": "execute_result"
    }
   ],
   "source": [
    "math.log10(20 - 18) / math.log10(20)"
   ]
  },
  {
   "cell_type": "code",
   "execution_count": null,
   "metadata": {
    "collapsed": true
   },
   "outputs": [],
   "source": []
  }
 ],
 "metadata": {
  "anaconda-cloud": {},
  "kernelspec": {
   "display_name": "Python 2",
   "language": "python",
   "name": "python2"
  },
  "language_info": {
   "codemirror_mode": {
    "name": "ipython",
    "version": 2
   },
   "file_extension": ".py",
   "mimetype": "text/x-python",
   "name": "python",
   "nbconvert_exporter": "python",
   "pygments_lexer": "ipython2",
   "version": "2.7.13"
  }
 },
 "nbformat": 4,
 "nbformat_minor": 2
}
